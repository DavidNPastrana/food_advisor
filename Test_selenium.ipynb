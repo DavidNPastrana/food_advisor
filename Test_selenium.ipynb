{
 "cells": [
  {
   "cell_type": "code",
   "execution_count": 1,
   "id": "b4bfdc83",
   "metadata": {},
   "outputs": [],
   "source": [
    "import pandas as pd\n",
    "\n",
    "import numpy as np"
   ]
  },
  {
   "cell_type": "code",
   "execution_count": 2,
   "id": "c2bf86b0",
   "metadata": {},
   "outputs": [],
   "source": [
    "pd.set_option('display.max_rows', None)"
   ]
  },
  {
   "cell_type": "code",
   "execution_count": 3,
   "id": "c7b2f416",
   "metadata": {},
   "outputs": [],
   "source": [
    "food = pd.read_csv(\"/Users/david/Desktop/IronHack/Projects/food_advisor/raw/1_150.csv\")"
   ]
  },
  {
   "cell_type": "code",
   "execution_count": 4,
   "id": "498d2491",
   "metadata": {},
   "outputs": [
    {
     "data": {
      "text/html": [
       "<div>\n",
       "<style scoped>\n",
       "    .dataframe tbody tr th:only-of-type {\n",
       "        vertical-align: middle;\n",
       "    }\n",
       "\n",
       "    .dataframe tbody tr th {\n",
       "        vertical-align: top;\n",
       "    }\n",
       "\n",
       "    .dataframe thead th {\n",
       "        text-align: right;\n",
       "    }\n",
       "</style>\n",
       "<table border=\"1\" class=\"dataframe\">\n",
       "  <thead>\n",
       "    <tr style=\"text-align: right;\">\n",
       "      <th></th>\n",
       "      <th>Unnamed: 0</th>\n",
       "      <th>Product Name</th>\n",
       "      <th>Brands</th>\n",
       "      <th>NOVA 4</th>\n",
       "      <th>Nutri-Score</th>\n",
       "      <th>Countries</th>\n",
       "      <th>Additives</th>\n",
       "      <th>Eco-Score</th>\n",
       "      <th>Energía</th>\n",
       "      <th>Grasas saturadas</th>\n",
       "      <th>Azúcares</th>\n",
       "    </tr>\n",
       "  </thead>\n",
       "  <tbody>\n",
       "    <tr>\n",
       "      <th>0</th>\n",
       "      <td>0</td>\n",
       "      <td>Nutella - Ferrero - 400 g</td>\n",
       "      <td>Ferrero</td>\n",
       "      <td>Alimentos ultraprocesados</td>\n",
       "      <td>E</td>\n",
       "      <td>Bélgica, Francia, Alemania, Italia, Luxemburgo...</td>\n",
       "      <td>E322 - Lecitinas, E322i - Lecitina</td>\n",
       "      <td>Eco-Score D</td>\n",
       "      <td>2252 kj(539 kcal)</td>\n",
       "      <td>10,6 g</td>\n",
       "      <td>56,3 g</td>\n",
       "    </tr>\n",
       "    <tr>\n",
       "      <th>1</th>\n",
       "      <td>1</td>\n",
       "      <td>Prince chocolate - Lu - 300 g</td>\n",
       "      <td>Lu, Mondelez</td>\n",
       "      <td>Alimentos ultraprocesados</td>\n",
       "      <td>D</td>\n",
       "      <td>Argelia, Bélgica, Francia, Polinesia Francesa,...</td>\n",
       "      <td>E322 - Lecitinas, E322i - Lecitina, E500 - Car...</td>\n",
       "      <td>Eco-Score C</td>\n",
       "      <td>1962 kj(467 kcal)</td>\n",
       "      <td>5,6 g</td>\n",
       "      <td>32 g</td>\n",
       "    </tr>\n",
       "    <tr>\n",
       "      <th>2</th>\n",
       "      <td>2</td>\n",
       "      <td>Coca-Cola - 330 mL</td>\n",
       "      <td>Coca cola</td>\n",
       "      <td>Alimentos ultraprocesados</td>\n",
       "      <td>E</td>\n",
       "      <td>Bélgica, Francia, Alemania, Hungría, Italia, S...</td>\n",
       "      <td>E150d - Caramelo de sulfito amónico, E338 - Ác...</td>\n",
       "      <td>Eco-Score aún no aplicable</td>\n",
       "      <td>180 kj(42 kcal)</td>\n",
       "      <td>0 g</td>\n",
       "      <td>10,6 g</td>\n",
       "    </tr>\n",
       "    <tr>\n",
       "      <th>3</th>\n",
       "      <td>3</td>\n",
       "      <td>Nutella - Ferrero - 1 kg</td>\n",
       "      <td>Ferrero</td>\n",
       "      <td>Alimentos ultraprocesados</td>\n",
       "      <td>E</td>\n",
       "      <td>Argelia, Bélgica, Francia, Alemania, Guadalupe...</td>\n",
       "      <td>E322 - Lecitinas, E322i - Lecitina</td>\n",
       "      <td>Eco-Score D</td>\n",
       "      <td>2252 kj(539 kcal)</td>\n",
       "      <td>10,6 g</td>\n",
       "      <td>56,3 g</td>\n",
       "    </tr>\n",
       "    <tr>\n",
       "      <th>4</th>\n",
       "      <td>4</td>\n",
       "      <td>Coca-Cola zero - 330 ml</td>\n",
       "      <td>Coca-Cola</td>\n",
       "      <td>Alimentos ultraprocesados</td>\n",
       "      <td>B</td>\n",
       "      <td>Bélgica, Francia, Alemania, Hungría, Italia, E...</td>\n",
       "      <td>E150d - Caramelo de sulfito amónico, E331 - Ci...</td>\n",
       "      <td>Eco-Score aún no aplicable</td>\n",
       "      <td>1 kj(0 kcal)</td>\n",
       "      <td>0 g</td>\n",
       "      <td>0 g</td>\n",
       "    </tr>\n",
       "  </tbody>\n",
       "</table>\n",
       "</div>"
      ],
      "text/plain": [
       "   Unnamed: 0                   Product Name        Brands  \\\n",
       "0           0      Nutella - Ferrero - 400 g       Ferrero   \n",
       "1           1  Prince chocolate - Lu - 300 g  Lu, Mondelez   \n",
       "2           2             Coca-Cola - 330 mL     Coca cola   \n",
       "3           3       Nutella - Ferrero - 1 kg       Ferrero   \n",
       "4           4        Coca-Cola zero - 330 ml     Coca-Cola   \n",
       "\n",
       "                      NOVA 4 Nutri-Score  \\\n",
       "0  Alimentos ultraprocesados           E   \n",
       "1  Alimentos ultraprocesados           D   \n",
       "2  Alimentos ultraprocesados           E   \n",
       "3  Alimentos ultraprocesados           E   \n",
       "4  Alimentos ultraprocesados           B   \n",
       "\n",
       "                                           Countries  \\\n",
       "0  Bélgica, Francia, Alemania, Italia, Luxemburgo...   \n",
       "1  Argelia, Bélgica, Francia, Polinesia Francesa,...   \n",
       "2  Bélgica, Francia, Alemania, Hungría, Italia, S...   \n",
       "3  Argelia, Bélgica, Francia, Alemania, Guadalupe...   \n",
       "4  Bélgica, Francia, Alemania, Hungría, Italia, E...   \n",
       "\n",
       "                                           Additives  \\\n",
       "0                 E322 - Lecitinas, E322i - Lecitina   \n",
       "1  E322 - Lecitinas, E322i - Lecitina, E500 - Car...   \n",
       "2  E150d - Caramelo de sulfito amónico, E338 - Ác...   \n",
       "3                 E322 - Lecitinas, E322i - Lecitina   \n",
       "4  E150d - Caramelo de sulfito amónico, E331 - Ci...   \n",
       "\n",
       "                    Eco-Score            Energía Grasas saturadas Azúcares  \n",
       "0                 Eco-Score D  2252 kj(539 kcal)           10,6 g   56,3 g  \n",
       "1                 Eco-Score C  1962 kj(467 kcal)            5,6 g     32 g  \n",
       "2  Eco-Score aún no aplicable    180 kj(42 kcal)              0 g   10,6 g  \n",
       "3                 Eco-Score D  2252 kj(539 kcal)           10,6 g   56,3 g  \n",
       "4  Eco-Score aún no aplicable       1 kj(0 kcal)              0 g      0 g  "
      ]
     },
     "execution_count": 4,
     "metadata": {},
     "output_type": "execute_result"
    }
   ],
   "source": [
    "food.head()"
   ]
  },
  {
   "cell_type": "code",
   "execution_count": 5,
   "id": "aca57b31",
   "metadata": {},
   "outputs": [
    {
     "data": {
      "text/plain": [
       "(14800, 11)"
      ]
     },
     "execution_count": 5,
     "metadata": {},
     "output_type": "execute_result"
    }
   ],
   "source": [
    "food.shape"
   ]
  },
  {
   "cell_type": "code",
   "execution_count": 6,
   "id": "aa3df62c",
   "metadata": {
    "scrolled": true
   },
   "outputs": [
    {
     "name": "stdout",
     "output_type": "stream",
     "text": [
      "<class 'pandas.core.frame.DataFrame'>\n",
      "RangeIndex: 14800 entries, 0 to 14799\n",
      "Data columns (total 11 columns):\n",
      " #   Column            Non-Null Count  Dtype \n",
      "---  ------            --------------  ----- \n",
      " 0   Unnamed: 0        14800 non-null  int64 \n",
      " 1   Product Name      14800 non-null  object\n",
      " 2   Brands            14800 non-null  object\n",
      " 3   NOVA 4            14800 non-null  object\n",
      " 4   Nutri-Score       14800 non-null  object\n",
      " 5   Countries         14800 non-null  object\n",
      " 6   Additives         14800 non-null  object\n",
      " 7   Eco-Score         14800 non-null  object\n",
      " 8   Energía           14009 non-null  object\n",
      " 9   Grasas saturadas  14006 non-null  object\n",
      " 10  Azúcares          14006 non-null  object\n",
      "dtypes: int64(1), object(10)\n",
      "memory usage: 1.2+ MB\n"
     ]
    }
   ],
   "source": [
    "food.info()"
   ]
  },
  {
   "cell_type": "code",
   "execution_count": 7,
   "id": "10c2b444",
   "metadata": {},
   "outputs": [],
   "source": [
    "# delete the column \"Unnamed: 0\"\n",
    "food.drop(\"Unnamed: 0\", axis=1, inplace=True)"
   ]
  },
  {
   "cell_type": "code",
   "execution_count": 8,
   "id": "edd45656",
   "metadata": {},
   "outputs": [
    {
     "data": {
      "text/plain": [
       "(24, 10)"
      ]
     },
     "execution_count": 8,
     "metadata": {},
     "output_type": "execute_result"
    }
   ],
   "source": [
    "# check duplicated rows\n",
    "\n",
    "food[food.duplicated()].shape"
   ]
  },
  {
   "cell_type": "code",
   "execution_count": 9,
   "id": "7dffe231",
   "metadata": {},
   "outputs": [],
   "source": [
    "# delete duplicated rows\n",
    "\n",
    "food.drop_duplicates(inplace=True)\n"
   ]
  },
  {
   "cell_type": "code",
   "execution_count": 10,
   "id": "fcec24b3",
   "metadata": {},
   "outputs": [
    {
     "data": {
      "text/plain": [
       "(0, 10)"
      ]
     },
     "execution_count": 10,
     "metadata": {},
     "output_type": "execute_result"
    }
   ],
   "source": [
    "# check duplicated rows again\n",
    "\n",
    "food[food.duplicated()].shape"
   ]
  },
  {
   "cell_type": "code",
   "execution_count": 11,
   "id": "e48c6bd4",
   "metadata": {},
   "outputs": [
    {
     "data": {
      "text/plain": [
       "(14776, 10)"
      ]
     },
     "execution_count": 11,
     "metadata": {},
     "output_type": "execute_result"
    }
   ],
   "source": [
    "food.shape"
   ]
  },
  {
   "cell_type": "code",
   "execution_count": 12,
   "id": "33b433d6",
   "metadata": {},
   "outputs": [
    {
     "data": {
      "text/html": [
       "<div>\n",
       "<style scoped>\n",
       "    .dataframe tbody tr th:only-of-type {\n",
       "        vertical-align: middle;\n",
       "    }\n",
       "\n",
       "    .dataframe tbody tr th {\n",
       "        vertical-align: top;\n",
       "    }\n",
       "\n",
       "    .dataframe thead th {\n",
       "        text-align: right;\n",
       "    }\n",
       "</style>\n",
       "<table border=\"1\" class=\"dataframe\">\n",
       "  <thead>\n",
       "    <tr style=\"text-align: right;\">\n",
       "      <th></th>\n",
       "      <th>Product Name</th>\n",
       "      <th>Brands</th>\n",
       "      <th>NOVA 4</th>\n",
       "      <th>Nutri-Score</th>\n",
       "      <th>Countries</th>\n",
       "      <th>Additives</th>\n",
       "      <th>Eco-Score</th>\n",
       "      <th>Energía</th>\n",
       "      <th>Grasas saturadas</th>\n",
       "      <th>Azúcares</th>\n",
       "    </tr>\n",
       "  </thead>\n",
       "  <tbody>\n",
       "    <tr>\n",
       "      <th>0</th>\n",
       "      <td>Nutella - Ferrero - 400 g</td>\n",
       "      <td>Ferrero</td>\n",
       "      <td>Alimentos ultraprocesados</td>\n",
       "      <td>E</td>\n",
       "      <td>Bélgica, Francia, Alemania, Italia, Luxemburgo...</td>\n",
       "      <td>E322 - Lecitinas, E322i - Lecitina</td>\n",
       "      <td>Eco-Score D</td>\n",
       "      <td>2252 kj(539 kcal)</td>\n",
       "      <td>10,6 g</td>\n",
       "      <td>56,3 g</td>\n",
       "    </tr>\n",
       "    <tr>\n",
       "      <th>1</th>\n",
       "      <td>Prince chocolate - Lu - 300 g</td>\n",
       "      <td>Lu, Mondelez</td>\n",
       "      <td>Alimentos ultraprocesados</td>\n",
       "      <td>D</td>\n",
       "      <td>Argelia, Bélgica, Francia, Polinesia Francesa,...</td>\n",
       "      <td>E322 - Lecitinas, E322i - Lecitina, E500 - Car...</td>\n",
       "      <td>Eco-Score C</td>\n",
       "      <td>1962 kj(467 kcal)</td>\n",
       "      <td>5,6 g</td>\n",
       "      <td>32 g</td>\n",
       "    </tr>\n",
       "    <tr>\n",
       "      <th>2</th>\n",
       "      <td>Coca-Cola - 330 mL</td>\n",
       "      <td>Coca cola</td>\n",
       "      <td>Alimentos ultraprocesados</td>\n",
       "      <td>E</td>\n",
       "      <td>Bélgica, Francia, Alemania, Hungría, Italia, S...</td>\n",
       "      <td>E150d - Caramelo de sulfito amónico, E338 - Ác...</td>\n",
       "      <td>Eco-Score aún no aplicable</td>\n",
       "      <td>180 kj(42 kcal)</td>\n",
       "      <td>0 g</td>\n",
       "      <td>10,6 g</td>\n",
       "    </tr>\n",
       "    <tr>\n",
       "      <th>3</th>\n",
       "      <td>Nutella - Ferrero - 1 kg</td>\n",
       "      <td>Ferrero</td>\n",
       "      <td>Alimentos ultraprocesados</td>\n",
       "      <td>E</td>\n",
       "      <td>Argelia, Bélgica, Francia, Alemania, Guadalupe...</td>\n",
       "      <td>E322 - Lecitinas, E322i - Lecitina</td>\n",
       "      <td>Eco-Score D</td>\n",
       "      <td>2252 kj(539 kcal)</td>\n",
       "      <td>10,6 g</td>\n",
       "      <td>56,3 g</td>\n",
       "    </tr>\n",
       "    <tr>\n",
       "      <th>4</th>\n",
       "      <td>Coca-Cola zero - 330 ml</td>\n",
       "      <td>Coca-Cola</td>\n",
       "      <td>Alimentos ultraprocesados</td>\n",
       "      <td>B</td>\n",
       "      <td>Bélgica, Francia, Alemania, Hungría, Italia, E...</td>\n",
       "      <td>E150d - Caramelo de sulfito amónico, E331 - Ci...</td>\n",
       "      <td>Eco-Score aún no aplicable</td>\n",
       "      <td>1 kj(0 kcal)</td>\n",
       "      <td>0 g</td>\n",
       "      <td>0 g</td>\n",
       "    </tr>\n",
       "  </tbody>\n",
       "</table>\n",
       "</div>"
      ],
      "text/plain": [
       "                    Product Name        Brands                     NOVA 4  \\\n",
       "0      Nutella - Ferrero - 400 g       Ferrero  Alimentos ultraprocesados   \n",
       "1  Prince chocolate - Lu - 300 g  Lu, Mondelez  Alimentos ultraprocesados   \n",
       "2             Coca-Cola - 330 mL     Coca cola  Alimentos ultraprocesados   \n",
       "3       Nutella - Ferrero - 1 kg       Ferrero  Alimentos ultraprocesados   \n",
       "4        Coca-Cola zero - 330 ml     Coca-Cola  Alimentos ultraprocesados   \n",
       "\n",
       "  Nutri-Score                                          Countries  \\\n",
       "0           E  Bélgica, Francia, Alemania, Italia, Luxemburgo...   \n",
       "1           D  Argelia, Bélgica, Francia, Polinesia Francesa,...   \n",
       "2           E  Bélgica, Francia, Alemania, Hungría, Italia, S...   \n",
       "3           E  Argelia, Bélgica, Francia, Alemania, Guadalupe...   \n",
       "4           B  Bélgica, Francia, Alemania, Hungría, Italia, E...   \n",
       "\n",
       "                                           Additives  \\\n",
       "0                 E322 - Lecitinas, E322i - Lecitina   \n",
       "1  E322 - Lecitinas, E322i - Lecitina, E500 - Car...   \n",
       "2  E150d - Caramelo de sulfito amónico, E338 - Ác...   \n",
       "3                 E322 - Lecitinas, E322i - Lecitina   \n",
       "4  E150d - Caramelo de sulfito amónico, E331 - Ci...   \n",
       "\n",
       "                    Eco-Score            Energía Grasas saturadas Azúcares  \n",
       "0                 Eco-Score D  2252 kj(539 kcal)           10,6 g   56,3 g  \n",
       "1                 Eco-Score C  1962 kj(467 kcal)            5,6 g     32 g  \n",
       "2  Eco-Score aún no aplicable    180 kj(42 kcal)              0 g   10,6 g  \n",
       "3                 Eco-Score D  2252 kj(539 kcal)           10,6 g   56,3 g  \n",
       "4  Eco-Score aún no aplicable       1 kj(0 kcal)              0 g      0 g  "
      ]
     },
     "execution_count": 12,
     "metadata": {},
     "output_type": "execute_result"
    }
   ],
   "source": [
    "food.head()"
   ]
  },
  {
   "cell_type": "code",
   "execution_count": 13,
   "id": "c4d50b28",
   "metadata": {},
   "outputs": [],
   "source": [
    "# make the name of the columns snake-case and lowercase\n",
    "\n",
    "food.rename(columns=lambda x: x.lower().replace(\" \", \"_\"), inplace=True)"
   ]
  },
  {
   "cell_type": "code",
   "execution_count": 14,
   "id": "7f134977",
   "metadata": {},
   "outputs": [
    {
     "data": {
      "text/html": [
       "<div>\n",
       "<style scoped>\n",
       "    .dataframe tbody tr th:only-of-type {\n",
       "        vertical-align: middle;\n",
       "    }\n",
       "\n",
       "    .dataframe tbody tr th {\n",
       "        vertical-align: top;\n",
       "    }\n",
       "\n",
       "    .dataframe thead th {\n",
       "        text-align: right;\n",
       "    }\n",
       "</style>\n",
       "<table border=\"1\" class=\"dataframe\">\n",
       "  <thead>\n",
       "    <tr style=\"text-align: right;\">\n",
       "      <th></th>\n",
       "      <th>product_name</th>\n",
       "      <th>brands</th>\n",
       "      <th>nova_4</th>\n",
       "      <th>nutri-score</th>\n",
       "      <th>countries</th>\n",
       "      <th>additives</th>\n",
       "      <th>eco-score</th>\n",
       "      <th>energía</th>\n",
       "      <th>grasas_saturadas</th>\n",
       "      <th>azúcares</th>\n",
       "    </tr>\n",
       "  </thead>\n",
       "  <tbody>\n",
       "    <tr>\n",
       "      <th>0</th>\n",
       "      <td>Nutella - Ferrero - 400 g</td>\n",
       "      <td>Ferrero</td>\n",
       "      <td>Alimentos ultraprocesados</td>\n",
       "      <td>E</td>\n",
       "      <td>Bélgica, Francia, Alemania, Italia, Luxemburgo...</td>\n",
       "      <td>E322 - Lecitinas, E322i - Lecitina</td>\n",
       "      <td>Eco-Score D</td>\n",
       "      <td>2252 kj(539 kcal)</td>\n",
       "      <td>10,6 g</td>\n",
       "      <td>56,3 g</td>\n",
       "    </tr>\n",
       "    <tr>\n",
       "      <th>1</th>\n",
       "      <td>Prince chocolate - Lu - 300 g</td>\n",
       "      <td>Lu, Mondelez</td>\n",
       "      <td>Alimentos ultraprocesados</td>\n",
       "      <td>D</td>\n",
       "      <td>Argelia, Bélgica, Francia, Polinesia Francesa,...</td>\n",
       "      <td>E322 - Lecitinas, E322i - Lecitina, E500 - Car...</td>\n",
       "      <td>Eco-Score C</td>\n",
       "      <td>1962 kj(467 kcal)</td>\n",
       "      <td>5,6 g</td>\n",
       "      <td>32 g</td>\n",
       "    </tr>\n",
       "    <tr>\n",
       "      <th>2</th>\n",
       "      <td>Coca-Cola - 330 mL</td>\n",
       "      <td>Coca cola</td>\n",
       "      <td>Alimentos ultraprocesados</td>\n",
       "      <td>E</td>\n",
       "      <td>Bélgica, Francia, Alemania, Hungría, Italia, S...</td>\n",
       "      <td>E150d - Caramelo de sulfito amónico, E338 - Ác...</td>\n",
       "      <td>Eco-Score aún no aplicable</td>\n",
       "      <td>180 kj(42 kcal)</td>\n",
       "      <td>0 g</td>\n",
       "      <td>10,6 g</td>\n",
       "    </tr>\n",
       "    <tr>\n",
       "      <th>3</th>\n",
       "      <td>Nutella - Ferrero - 1 kg</td>\n",
       "      <td>Ferrero</td>\n",
       "      <td>Alimentos ultraprocesados</td>\n",
       "      <td>E</td>\n",
       "      <td>Argelia, Bélgica, Francia, Alemania, Guadalupe...</td>\n",
       "      <td>E322 - Lecitinas, E322i - Lecitina</td>\n",
       "      <td>Eco-Score D</td>\n",
       "      <td>2252 kj(539 kcal)</td>\n",
       "      <td>10,6 g</td>\n",
       "      <td>56,3 g</td>\n",
       "    </tr>\n",
       "    <tr>\n",
       "      <th>4</th>\n",
       "      <td>Coca-Cola zero - 330 ml</td>\n",
       "      <td>Coca-Cola</td>\n",
       "      <td>Alimentos ultraprocesados</td>\n",
       "      <td>B</td>\n",
       "      <td>Bélgica, Francia, Alemania, Hungría, Italia, E...</td>\n",
       "      <td>E150d - Caramelo de sulfito amónico, E331 - Ci...</td>\n",
       "      <td>Eco-Score aún no aplicable</td>\n",
       "      <td>1 kj(0 kcal)</td>\n",
       "      <td>0 g</td>\n",
       "      <td>0 g</td>\n",
       "    </tr>\n",
       "  </tbody>\n",
       "</table>\n",
       "</div>"
      ],
      "text/plain": [
       "                    product_name        brands                     nova_4  \\\n",
       "0      Nutella - Ferrero - 400 g       Ferrero  Alimentos ultraprocesados   \n",
       "1  Prince chocolate - Lu - 300 g  Lu, Mondelez  Alimentos ultraprocesados   \n",
       "2             Coca-Cola - 330 mL     Coca cola  Alimentos ultraprocesados   \n",
       "3       Nutella - Ferrero - 1 kg       Ferrero  Alimentos ultraprocesados   \n",
       "4        Coca-Cola zero - 330 ml     Coca-Cola  Alimentos ultraprocesados   \n",
       "\n",
       "  nutri-score                                          countries  \\\n",
       "0           E  Bélgica, Francia, Alemania, Italia, Luxemburgo...   \n",
       "1           D  Argelia, Bélgica, Francia, Polinesia Francesa,...   \n",
       "2           E  Bélgica, Francia, Alemania, Hungría, Italia, S...   \n",
       "3           E  Argelia, Bélgica, Francia, Alemania, Guadalupe...   \n",
       "4           B  Bélgica, Francia, Alemania, Hungría, Italia, E...   \n",
       "\n",
       "                                           additives  \\\n",
       "0                 E322 - Lecitinas, E322i - Lecitina   \n",
       "1  E322 - Lecitinas, E322i - Lecitina, E500 - Car...   \n",
       "2  E150d - Caramelo de sulfito amónico, E338 - Ác...   \n",
       "3                 E322 - Lecitinas, E322i - Lecitina   \n",
       "4  E150d - Caramelo de sulfito amónico, E331 - Ci...   \n",
       "\n",
       "                    eco-score            energía grasas_saturadas azúcares  \n",
       "0                 Eco-Score D  2252 kj(539 kcal)           10,6 g   56,3 g  \n",
       "1                 Eco-Score C  1962 kj(467 kcal)            5,6 g     32 g  \n",
       "2  Eco-Score aún no aplicable    180 kj(42 kcal)              0 g   10,6 g  \n",
       "3                 Eco-Score D  2252 kj(539 kcal)           10,6 g   56,3 g  \n",
       "4  Eco-Score aún no aplicable       1 kj(0 kcal)              0 g      0 g  "
      ]
     },
     "execution_count": 14,
     "metadata": {},
     "output_type": "execute_result"
    }
   ],
   "source": [
    "food.head()"
   ]
  },
  {
   "cell_type": "code",
   "execution_count": 15,
   "id": "7a510355",
   "metadata": {},
   "outputs": [],
   "source": [
    "# change the name of the columns\n",
    "\n",
    "food.rename(columns={\n",
    "    \"grasas_saturadas\": \"saturated_fats\",\n",
    "    \"azúcares\": \"sugars\",\n",
    "    \"energía\": \"energy\"\n",
    "}, inplace=True)"
   ]
  },
  {
   "cell_type": "code",
   "execution_count": 16,
   "id": "3cd643e2",
   "metadata": {},
   "outputs": [
    {
     "data": {
      "text/html": [
       "<div>\n",
       "<style scoped>\n",
       "    .dataframe tbody tr th:only-of-type {\n",
       "        vertical-align: middle;\n",
       "    }\n",
       "\n",
       "    .dataframe tbody tr th {\n",
       "        vertical-align: top;\n",
       "    }\n",
       "\n",
       "    .dataframe thead th {\n",
       "        text-align: right;\n",
       "    }\n",
       "</style>\n",
       "<table border=\"1\" class=\"dataframe\">\n",
       "  <thead>\n",
       "    <tr style=\"text-align: right;\">\n",
       "      <th></th>\n",
       "      <th>product_name</th>\n",
       "      <th>brands</th>\n",
       "      <th>nova_4</th>\n",
       "      <th>nutri-score</th>\n",
       "      <th>countries</th>\n",
       "      <th>additives</th>\n",
       "      <th>eco-score</th>\n",
       "      <th>energy</th>\n",
       "      <th>saturated_fats</th>\n",
       "      <th>sugars</th>\n",
       "    </tr>\n",
       "  </thead>\n",
       "  <tbody>\n",
       "    <tr>\n",
       "      <th>0</th>\n",
       "      <td>Nutella - Ferrero - 400 g</td>\n",
       "      <td>Ferrero</td>\n",
       "      <td>Alimentos ultraprocesados</td>\n",
       "      <td>E</td>\n",
       "      <td>Bélgica, Francia, Alemania, Italia, Luxemburgo...</td>\n",
       "      <td>E322 - Lecitinas, E322i - Lecitina</td>\n",
       "      <td>Eco-Score D</td>\n",
       "      <td>2252 kj(539 kcal)</td>\n",
       "      <td>10,6 g</td>\n",
       "      <td>56,3 g</td>\n",
       "    </tr>\n",
       "    <tr>\n",
       "      <th>1</th>\n",
       "      <td>Prince chocolate - Lu - 300 g</td>\n",
       "      <td>Lu, Mondelez</td>\n",
       "      <td>Alimentos ultraprocesados</td>\n",
       "      <td>D</td>\n",
       "      <td>Argelia, Bélgica, Francia, Polinesia Francesa,...</td>\n",
       "      <td>E322 - Lecitinas, E322i - Lecitina, E500 - Car...</td>\n",
       "      <td>Eco-Score C</td>\n",
       "      <td>1962 kj(467 kcal)</td>\n",
       "      <td>5,6 g</td>\n",
       "      <td>32 g</td>\n",
       "    </tr>\n",
       "    <tr>\n",
       "      <th>2</th>\n",
       "      <td>Coca-Cola - 330 mL</td>\n",
       "      <td>Coca cola</td>\n",
       "      <td>Alimentos ultraprocesados</td>\n",
       "      <td>E</td>\n",
       "      <td>Bélgica, Francia, Alemania, Hungría, Italia, S...</td>\n",
       "      <td>E150d - Caramelo de sulfito amónico, E338 - Ác...</td>\n",
       "      <td>Eco-Score aún no aplicable</td>\n",
       "      <td>180 kj(42 kcal)</td>\n",
       "      <td>0 g</td>\n",
       "      <td>10,6 g</td>\n",
       "    </tr>\n",
       "    <tr>\n",
       "      <th>3</th>\n",
       "      <td>Nutella - Ferrero - 1 kg</td>\n",
       "      <td>Ferrero</td>\n",
       "      <td>Alimentos ultraprocesados</td>\n",
       "      <td>E</td>\n",
       "      <td>Argelia, Bélgica, Francia, Alemania, Guadalupe...</td>\n",
       "      <td>E322 - Lecitinas, E322i - Lecitina</td>\n",
       "      <td>Eco-Score D</td>\n",
       "      <td>2252 kj(539 kcal)</td>\n",
       "      <td>10,6 g</td>\n",
       "      <td>56,3 g</td>\n",
       "    </tr>\n",
       "    <tr>\n",
       "      <th>4</th>\n",
       "      <td>Coca-Cola zero - 330 ml</td>\n",
       "      <td>Coca-Cola</td>\n",
       "      <td>Alimentos ultraprocesados</td>\n",
       "      <td>B</td>\n",
       "      <td>Bélgica, Francia, Alemania, Hungría, Italia, E...</td>\n",
       "      <td>E150d - Caramelo de sulfito amónico, E331 - Ci...</td>\n",
       "      <td>Eco-Score aún no aplicable</td>\n",
       "      <td>1 kj(0 kcal)</td>\n",
       "      <td>0 g</td>\n",
       "      <td>0 g</td>\n",
       "    </tr>\n",
       "  </tbody>\n",
       "</table>\n",
       "</div>"
      ],
      "text/plain": [
       "                    product_name        brands                     nova_4  \\\n",
       "0      Nutella - Ferrero - 400 g       Ferrero  Alimentos ultraprocesados   \n",
       "1  Prince chocolate - Lu - 300 g  Lu, Mondelez  Alimentos ultraprocesados   \n",
       "2             Coca-Cola - 330 mL     Coca cola  Alimentos ultraprocesados   \n",
       "3       Nutella - Ferrero - 1 kg       Ferrero  Alimentos ultraprocesados   \n",
       "4        Coca-Cola zero - 330 ml     Coca-Cola  Alimentos ultraprocesados   \n",
       "\n",
       "  nutri-score                                          countries  \\\n",
       "0           E  Bélgica, Francia, Alemania, Italia, Luxemburgo...   \n",
       "1           D  Argelia, Bélgica, Francia, Polinesia Francesa,...   \n",
       "2           E  Bélgica, Francia, Alemania, Hungría, Italia, S...   \n",
       "3           E  Argelia, Bélgica, Francia, Alemania, Guadalupe...   \n",
       "4           B  Bélgica, Francia, Alemania, Hungría, Italia, E...   \n",
       "\n",
       "                                           additives  \\\n",
       "0                 E322 - Lecitinas, E322i - Lecitina   \n",
       "1  E322 - Lecitinas, E322i - Lecitina, E500 - Car...   \n",
       "2  E150d - Caramelo de sulfito amónico, E338 - Ác...   \n",
       "3                 E322 - Lecitinas, E322i - Lecitina   \n",
       "4  E150d - Caramelo de sulfito amónico, E331 - Ci...   \n",
       "\n",
       "                    eco-score             energy saturated_fats  sugars  \n",
       "0                 Eco-Score D  2252 kj(539 kcal)         10,6 g  56,3 g  \n",
       "1                 Eco-Score C  1962 kj(467 kcal)          5,6 g    32 g  \n",
       "2  Eco-Score aún no aplicable    180 kj(42 kcal)            0 g  10,6 g  \n",
       "3                 Eco-Score D  2252 kj(539 kcal)         10,6 g  56,3 g  \n",
       "4  Eco-Score aún no aplicable       1 kj(0 kcal)            0 g     0 g  "
      ]
     },
     "execution_count": 16,
     "metadata": {},
     "output_type": "execute_result"
    }
   ],
   "source": [
    "food.head()"
   ]
  },
  {
   "cell_type": "code",
   "execution_count": 17,
   "id": "a4adb6fe",
   "metadata": {},
   "outputs": [
    {
     "data": {
      "text/plain": [
       "(215, 10)"
      ]
     },
     "execution_count": 17,
     "metadata": {},
     "output_type": "execute_result"
    }
   ],
   "source": [
    "# check duplicated rows regarding \"product name\"\n",
    "\n",
    "food[food.duplicated(subset=['product_name'])].shape"
   ]
  },
  {
   "cell_type": "code",
   "execution_count": 18,
   "id": "87987795",
   "metadata": {},
   "outputs": [
    {
     "data": {
      "text/plain": [
       "(14561, 10)"
      ]
     },
     "execution_count": 18,
     "metadata": {},
     "output_type": "execute_result"
    }
   ],
   "source": [
    "# delete duplicated rows regarding \"product name\"\n",
    "\n",
    "food.drop_duplicates(subset=['product_name'], keep='first', inplace=True)\n",
    "\n",
    "food.shape"
   ]
  },
  {
   "cell_type": "code",
   "execution_count": 19,
   "id": "77dcb4bb",
   "metadata": {},
   "outputs": [
    {
     "data": {
      "text/html": [
       "<div>\n",
       "<style scoped>\n",
       "    .dataframe tbody tr th:only-of-type {\n",
       "        vertical-align: middle;\n",
       "    }\n",
       "\n",
       "    .dataframe tbody tr th {\n",
       "        vertical-align: top;\n",
       "    }\n",
       "\n",
       "    .dataframe thead th {\n",
       "        text-align: right;\n",
       "    }\n",
       "</style>\n",
       "<table border=\"1\" class=\"dataframe\">\n",
       "  <thead>\n",
       "    <tr style=\"text-align: right;\">\n",
       "      <th></th>\n",
       "      <th>product_name</th>\n",
       "      <th>brands</th>\n",
       "      <th>nova_4</th>\n",
       "      <th>nutri-score</th>\n",
       "      <th>countries</th>\n",
       "      <th>additives</th>\n",
       "      <th>eco-score</th>\n",
       "      <th>energy</th>\n",
       "      <th>saturated_fats</th>\n",
       "      <th>sugars</th>\n",
       "      <th>product</th>\n",
       "      <th>weight</th>\n",
       "    </tr>\n",
       "  </thead>\n",
       "  <tbody>\n",
       "    <tr>\n",
       "      <th>0</th>\n",
       "      <td>Nutella - Ferrero - 400 g</td>\n",
       "      <td>Ferrero</td>\n",
       "      <td>Alimentos ultraprocesados</td>\n",
       "      <td>E</td>\n",
       "      <td>Bélgica, Francia, Alemania, Italia, Luxemburgo...</td>\n",
       "      <td>E322 - Lecitinas, E322i - Lecitina</td>\n",
       "      <td>Eco-Score D</td>\n",
       "      <td>2252 kj(539 kcal)</td>\n",
       "      <td>10,6 g</td>\n",
       "      <td>56,3 g</td>\n",
       "      <td>Nutella - Ferrero</td>\n",
       "      <td>400 g</td>\n",
       "    </tr>\n",
       "    <tr>\n",
       "      <th>1</th>\n",
       "      <td>Prince chocolate - Lu - 300 g</td>\n",
       "      <td>Lu, Mondelez</td>\n",
       "      <td>Alimentos ultraprocesados</td>\n",
       "      <td>D</td>\n",
       "      <td>Argelia, Bélgica, Francia, Polinesia Francesa,...</td>\n",
       "      <td>E322 - Lecitinas, E322i - Lecitina, E500 - Car...</td>\n",
       "      <td>Eco-Score C</td>\n",
       "      <td>1962 kj(467 kcal)</td>\n",
       "      <td>5,6 g</td>\n",
       "      <td>32 g</td>\n",
       "      <td>Prince chocolate - Lu</td>\n",
       "      <td>300 g</td>\n",
       "    </tr>\n",
       "    <tr>\n",
       "      <th>2</th>\n",
       "      <td>Coca-Cola - 330 mL</td>\n",
       "      <td>Coca cola</td>\n",
       "      <td>Alimentos ultraprocesados</td>\n",
       "      <td>E</td>\n",
       "      <td>Bélgica, Francia, Alemania, Hungría, Italia, S...</td>\n",
       "      <td>E150d - Caramelo de sulfito amónico, E338 - Ác...</td>\n",
       "      <td>Eco-Score aún no aplicable</td>\n",
       "      <td>180 kj(42 kcal)</td>\n",
       "      <td>0 g</td>\n",
       "      <td>10,6 g</td>\n",
       "      <td>Coca-Cola</td>\n",
       "      <td>330 mL</td>\n",
       "    </tr>\n",
       "    <tr>\n",
       "      <th>3</th>\n",
       "      <td>Nutella - Ferrero - 1 kg</td>\n",
       "      <td>Ferrero</td>\n",
       "      <td>Alimentos ultraprocesados</td>\n",
       "      <td>E</td>\n",
       "      <td>Argelia, Bélgica, Francia, Alemania, Guadalupe...</td>\n",
       "      <td>E322 - Lecitinas, E322i - Lecitina</td>\n",
       "      <td>Eco-Score D</td>\n",
       "      <td>2252 kj(539 kcal)</td>\n",
       "      <td>10,6 g</td>\n",
       "      <td>56,3 g</td>\n",
       "      <td>Nutella - Ferrero</td>\n",
       "      <td>1 kg</td>\n",
       "    </tr>\n",
       "    <tr>\n",
       "      <th>4</th>\n",
       "      <td>Coca-Cola zero - 330 ml</td>\n",
       "      <td>Coca-Cola</td>\n",
       "      <td>Alimentos ultraprocesados</td>\n",
       "      <td>B</td>\n",
       "      <td>Bélgica, Francia, Alemania, Hungría, Italia, E...</td>\n",
       "      <td>E150d - Caramelo de sulfito amónico, E331 - Ci...</td>\n",
       "      <td>Eco-Score aún no aplicable</td>\n",
       "      <td>1 kj(0 kcal)</td>\n",
       "      <td>0 g</td>\n",
       "      <td>0 g</td>\n",
       "      <td>Coca-Cola zero</td>\n",
       "      <td>330 ml</td>\n",
       "    </tr>\n",
       "  </tbody>\n",
       "</table>\n",
       "</div>"
      ],
      "text/plain": [
       "                    product_name        brands                     nova_4  \\\n",
       "0      Nutella - Ferrero - 400 g       Ferrero  Alimentos ultraprocesados   \n",
       "1  Prince chocolate - Lu - 300 g  Lu, Mondelez  Alimentos ultraprocesados   \n",
       "2             Coca-Cola - 330 mL     Coca cola  Alimentos ultraprocesados   \n",
       "3       Nutella - Ferrero - 1 kg       Ferrero  Alimentos ultraprocesados   \n",
       "4        Coca-Cola zero - 330 ml     Coca-Cola  Alimentos ultraprocesados   \n",
       "\n",
       "  nutri-score                                          countries  \\\n",
       "0           E  Bélgica, Francia, Alemania, Italia, Luxemburgo...   \n",
       "1           D  Argelia, Bélgica, Francia, Polinesia Francesa,...   \n",
       "2           E  Bélgica, Francia, Alemania, Hungría, Italia, S...   \n",
       "3           E  Argelia, Bélgica, Francia, Alemania, Guadalupe...   \n",
       "4           B  Bélgica, Francia, Alemania, Hungría, Italia, E...   \n",
       "\n",
       "                                           additives  \\\n",
       "0                 E322 - Lecitinas, E322i - Lecitina   \n",
       "1  E322 - Lecitinas, E322i - Lecitina, E500 - Car...   \n",
       "2  E150d - Caramelo de sulfito amónico, E338 - Ác...   \n",
       "3                 E322 - Lecitinas, E322i - Lecitina   \n",
       "4  E150d - Caramelo de sulfito amónico, E331 - Ci...   \n",
       "\n",
       "                    eco-score             energy saturated_fats  sugars  \\\n",
       "0                 Eco-Score D  2252 kj(539 kcal)         10,6 g  56,3 g   \n",
       "1                 Eco-Score C  1962 kj(467 kcal)          5,6 g    32 g   \n",
       "2  Eco-Score aún no aplicable    180 kj(42 kcal)            0 g  10,6 g   \n",
       "3                 Eco-Score D  2252 kj(539 kcal)         10,6 g  56,3 g   \n",
       "4  Eco-Score aún no aplicable       1 kj(0 kcal)            0 g     0 g   \n",
       "\n",
       "                 product  weight  \n",
       "0      Nutella - Ferrero   400 g  \n",
       "1  Prince chocolate - Lu   300 g  \n",
       "2              Coca-Cola  330 mL  \n",
       "3      Nutella - Ferrero    1 kg  \n",
       "4         Coca-Cola zero  330 ml  "
      ]
     },
     "execution_count": 19,
     "metadata": {},
     "output_type": "execute_result"
    }
   ],
   "source": [
    "# separate the product_name column into \"product\" and \"weight\"\n",
    "\n",
    "food[['product', 'weight']] = food['product_name'].str.rsplit(' - ', n=1, expand=True)\n",
    "\n",
    "food.head()"
   ]
  },
  {
   "cell_type": "code",
   "execution_count": 20,
   "id": "f43f7f8c",
   "metadata": {},
   "outputs": [
    {
     "data": {
      "text/plain": [
       "(787, 12)"
      ]
     },
     "execution_count": 20,
     "metadata": {},
     "output_type": "execute_result"
    }
   ],
   "source": [
    "# check duplicated rows regarding \"product\"\n",
    "\n",
    "food[food.duplicated(subset=['product'])].shape\n"
   ]
  },
  {
   "cell_type": "code",
   "execution_count": 21,
   "id": "d595249a",
   "metadata": {},
   "outputs": [],
   "source": [
    "# delete duplicated rows regarding \"product\"\n",
    "\n",
    "food.drop_duplicates(subset=['product'], keep='first', inplace=True)"
   ]
  },
  {
   "cell_type": "code",
   "execution_count": 22,
   "id": "ded06ff2",
   "metadata": {},
   "outputs": [
    {
     "data": {
      "text/plain": [
       "(13774, 12)"
      ]
     },
     "execution_count": 22,
     "metadata": {},
     "output_type": "execute_result"
    }
   ],
   "source": [
    "food.shape"
   ]
  },
  {
   "cell_type": "code",
   "execution_count": 23,
   "id": "c2e5bd20",
   "metadata": {},
   "outputs": [
    {
     "data": {
      "text/html": [
       "<div>\n",
       "<style scoped>\n",
       "    .dataframe tbody tr th:only-of-type {\n",
       "        vertical-align: middle;\n",
       "    }\n",
       "\n",
       "    .dataframe tbody tr th {\n",
       "        vertical-align: top;\n",
       "    }\n",
       "\n",
       "    .dataframe thead th {\n",
       "        text-align: right;\n",
       "    }\n",
       "</style>\n",
       "<table border=\"1\" class=\"dataframe\">\n",
       "  <thead>\n",
       "    <tr style=\"text-align: right;\">\n",
       "      <th></th>\n",
       "      <th>brands</th>\n",
       "      <th>nova_4</th>\n",
       "      <th>nutri-score</th>\n",
       "      <th>additives</th>\n",
       "      <th>eco-score</th>\n",
       "      <th>energy</th>\n",
       "      <th>saturated_fats</th>\n",
       "      <th>sugars</th>\n",
       "      <th>product</th>\n",
       "      <th>weight</th>\n",
       "    </tr>\n",
       "  </thead>\n",
       "  <tbody>\n",
       "    <tr>\n",
       "      <th>0</th>\n",
       "      <td>Ferrero</td>\n",
       "      <td>Alimentos ultraprocesados</td>\n",
       "      <td>E</td>\n",
       "      <td>E322 - Lecitinas, E322i - Lecitina</td>\n",
       "      <td>Eco-Score D</td>\n",
       "      <td>2252 kj(539 kcal)</td>\n",
       "      <td>10,6 g</td>\n",
       "      <td>56,3 g</td>\n",
       "      <td>Nutella - Ferrero</td>\n",
       "      <td>400 g</td>\n",
       "    </tr>\n",
       "    <tr>\n",
       "      <th>1</th>\n",
       "      <td>Lu, Mondelez</td>\n",
       "      <td>Alimentos ultraprocesados</td>\n",
       "      <td>D</td>\n",
       "      <td>E322 - Lecitinas, E322i - Lecitina, E500 - Car...</td>\n",
       "      <td>Eco-Score C</td>\n",
       "      <td>1962 kj(467 kcal)</td>\n",
       "      <td>5,6 g</td>\n",
       "      <td>32 g</td>\n",
       "      <td>Prince chocolate - Lu</td>\n",
       "      <td>300 g</td>\n",
       "    </tr>\n",
       "    <tr>\n",
       "      <th>2</th>\n",
       "      <td>Coca cola</td>\n",
       "      <td>Alimentos ultraprocesados</td>\n",
       "      <td>E</td>\n",
       "      <td>E150d - Caramelo de sulfito amónico, E338 - Ác...</td>\n",
       "      <td>Eco-Score aún no aplicable</td>\n",
       "      <td>180 kj(42 kcal)</td>\n",
       "      <td>0 g</td>\n",
       "      <td>10,6 g</td>\n",
       "      <td>Coca-Cola</td>\n",
       "      <td>330 mL</td>\n",
       "    </tr>\n",
       "    <tr>\n",
       "      <th>4</th>\n",
       "      <td>Coca-Cola</td>\n",
       "      <td>Alimentos ultraprocesados</td>\n",
       "      <td>B</td>\n",
       "      <td>E150d - Caramelo de sulfito amónico, E331 - Ci...</td>\n",
       "      <td>Eco-Score aún no aplicable</td>\n",
       "      <td>1 kj(0 kcal)</td>\n",
       "      <td>0 g</td>\n",
       "      <td>0 g</td>\n",
       "      <td>Coca-Cola zero</td>\n",
       "      <td>330 ml</td>\n",
       "    </tr>\n",
       "    <tr>\n",
       "      <th>5</th>\n",
       "      <td>Nutella, Ferrero</td>\n",
       "      <td>Nivel de procesamiento de alimentos desconocido</td>\n",
       "      <td>E</td>\n",
       "      <td>u, n, k, n, o, w, n</td>\n",
       "      <td>Eco-Score C</td>\n",
       "      <td>2158 kj(515 kcal)</td>\n",
       "      <td>11,5 g</td>\n",
       "      <td>35,8 g</td>\n",
       "      <td>Ferrero- Nutella Biscuits Resealable Bag, 304g...</td>\n",
       "      <td>304 g</td>\n",
       "    </tr>\n",
       "  </tbody>\n",
       "</table>\n",
       "</div>"
      ],
      "text/plain": [
       "             brands                                           nova_4  \\\n",
       "0           Ferrero                        Alimentos ultraprocesados   \n",
       "1      Lu, Mondelez                        Alimentos ultraprocesados   \n",
       "2         Coca cola                        Alimentos ultraprocesados   \n",
       "4         Coca-Cola                        Alimentos ultraprocesados   \n",
       "5  Nutella, Ferrero  Nivel de procesamiento de alimentos desconocido   \n",
       "\n",
       "  nutri-score                                          additives  \\\n",
       "0           E                 E322 - Lecitinas, E322i - Lecitina   \n",
       "1           D  E322 - Lecitinas, E322i - Lecitina, E500 - Car...   \n",
       "2           E  E150d - Caramelo de sulfito amónico, E338 - Ác...   \n",
       "4           B  E150d - Caramelo de sulfito amónico, E331 - Ci...   \n",
       "5           E                                u, n, k, n, o, w, n   \n",
       "\n",
       "                    eco-score             energy saturated_fats  sugars  \\\n",
       "0                 Eco-Score D  2252 kj(539 kcal)         10,6 g  56,3 g   \n",
       "1                 Eco-Score C  1962 kj(467 kcal)          5,6 g    32 g   \n",
       "2  Eco-Score aún no aplicable    180 kj(42 kcal)            0 g  10,6 g   \n",
       "4  Eco-Score aún no aplicable       1 kj(0 kcal)            0 g     0 g   \n",
       "5                 Eco-Score C  2158 kj(515 kcal)         11,5 g  35,8 g   \n",
       "\n",
       "                                             product  weight  \n",
       "0                                  Nutella - Ferrero   400 g  \n",
       "1                              Prince chocolate - Lu   300 g  \n",
       "2                                          Coca-Cola  330 mL  \n",
       "4                                     Coca-Cola zero  330 ml  \n",
       "5  Ferrero- Nutella Biscuits Resealable Bag, 304g...   304 g  "
      ]
     },
     "execution_count": 23,
     "metadata": {},
     "output_type": "execute_result"
    }
   ],
   "source": [
    "# delete the column \"product_name\" and \"countries\"\n",
    "\n",
    "food.drop(\"product_name\", axis=1, inplace=True)\n",
    "\n",
    "food.drop(\"countries\", axis=1, inplace=True)\n",
    "\n",
    "\n",
    "food.head()"
   ]
  },
  {
   "cell_type": "code",
   "execution_count": 24,
   "id": "470aab05",
   "metadata": {},
   "outputs": [
    {
     "data": {
      "text/html": [
       "<div>\n",
       "<style scoped>\n",
       "    .dataframe tbody tr th:only-of-type {\n",
       "        vertical-align: middle;\n",
       "    }\n",
       "\n",
       "    .dataframe tbody tr th {\n",
       "        vertical-align: top;\n",
       "    }\n",
       "\n",
       "    .dataframe thead th {\n",
       "        text-align: right;\n",
       "    }\n",
       "</style>\n",
       "<table border=\"1\" class=\"dataframe\">\n",
       "  <thead>\n",
       "    <tr style=\"text-align: right;\">\n",
       "      <th></th>\n",
       "      <th>product</th>\n",
       "      <th>weight</th>\n",
       "      <th>brands</th>\n",
       "      <th>nova_4</th>\n",
       "      <th>nutri-score</th>\n",
       "      <th>additives</th>\n",
       "      <th>eco-score</th>\n",
       "      <th>energy</th>\n",
       "      <th>saturated_fats</th>\n",
       "      <th>sugars</th>\n",
       "    </tr>\n",
       "  </thead>\n",
       "  <tbody>\n",
       "    <tr>\n",
       "      <th>0</th>\n",
       "      <td>Nutella - Ferrero</td>\n",
       "      <td>400 g</td>\n",
       "      <td>Ferrero</td>\n",
       "      <td>Alimentos ultraprocesados</td>\n",
       "      <td>E</td>\n",
       "      <td>E322 - Lecitinas, E322i - Lecitina</td>\n",
       "      <td>Eco-Score D</td>\n",
       "      <td>2252 kj(539 kcal)</td>\n",
       "      <td>10,6 g</td>\n",
       "      <td>56,3 g</td>\n",
       "    </tr>\n",
       "    <tr>\n",
       "      <th>1</th>\n",
       "      <td>Prince chocolate - Lu</td>\n",
       "      <td>300 g</td>\n",
       "      <td>Lu, Mondelez</td>\n",
       "      <td>Alimentos ultraprocesados</td>\n",
       "      <td>D</td>\n",
       "      <td>E322 - Lecitinas, E322i - Lecitina, E500 - Car...</td>\n",
       "      <td>Eco-Score C</td>\n",
       "      <td>1962 kj(467 kcal)</td>\n",
       "      <td>5,6 g</td>\n",
       "      <td>32 g</td>\n",
       "    </tr>\n",
       "    <tr>\n",
       "      <th>2</th>\n",
       "      <td>Coca-Cola</td>\n",
       "      <td>330 mL</td>\n",
       "      <td>Coca cola</td>\n",
       "      <td>Alimentos ultraprocesados</td>\n",
       "      <td>E</td>\n",
       "      <td>E150d - Caramelo de sulfito amónico, E338 - Ác...</td>\n",
       "      <td>Eco-Score aún no aplicable</td>\n",
       "      <td>180 kj(42 kcal)</td>\n",
       "      <td>0 g</td>\n",
       "      <td>10,6 g</td>\n",
       "    </tr>\n",
       "    <tr>\n",
       "      <th>4</th>\n",
       "      <td>Coca-Cola zero</td>\n",
       "      <td>330 ml</td>\n",
       "      <td>Coca-Cola</td>\n",
       "      <td>Alimentos ultraprocesados</td>\n",
       "      <td>B</td>\n",
       "      <td>E150d - Caramelo de sulfito amónico, E331 - Ci...</td>\n",
       "      <td>Eco-Score aún no aplicable</td>\n",
       "      <td>1 kj(0 kcal)</td>\n",
       "      <td>0 g</td>\n",
       "      <td>0 g</td>\n",
       "    </tr>\n",
       "    <tr>\n",
       "      <th>5</th>\n",
       "      <td>Ferrero- Nutella Biscuits Resealable Bag, 304g...</td>\n",
       "      <td>304 g</td>\n",
       "      <td>Nutella, Ferrero</td>\n",
       "      <td>Nivel de procesamiento de alimentos desconocido</td>\n",
       "      <td>E</td>\n",
       "      <td>u, n, k, n, o, w, n</td>\n",
       "      <td>Eco-Score C</td>\n",
       "      <td>2158 kj(515 kcal)</td>\n",
       "      <td>11,5 g</td>\n",
       "      <td>35,8 g</td>\n",
       "    </tr>\n",
       "  </tbody>\n",
       "</table>\n",
       "</div>"
      ],
      "text/plain": [
       "                                             product  weight  \\\n",
       "0                                  Nutella - Ferrero   400 g   \n",
       "1                              Prince chocolate - Lu   300 g   \n",
       "2                                          Coca-Cola  330 mL   \n",
       "4                                     Coca-Cola zero  330 ml   \n",
       "5  Ferrero- Nutella Biscuits Resealable Bag, 304g...   304 g   \n",
       "\n",
       "             brands                                           nova_4  \\\n",
       "0           Ferrero                        Alimentos ultraprocesados   \n",
       "1      Lu, Mondelez                        Alimentos ultraprocesados   \n",
       "2         Coca cola                        Alimentos ultraprocesados   \n",
       "4         Coca-Cola                        Alimentos ultraprocesados   \n",
       "5  Nutella, Ferrero  Nivel de procesamiento de alimentos desconocido   \n",
       "\n",
       "  nutri-score                                          additives  \\\n",
       "0           E                 E322 - Lecitinas, E322i - Lecitina   \n",
       "1           D  E322 - Lecitinas, E322i - Lecitina, E500 - Car...   \n",
       "2           E  E150d - Caramelo de sulfito amónico, E338 - Ác...   \n",
       "4           B  E150d - Caramelo de sulfito amónico, E331 - Ci...   \n",
       "5           E                                u, n, k, n, o, w, n   \n",
       "\n",
       "                    eco-score             energy saturated_fats  sugars  \n",
       "0                 Eco-Score D  2252 kj(539 kcal)         10,6 g  56,3 g  \n",
       "1                 Eco-Score C  1962 kj(467 kcal)          5,6 g    32 g  \n",
       "2  Eco-Score aún no aplicable    180 kj(42 kcal)            0 g  10,6 g  \n",
       "4  Eco-Score aún no aplicable       1 kj(0 kcal)            0 g     0 g  \n",
       "5                 Eco-Score C  2158 kj(515 kcal)         11,5 g  35,8 g  "
      ]
     },
     "execution_count": 24,
     "metadata": {},
     "output_type": "execute_result"
    }
   ],
   "source": [
    "# Relocate the columns \"product\" and \"weight\"\n",
    "\n",
    "food = food[['product', 'weight'] + [col for col in food.columns if col not in ['product', 'weight']]]\n",
    "\n",
    "food.head()"
   ]
  },
  {
   "cell_type": "code",
   "execution_count": 25,
   "id": "91abe460",
   "metadata": {},
   "outputs": [],
   "source": [
    "# Relocate the columns \"product\" and \"weight\"\n",
    "\n",
    "food['saturated_fats'] = food['saturated_fats'].str.replace('<', '').str.replace('g', '')\n",
    "food['sugars'] = food['sugars'].str.replace('<', '').str.replace('g', '')"
   ]
  },
  {
   "cell_type": "code",
   "execution_count": 26,
   "id": "ec5c3c8c",
   "metadata": {},
   "outputs": [],
   "source": [
    "food['saturated_fats'] = food['saturated_fats'].str.replace(',', '.').str.replace(' ', '')\n",
    "food['sugars'] = food['sugars'].str.replace(',', '.').str.replace(' ', '')"
   ]
  },
  {
   "cell_type": "code",
   "execution_count": 27,
   "id": "6b3b1822",
   "metadata": {},
   "outputs": [],
   "source": [
    "food['saturated_fats'] = pd.to_numeric(food['saturated_fats'], errors='coerce')\n",
    "food['sugars'] = pd.to_numeric(food['sugars'], errors='coerce')"
   ]
  },
  {
   "cell_type": "code",
   "execution_count": 28,
   "id": "5d852639",
   "metadata": {},
   "outputs": [],
   "source": [
    "#food['saturated_fats'].replace('', np.nan, inplace=True)"
   ]
  },
  {
   "cell_type": "code",
   "execution_count": 29,
   "id": "535c966b",
   "metadata": {},
   "outputs": [],
   "source": [
    "food['saturated_fats'] = food['saturated_fats'].astype(float)\n",
    "food['sugars'] = food['sugars'].astype(float)"
   ]
  },
  {
   "cell_type": "code",
   "execution_count": 30,
   "id": "fc3aeca2",
   "metadata": {},
   "outputs": [
    {
     "name": "stdout",
     "output_type": "stream",
     "text": [
      "<class 'pandas.core.frame.DataFrame'>\n",
      "Int64Index: 13774 entries, 0 to 14799\n",
      "Data columns (total 10 columns):\n",
      " #   Column          Non-Null Count  Dtype  \n",
      "---  ------          --------------  -----  \n",
      " 0   product         13774 non-null  object \n",
      " 1   weight          12972 non-null  object \n",
      " 2   brands          13774 non-null  object \n",
      " 3   nova_4          13774 non-null  object \n",
      " 4   nutri-score     13774 non-null  object \n",
      " 5   additives       13774 non-null  object \n",
      " 6   eco-score       13774 non-null  object \n",
      " 7   energy          13054 non-null  object \n",
      " 8   saturated_fats  12865 non-null  float64\n",
      " 9   sugars          12849 non-null  float64\n",
      "dtypes: float64(2), object(8)\n",
      "memory usage: 1.2+ MB\n"
     ]
    }
   ],
   "source": [
    "food.info()"
   ]
  },
  {
   "cell_type": "code",
   "execution_count": 31,
   "id": "1c02f116",
   "metadata": {},
   "outputs": [
    {
     "data": {
      "text/html": [
       "<div>\n",
       "<style scoped>\n",
       "    .dataframe tbody tr th:only-of-type {\n",
       "        vertical-align: middle;\n",
       "    }\n",
       "\n",
       "    .dataframe tbody tr th {\n",
       "        vertical-align: top;\n",
       "    }\n",
       "\n",
       "    .dataframe thead th {\n",
       "        text-align: right;\n",
       "    }\n",
       "</style>\n",
       "<table border=\"1\" class=\"dataframe\">\n",
       "  <thead>\n",
       "    <tr style=\"text-align: right;\">\n",
       "      <th></th>\n",
       "      <th>product</th>\n",
       "      <th>weight</th>\n",
       "      <th>brands</th>\n",
       "      <th>nova_4</th>\n",
       "      <th>nutri-score</th>\n",
       "      <th>additives</th>\n",
       "      <th>eco-score</th>\n",
       "      <th>energy</th>\n",
       "      <th>saturated_fats</th>\n",
       "      <th>sugars</th>\n",
       "    </tr>\n",
       "  </thead>\n",
       "  <tbody>\n",
       "    <tr>\n",
       "      <th>0</th>\n",
       "      <td>Nutella - Ferrero</td>\n",
       "      <td>400 g</td>\n",
       "      <td>Ferrero</td>\n",
       "      <td>Alimentos ultraprocesados</td>\n",
       "      <td>E</td>\n",
       "      <td>E322 - Lecitinas, E322i - Lecitina</td>\n",
       "      <td>Eco-Score D</td>\n",
       "      <td>2252 kj(539 kcal)</td>\n",
       "      <td>10.6</td>\n",
       "      <td>56.3</td>\n",
       "    </tr>\n",
       "    <tr>\n",
       "      <th>1</th>\n",
       "      <td>Prince chocolate - Lu</td>\n",
       "      <td>300 g</td>\n",
       "      <td>Lu, Mondelez</td>\n",
       "      <td>Alimentos ultraprocesados</td>\n",
       "      <td>D</td>\n",
       "      <td>E322 - Lecitinas, E322i - Lecitina, E500 - Car...</td>\n",
       "      <td>Eco-Score C</td>\n",
       "      <td>1962 kj(467 kcal)</td>\n",
       "      <td>5.6</td>\n",
       "      <td>32.0</td>\n",
       "    </tr>\n",
       "    <tr>\n",
       "      <th>2</th>\n",
       "      <td>Coca-Cola</td>\n",
       "      <td>330 mL</td>\n",
       "      <td>Coca cola</td>\n",
       "      <td>Alimentos ultraprocesados</td>\n",
       "      <td>E</td>\n",
       "      <td>E150d - Caramelo de sulfito amónico, E338 - Ác...</td>\n",
       "      <td>Eco-Score aún no aplicable</td>\n",
       "      <td>180 kj(42 kcal)</td>\n",
       "      <td>0.0</td>\n",
       "      <td>10.6</td>\n",
       "    </tr>\n",
       "    <tr>\n",
       "      <th>4</th>\n",
       "      <td>Coca-Cola zero</td>\n",
       "      <td>330 ml</td>\n",
       "      <td>Coca-Cola</td>\n",
       "      <td>Alimentos ultraprocesados</td>\n",
       "      <td>B</td>\n",
       "      <td>E150d - Caramelo de sulfito amónico, E331 - Ci...</td>\n",
       "      <td>Eco-Score aún no aplicable</td>\n",
       "      <td>1 kj(0 kcal)</td>\n",
       "      <td>0.0</td>\n",
       "      <td>0.0</td>\n",
       "    </tr>\n",
       "    <tr>\n",
       "      <th>5</th>\n",
       "      <td>Ferrero- Nutella Biscuits Resealable Bag, 304g...</td>\n",
       "      <td>304 g</td>\n",
       "      <td>Nutella, Ferrero</td>\n",
       "      <td>Nivel de procesamiento de alimentos desconocido</td>\n",
       "      <td>E</td>\n",
       "      <td>u, n, k, n, o, w, n</td>\n",
       "      <td>Eco-Score C</td>\n",
       "      <td>2158 kj(515 kcal)</td>\n",
       "      <td>11.5</td>\n",
       "      <td>35.8</td>\n",
       "    </tr>\n",
       "  </tbody>\n",
       "</table>\n",
       "</div>"
      ],
      "text/plain": [
       "                                             product  weight  \\\n",
       "0                                  Nutella - Ferrero   400 g   \n",
       "1                              Prince chocolate - Lu   300 g   \n",
       "2                                          Coca-Cola  330 mL   \n",
       "4                                     Coca-Cola zero  330 ml   \n",
       "5  Ferrero- Nutella Biscuits Resealable Bag, 304g...   304 g   \n",
       "\n",
       "             brands                                           nova_4  \\\n",
       "0           Ferrero                        Alimentos ultraprocesados   \n",
       "1      Lu, Mondelez                        Alimentos ultraprocesados   \n",
       "2         Coca cola                        Alimentos ultraprocesados   \n",
       "4         Coca-Cola                        Alimentos ultraprocesados   \n",
       "5  Nutella, Ferrero  Nivel de procesamiento de alimentos desconocido   \n",
       "\n",
       "  nutri-score                                          additives  \\\n",
       "0           E                 E322 - Lecitinas, E322i - Lecitina   \n",
       "1           D  E322 - Lecitinas, E322i - Lecitina, E500 - Car...   \n",
       "2           E  E150d - Caramelo de sulfito amónico, E338 - Ác...   \n",
       "4           B  E150d - Caramelo de sulfito amónico, E331 - Ci...   \n",
       "5           E                                u, n, k, n, o, w, n   \n",
       "\n",
       "                    eco-score             energy  saturated_fats  sugars  \n",
       "0                 Eco-Score D  2252 kj(539 kcal)            10.6    56.3  \n",
       "1                 Eco-Score C  1962 kj(467 kcal)             5.6    32.0  \n",
       "2  Eco-Score aún no aplicable    180 kj(42 kcal)             0.0    10.6  \n",
       "4  Eco-Score aún no aplicable       1 kj(0 kcal)             0.0     0.0  \n",
       "5                 Eco-Score C  2158 kj(515 kcal)            11.5    35.8  "
      ]
     },
     "execution_count": 31,
     "metadata": {},
     "output_type": "execute_result"
    }
   ],
   "source": [
    "food.head()"
   ]
  },
  {
   "cell_type": "code",
   "execution_count": 32,
   "id": "8c75a139",
   "metadata": {},
   "outputs": [
    {
     "data": {
      "text/html": [
       "<div>\n",
       "<style scoped>\n",
       "    .dataframe tbody tr th:only-of-type {\n",
       "        vertical-align: middle;\n",
       "    }\n",
       "\n",
       "    .dataframe tbody tr th {\n",
       "        vertical-align: top;\n",
       "    }\n",
       "\n",
       "    .dataframe thead th {\n",
       "        text-align: right;\n",
       "    }\n",
       "</style>\n",
       "<table border=\"1\" class=\"dataframe\">\n",
       "  <thead>\n",
       "    <tr style=\"text-align: right;\">\n",
       "      <th></th>\n",
       "      <th>product</th>\n",
       "      <th>weight</th>\n",
       "      <th>brands</th>\n",
       "      <th>nova_4</th>\n",
       "      <th>nutri-score</th>\n",
       "      <th>additives</th>\n",
       "      <th>eco-score</th>\n",
       "      <th>energy</th>\n",
       "      <th>saturated_fats</th>\n",
       "      <th>sugars</th>\n",
       "    </tr>\n",
       "  </thead>\n",
       "  <tbody>\n",
       "    <tr>\n",
       "      <th>0</th>\n",
       "      <td>Nutella - Ferrero</td>\n",
       "      <td>400 g</td>\n",
       "      <td>Ferrero</td>\n",
       "      <td>Alimentos ultraprocesados</td>\n",
       "      <td>E</td>\n",
       "      <td>E322 - Lecitinas, E322i - Lecitina</td>\n",
       "      <td>Eco-Score D</td>\n",
       "      <td>539</td>\n",
       "      <td>10.6</td>\n",
       "      <td>56.3</td>\n",
       "    </tr>\n",
       "    <tr>\n",
       "      <th>1</th>\n",
       "      <td>Prince chocolate - Lu</td>\n",
       "      <td>300 g</td>\n",
       "      <td>Lu, Mondelez</td>\n",
       "      <td>Alimentos ultraprocesados</td>\n",
       "      <td>D</td>\n",
       "      <td>E322 - Lecitinas, E322i - Lecitina, E500 - Car...</td>\n",
       "      <td>Eco-Score C</td>\n",
       "      <td>467</td>\n",
       "      <td>5.6</td>\n",
       "      <td>32.0</td>\n",
       "    </tr>\n",
       "    <tr>\n",
       "      <th>2</th>\n",
       "      <td>Coca-Cola</td>\n",
       "      <td>330 mL</td>\n",
       "      <td>Coca cola</td>\n",
       "      <td>Alimentos ultraprocesados</td>\n",
       "      <td>E</td>\n",
       "      <td>E150d - Caramelo de sulfito amónico, E338 - Ác...</td>\n",
       "      <td>Eco-Score aún no aplicable</td>\n",
       "      <td>42</td>\n",
       "      <td>0.0</td>\n",
       "      <td>10.6</td>\n",
       "    </tr>\n",
       "    <tr>\n",
       "      <th>4</th>\n",
       "      <td>Coca-Cola zero</td>\n",
       "      <td>330 ml</td>\n",
       "      <td>Coca-Cola</td>\n",
       "      <td>Alimentos ultraprocesados</td>\n",
       "      <td>B</td>\n",
       "      <td>E150d - Caramelo de sulfito amónico, E331 - Ci...</td>\n",
       "      <td>Eco-Score aún no aplicable</td>\n",
       "      <td>0</td>\n",
       "      <td>0.0</td>\n",
       "      <td>0.0</td>\n",
       "    </tr>\n",
       "    <tr>\n",
       "      <th>5</th>\n",
       "      <td>Ferrero- Nutella Biscuits Resealable Bag, 304g...</td>\n",
       "      <td>304 g</td>\n",
       "      <td>Nutella, Ferrero</td>\n",
       "      <td>Nivel de procesamiento de alimentos desconocido</td>\n",
       "      <td>E</td>\n",
       "      <td>u, n, k, n, o, w, n</td>\n",
       "      <td>Eco-Score C</td>\n",
       "      <td>515</td>\n",
       "      <td>11.5</td>\n",
       "      <td>35.8</td>\n",
       "    </tr>\n",
       "  </tbody>\n",
       "</table>\n",
       "</div>"
      ],
      "text/plain": [
       "                                             product  weight  \\\n",
       "0                                  Nutella - Ferrero   400 g   \n",
       "1                              Prince chocolate - Lu   300 g   \n",
       "2                                          Coca-Cola  330 mL   \n",
       "4                                     Coca-Cola zero  330 ml   \n",
       "5  Ferrero- Nutella Biscuits Resealable Bag, 304g...   304 g   \n",
       "\n",
       "             brands                                           nova_4  \\\n",
       "0           Ferrero                        Alimentos ultraprocesados   \n",
       "1      Lu, Mondelez                        Alimentos ultraprocesados   \n",
       "2         Coca cola                        Alimentos ultraprocesados   \n",
       "4         Coca-Cola                        Alimentos ultraprocesados   \n",
       "5  Nutella, Ferrero  Nivel de procesamiento de alimentos desconocido   \n",
       "\n",
       "  nutri-score                                          additives  \\\n",
       "0           E                 E322 - Lecitinas, E322i - Lecitina   \n",
       "1           D  E322 - Lecitinas, E322i - Lecitina, E500 - Car...   \n",
       "2           E  E150d - Caramelo de sulfito amónico, E338 - Ác...   \n",
       "4           B  E150d - Caramelo de sulfito amónico, E331 - Ci...   \n",
       "5           E                                u, n, k, n, o, w, n   \n",
       "\n",
       "                    eco-score energy  saturated_fats  sugars  \n",
       "0                 Eco-Score D    539            10.6    56.3  \n",
       "1                 Eco-Score C    467             5.6    32.0  \n",
       "2  Eco-Score aún no aplicable     42             0.0    10.6  \n",
       "4  Eco-Score aún no aplicable      0             0.0     0.0  \n",
       "5                 Eco-Score C    515            11.5    35.8  "
      ]
     },
     "execution_count": 32,
     "metadata": {},
     "output_type": "execute_result"
    }
   ],
   "source": [
    "food['energy'] = food['energy'].str.extract(r'\\((\\d+) kcal\\)', expand=False)\n",
    "\n",
    "food.head()"
   ]
  },
  {
   "cell_type": "code",
   "execution_count": 33,
   "id": "5fa217d1",
   "metadata": {},
   "outputs": [],
   "source": [
    "food['energy'] = food['energy'].astype(float)"
   ]
  },
  {
   "cell_type": "code",
   "execution_count": 34,
   "id": "13be31b4",
   "metadata": {},
   "outputs": [
    {
     "name": "stdout",
     "output_type": "stream",
     "text": [
      "<class 'pandas.core.frame.DataFrame'>\n",
      "Int64Index: 13774 entries, 0 to 14799\n",
      "Data columns (total 10 columns):\n",
      " #   Column          Non-Null Count  Dtype  \n",
      "---  ------          --------------  -----  \n",
      " 0   product         13774 non-null  object \n",
      " 1   weight          12972 non-null  object \n",
      " 2   brands          13774 non-null  object \n",
      " 3   nova_4          13774 non-null  object \n",
      " 4   nutri-score     13774 non-null  object \n",
      " 5   additives       13774 non-null  object \n",
      " 6   eco-score       13774 non-null  object \n",
      " 7   energy          12970 non-null  float64\n",
      " 8   saturated_fats  12865 non-null  float64\n",
      " 9   sugars          12849 non-null  float64\n",
      "dtypes: float64(3), object(7)\n",
      "memory usage: 1.2+ MB\n"
     ]
    }
   ],
   "source": [
    "food.info()"
   ]
  },
  {
   "cell_type": "code",
   "execution_count": 35,
   "id": "6404adb1",
   "metadata": {
    "scrolled": true
   },
   "outputs": [
    {
     "name": "stderr",
     "output_type": "stream",
     "text": [
      "/var/folders/x2/68m0f_l16x5bzxl95_y3qn3m0000gp/T/ipykernel_94235/1888934596.py:1: FutureWarning: The default value of numeric_only in DataFrame.corr is deprecated. In a future version, it will default to False. Select only valid columns or specify the value of numeric_only to silence this warning.\n",
      "  food.corr()\n"
     ]
    },
    {
     "data": {
      "text/html": [
       "<div>\n",
       "<style scoped>\n",
       "    .dataframe tbody tr th:only-of-type {\n",
       "        vertical-align: middle;\n",
       "    }\n",
       "\n",
       "    .dataframe tbody tr th {\n",
       "        vertical-align: top;\n",
       "    }\n",
       "\n",
       "    .dataframe thead th {\n",
       "        text-align: right;\n",
       "    }\n",
       "</style>\n",
       "<table border=\"1\" class=\"dataframe\">\n",
       "  <thead>\n",
       "    <tr style=\"text-align: right;\">\n",
       "      <th></th>\n",
       "      <th>energy</th>\n",
       "      <th>saturated_fats</th>\n",
       "      <th>sugars</th>\n",
       "    </tr>\n",
       "  </thead>\n",
       "  <tbody>\n",
       "    <tr>\n",
       "      <th>energy</th>\n",
       "      <td>1.000000</td>\n",
       "      <td>0.552363</td>\n",
       "      <td>0.31481</td>\n",
       "    </tr>\n",
       "    <tr>\n",
       "      <th>saturated_fats</th>\n",
       "      <td>0.552363</td>\n",
       "      <td>1.000000</td>\n",
       "      <td>0.13642</td>\n",
       "    </tr>\n",
       "    <tr>\n",
       "      <th>sugars</th>\n",
       "      <td>0.314810</td>\n",
       "      <td>0.136420</td>\n",
       "      <td>1.00000</td>\n",
       "    </tr>\n",
       "  </tbody>\n",
       "</table>\n",
       "</div>"
      ],
      "text/plain": [
       "                  energy  saturated_fats   sugars\n",
       "energy          1.000000        0.552363  0.31481\n",
       "saturated_fats  0.552363        1.000000  0.13642\n",
       "sugars          0.314810        0.136420  1.00000"
      ]
     },
     "execution_count": 35,
     "metadata": {},
     "output_type": "execute_result"
    }
   ],
   "source": [
    "food.corr()"
   ]
  },
  {
   "cell_type": "markdown",
   "id": "61b152b9",
   "metadata": {},
   "source": [
    "## Work with \"eco-score\" column"
   ]
  },
  {
   "cell_type": "code",
   "execution_count": 36,
   "id": "ed33a7b9",
   "metadata": {},
   "outputs": [
    {
     "data": {
      "text/plain": [
       "array(['Eco-Score D', 'Eco-Score C', 'Eco-Score aún no aplicable',\n",
       "       'Eco-Score B', 'Eco-Score A', 'El Eco-Score no pudo ser calculado',\n",
       "       'Eco-Score E'], dtype=object)"
      ]
     },
     "execution_count": 36,
     "metadata": {},
     "output_type": "execute_result"
    }
   ],
   "source": [
    "food[\"eco-score\"].unique()"
   ]
  },
  {
   "cell_type": "code",
   "execution_count": 37,
   "id": "ce9b2134",
   "metadata": {},
   "outputs": [],
   "source": [
    "# transform unknown category values into nulls\n",
    "\n",
    "food[\"eco-score\"] = food[\"eco-score\"].replace(\"Eco-Score aún no aplicable\", np.nan)\n",
    "food[\"eco-score\"] = food[\"eco-score\"].replace(\"El Eco-Score no pudo ser calculado\", np.nan)"
   ]
  },
  {
   "cell_type": "code",
   "execution_count": 38,
   "id": "7f3ff2ac",
   "metadata": {},
   "outputs": [],
   "source": [
    "# reduce text in \"eco-score\" column\n",
    "\n",
    "food[\"eco-score\"] = food[\"eco-score\"].str.replace(\"Eco-Score A\", \"A\")\n",
    "food[\"eco-score\"] = food[\"eco-score\"].str.replace(\"Eco-Score B\", \"B\")\n",
    "food[\"eco-score\"] = food[\"eco-score\"].str.replace(\"Eco-Score C\", \"C\")\n",
    "food[\"eco-score\"] = food[\"eco-score\"].str.replace(\"Eco-Score D\", \"D\")\n",
    "food[\"eco-score\"] = food[\"eco-score\"].str.replace(\"Eco-Score E\", \"E\")\n"
   ]
  },
  {
   "cell_type": "code",
   "execution_count": 39,
   "id": "e23c2f6a",
   "metadata": {},
   "outputs": [],
   "source": [
    "# create a new column \"nutri-score_num\"\n",
    "\n",
    "food[\"eco-score_num\"] = food[\"eco-score\"].copy()"
   ]
  },
  {
   "cell_type": "code",
   "execution_count": 40,
   "id": "80fe244a",
   "metadata": {},
   "outputs": [],
   "source": [
    "# asign numeric values to \"nutri-score\"\n",
    "\n",
    "food[\"eco-score_num\"] = food[\"eco-score_num\"].str.replace(\"A\", \"1\")\n",
    "food[\"eco-score_num\"] = food[\"eco-score_num\"].str.replace(\"B\", \"2\")\n",
    "food[\"eco-score_num\"] = food[\"eco-score_num\"].str.replace(\"C\", \"3\")\n",
    "food[\"eco-score_num\"] = food[\"eco-score_num\"].str.replace(\"D\", \"4\")\n",
    "food[\"eco-score_num\"] = food[\"eco-score_num\"].str.replace(\"E\", \"5\")"
   ]
  },
  {
   "cell_type": "code",
   "execution_count": 41,
   "id": "fd91705e",
   "metadata": {},
   "outputs": [],
   "source": [
    "# transform \"nutri-score\" values into float data type.\n",
    "\n",
    "food['eco-score_num'] = food['eco-score_num'].astype(float)"
   ]
  },
  {
   "cell_type": "code",
   "execution_count": 42,
   "id": "646d1aac",
   "metadata": {
    "scrolled": true
   },
   "outputs": [
    {
     "name": "stdout",
     "output_type": "stream",
     "text": [
      "[ 4.  3. nan  2.  1.  5.]\n",
      "4978\n"
     ]
    }
   ],
   "source": [
    "print(food[\"eco-score_num\"].unique())\n",
    "print(sum(food[\"eco-score_num\"].isnull()))"
   ]
  },
  {
   "cell_type": "markdown",
   "id": "2a8c6613",
   "metadata": {},
   "source": [
    "## Work with \"nutri-score\" column"
   ]
  },
  {
   "cell_type": "code",
   "execution_count": 43,
   "id": "1bb9bce5",
   "metadata": {},
   "outputs": [
    {
     "data": {
      "text/plain": [
       "array(['E', 'D', 'B', 'A', 'C', 'UNKNOWN', 'NOT-APPLICABLE'], dtype=object)"
      ]
     },
     "execution_count": 43,
     "metadata": {},
     "output_type": "execute_result"
    }
   ],
   "source": [
    "food[\"nutri-score\"].unique()"
   ]
  },
  {
   "cell_type": "code",
   "execution_count": 44,
   "id": "7c3791ee",
   "metadata": {},
   "outputs": [],
   "source": [
    "# transform unknown category values into nulls\n",
    "\n",
    "food[\"nutri-score\"] = food[\"nutri-score\"].replace(\"UNKNOWN\", np.nan)\n",
    "food[\"nutri-score\"] = food[\"nutri-score\"].replace(\"NOT-APPLICABLE\", np.nan)"
   ]
  },
  {
   "cell_type": "code",
   "execution_count": 45,
   "id": "b2ac9b49",
   "metadata": {},
   "outputs": [],
   "source": [
    "# create a new column \"nutri-score_num\"\n",
    "\n",
    "food[\"nutri-score_num\"] = food[\"nutri-score\"].copy()\n"
   ]
  },
  {
   "cell_type": "code",
   "execution_count": 46,
   "id": "f41535ff",
   "metadata": {},
   "outputs": [],
   "source": [
    "# asign numeric values to \"nutri-score\"\n",
    "\n",
    "food[\"nutri-score_num\"] = food[\"nutri-score_num\"].str.replace(\"A\", \"1\")\n",
    "food[\"nutri-score_num\"] = food[\"nutri-score_num\"].str.replace(\"B\", \"2\")\n",
    "food[\"nutri-score_num\"] = food[\"nutri-score_num\"].str.replace(\"C\", \"3\")\n",
    "food[\"nutri-score_num\"] = food[\"nutri-score_num\"].str.replace(\"D\", \"4\")\n",
    "food[\"nutri-score_num\"] = food[\"nutri-score_num\"].str.replace(\"E\", \"5\")"
   ]
  },
  {
   "cell_type": "code",
   "execution_count": 47,
   "id": "9e62084b",
   "metadata": {},
   "outputs": [],
   "source": [
    "# transform \"nutri-score\" values into float data type.\n",
    "\n",
    "food['nutri-score_num'] = food['nutri-score_num'].astype(float)"
   ]
  },
  {
   "cell_type": "code",
   "execution_count": 48,
   "id": "dbb52294",
   "metadata": {},
   "outputs": [
    {
     "name": "stdout",
     "output_type": "stream",
     "text": [
      "[ 5.  4.  2.  1.  3. nan]\n",
      "2111\n"
     ]
    }
   ],
   "source": [
    "print(food[\"nutri-score_num\"].unique())\n",
    "print(sum(food[\"nutri-score_num\"].isnull()))"
   ]
  },
  {
   "cell_type": "markdown",
   "id": "3d61217a",
   "metadata": {},
   "source": [
    "## Work with \"nova_4\" column"
   ]
  },
  {
   "cell_type": "code",
   "execution_count": 49,
   "id": "722ae893",
   "metadata": {},
   "outputs": [
    {
     "data": {
      "text/plain": [
       "array(['Alimentos ultraprocesados',\n",
       "       'Nivel de procesamiento de alimentos desconocido',\n",
       "       'Alimentos no procesados o mínimamente procesados',\n",
       "       'Alimentos procesados', 'Ingredientes culinarios procesados',\n",
       "       'unknown'], dtype=object)"
      ]
     },
     "execution_count": 49,
     "metadata": {},
     "output_type": "execute_result"
    }
   ],
   "source": [
    "food[\"nova_4\"].unique()"
   ]
  },
  {
   "cell_type": "code",
   "execution_count": 50,
   "id": "32cf5d8e",
   "metadata": {},
   "outputs": [],
   "source": [
    "# transform unknown category values into nulls\n",
    "\n",
    "food[\"nova_4\"] = food[\"nova_4\"].replace(\"Nivel de procesamiento de alimentos desconocido\", np.nan)\n",
    "food[\"nova_4\"] = food[\"nova_4\"].replace(\"unknown\", np.nan)"
   ]
  },
  {
   "cell_type": "code",
   "execution_count": 51,
   "id": "8ea3fcd5",
   "metadata": {},
   "outputs": [],
   "source": [
    "# create a new column \"nova_4_num\"\n",
    "\n",
    "food[\"nova_4_num\"] = food[\"nova_4\"].copy()\n"
   ]
  },
  {
   "cell_type": "code",
   "execution_count": 52,
   "id": "e662ad48",
   "metadata": {},
   "outputs": [],
   "source": [
    "# asign numeric values to \"nova_4_num\"\n",
    "\n",
    "food[\"nova_4_num\"] = food[\"nova_4_num\"].str.replace(\"Alimentos ultraprocesados\", \"4\")\n",
    "food[\"nova_4_num\"] = food[\"nova_4_num\"].str.replace(\"Alimentos procesados\", \"3\")\n",
    "food[\"nova_4_num\"] = food[\"nova_4_num\"].str.replace(\"Ingredientes culinarios procesados\", \"2\")\n",
    "food[\"nova_4_num\"] = food[\"nova_4_num\"].str.replace(\"Alimentos no procesados o mínimamente procesados\", \"1\")\n"
   ]
  },
  {
   "cell_type": "code",
   "execution_count": 53,
   "id": "dc009f34",
   "metadata": {},
   "outputs": [],
   "source": [
    "# transform \"nova_4_num\" values into float data type.\n",
    "\n",
    "food['nova_4_num'] = food['nova_4_num'].astype(float)"
   ]
  },
  {
   "cell_type": "code",
   "execution_count": 54,
   "id": "975da4a6",
   "metadata": {},
   "outputs": [
    {
     "name": "stdout",
     "output_type": "stream",
     "text": [
      "['Alimentos ultraprocesados' nan\n",
      " 'Alimentos no procesados o mínimamente procesados' 'Alimentos procesados'\n",
      " 'Ingredientes culinarios procesados']\n",
      "4683\n"
     ]
    }
   ],
   "source": [
    "print(food[\"nova_4\"].unique())\n",
    "print(sum(food[\"nova_4\"].isnull()))"
   ]
  },
  {
   "cell_type": "code",
   "execution_count": 55,
   "id": "5c29d66f",
   "metadata": {},
   "outputs": [
    {
     "name": "stdout",
     "output_type": "stream",
     "text": [
      "[ 4. nan  1.  3.  2.]\n",
      "4683\n"
     ]
    }
   ],
   "source": [
    "print(food[\"nova_4_num\"].unique())\n",
    "print(sum(food[\"nova_4_num\"].isnull()))"
   ]
  },
  {
   "cell_type": "markdown",
   "id": "bcc379c5",
   "metadata": {},
   "source": [
    "## Work with \"additives\" column"
   ]
  },
  {
   "cell_type": "code",
   "execution_count": 56,
   "id": "dc34ed94",
   "metadata": {
    "scrolled": false
   },
   "outputs": [
    {
     "data": {
      "text/html": [
       "<div>\n",
       "<style scoped>\n",
       "    .dataframe tbody tr th:only-of-type {\n",
       "        vertical-align: middle;\n",
       "    }\n",
       "\n",
       "    .dataframe tbody tr th {\n",
       "        vertical-align: top;\n",
       "    }\n",
       "\n",
       "    .dataframe thead th {\n",
       "        text-align: right;\n",
       "    }\n",
       "</style>\n",
       "<table border=\"1\" class=\"dataframe\">\n",
       "  <thead>\n",
       "    <tr style=\"text-align: right;\">\n",
       "      <th></th>\n",
       "      <th>product</th>\n",
       "      <th>weight</th>\n",
       "      <th>brands</th>\n",
       "      <th>nova_4</th>\n",
       "      <th>nutri-score</th>\n",
       "      <th>additives</th>\n",
       "      <th>eco-score</th>\n",
       "      <th>energy</th>\n",
       "      <th>saturated_fats</th>\n",
       "      <th>sugars</th>\n",
       "      <th>eco-score_num</th>\n",
       "      <th>nutri-score_num</th>\n",
       "      <th>nova_4_num</th>\n",
       "    </tr>\n",
       "  </thead>\n",
       "  <tbody>\n",
       "    <tr>\n",
       "      <th>0</th>\n",
       "      <td>Nutella - Ferrero</td>\n",
       "      <td>400 g</td>\n",
       "      <td>Ferrero</td>\n",
       "      <td>Alimentos ultraprocesados</td>\n",
       "      <td>E</td>\n",
       "      <td>E322-Lecitinas,E322i-Lecitina</td>\n",
       "      <td>D</td>\n",
       "      <td>539.0</td>\n",
       "      <td>10.6</td>\n",
       "      <td>56.3</td>\n",
       "      <td>4.0</td>\n",
       "      <td>5.0</td>\n",
       "      <td>4.0</td>\n",
       "    </tr>\n",
       "    <tr>\n",
       "      <th>1</th>\n",
       "      <td>Prince chocolate - Lu</td>\n",
       "      <td>300 g</td>\n",
       "      <td>Lu, Mondelez</td>\n",
       "      <td>Alimentos ultraprocesados</td>\n",
       "      <td>D</td>\n",
       "      <td>E322-Lecitinas,E322i-Lecitina,E500-Carbonatosd...</td>\n",
       "      <td>C</td>\n",
       "      <td>467.0</td>\n",
       "      <td>5.6</td>\n",
       "      <td>32.0</td>\n",
       "      <td>3.0</td>\n",
       "      <td>4.0</td>\n",
       "      <td>4.0</td>\n",
       "    </tr>\n",
       "    <tr>\n",
       "      <th>2</th>\n",
       "      <td>Coca-Cola</td>\n",
       "      <td>330 mL</td>\n",
       "      <td>Coca cola</td>\n",
       "      <td>Alimentos ultraprocesados</td>\n",
       "      <td>E</td>\n",
       "      <td>E150d-Caramelodesulfitoamónico,E338-Ácidofosfó...</td>\n",
       "      <td>NaN</td>\n",
       "      <td>42.0</td>\n",
       "      <td>0.0</td>\n",
       "      <td>10.6</td>\n",
       "      <td>NaN</td>\n",
       "      <td>5.0</td>\n",
       "      <td>4.0</td>\n",
       "    </tr>\n",
       "    <tr>\n",
       "      <th>4</th>\n",
       "      <td>Coca-Cola zero</td>\n",
       "      <td>330 ml</td>\n",
       "      <td>Coca-Cola</td>\n",
       "      <td>Alimentos ultraprocesados</td>\n",
       "      <td>B</td>\n",
       "      <td>E150d-Caramelodesulfitoamónico,E331-Citratosde...</td>\n",
       "      <td>NaN</td>\n",
       "      <td>0.0</td>\n",
       "      <td>0.0</td>\n",
       "      <td>0.0</td>\n",
       "      <td>NaN</td>\n",
       "      <td>2.0</td>\n",
       "      <td>4.0</td>\n",
       "    </tr>\n",
       "    <tr>\n",
       "      <th>5</th>\n",
       "      <td>Ferrero- Nutella Biscuits Resealable Bag, 304g...</td>\n",
       "      <td>304 g</td>\n",
       "      <td>Nutella, Ferrero</td>\n",
       "      <td>NaN</td>\n",
       "      <td>E</td>\n",
       "      <td>u,n,k,n,o,w,n</td>\n",
       "      <td>C</td>\n",
       "      <td>515.0</td>\n",
       "      <td>11.5</td>\n",
       "      <td>35.8</td>\n",
       "      <td>3.0</td>\n",
       "      <td>5.0</td>\n",
       "      <td>NaN</td>\n",
       "    </tr>\n",
       "  </tbody>\n",
       "</table>\n",
       "</div>"
      ],
      "text/plain": [
       "                                             product  weight  \\\n",
       "0                                  Nutella - Ferrero   400 g   \n",
       "1                              Prince chocolate - Lu   300 g   \n",
       "2                                          Coca-Cola  330 mL   \n",
       "4                                     Coca-Cola zero  330 ml   \n",
       "5  Ferrero- Nutella Biscuits Resealable Bag, 304g...   304 g   \n",
       "\n",
       "             brands                     nova_4 nutri-score  \\\n",
       "0           Ferrero  Alimentos ultraprocesados           E   \n",
       "1      Lu, Mondelez  Alimentos ultraprocesados           D   \n",
       "2         Coca cola  Alimentos ultraprocesados           E   \n",
       "4         Coca-Cola  Alimentos ultraprocesados           B   \n",
       "5  Nutella, Ferrero                        NaN           E   \n",
       "\n",
       "                                           additives eco-score  energy  \\\n",
       "0                      E322-Lecitinas,E322i-Lecitina         D   539.0   \n",
       "1  E322-Lecitinas,E322i-Lecitina,E500-Carbonatosd...         C   467.0   \n",
       "2  E150d-Caramelodesulfitoamónico,E338-Ácidofosfó...       NaN    42.0   \n",
       "4  E150d-Caramelodesulfitoamónico,E331-Citratosde...       NaN     0.0   \n",
       "5                                      u,n,k,n,o,w,n         C   515.0   \n",
       "\n",
       "   saturated_fats  sugars  eco-score_num  nutri-score_num  nova_4_num  \n",
       "0            10.6    56.3            4.0              5.0         4.0  \n",
       "1             5.6    32.0            3.0              4.0         4.0  \n",
       "2             0.0    10.6            NaN              5.0         4.0  \n",
       "4             0.0     0.0            NaN              2.0         4.0  \n",
       "5            11.5    35.8            3.0              5.0         NaN  "
      ]
     },
     "execution_count": 56,
     "metadata": {},
     "output_type": "execute_result"
    }
   ],
   "source": [
    "food['additives'] = food['additives'].str.replace(' ', '')\n",
    "food.head()"
   ]
  },
  {
   "cell_type": "code",
   "execution_count": 57,
   "id": "61c6a33c",
   "metadata": {},
   "outputs": [
    {
     "data": {
      "text/plain": [
       "'E322-Lecitinas,E322i-Lecitina,E500-Carbonatosdesodio,E500ii-Bicarbonatodesodio,E503-Carbonatosdeamonio,E503i-Carbonatodeamonio'"
      ]
     },
     "execution_count": 57,
     "metadata": {},
     "output_type": "execute_result"
    }
   ],
   "source": [
    "food.iloc[1]['additives']"
   ]
  },
  {
   "cell_type": "code",
   "execution_count": 58,
   "id": "d30c3b9a",
   "metadata": {},
   "outputs": [
    {
     "data": {
      "text/html": [
       "<div>\n",
       "<style scoped>\n",
       "    .dataframe tbody tr th:only-of-type {\n",
       "        vertical-align: middle;\n",
       "    }\n",
       "\n",
       "    .dataframe tbody tr th {\n",
       "        vertical-align: top;\n",
       "    }\n",
       "\n",
       "    .dataframe thead th {\n",
       "        text-align: right;\n",
       "    }\n",
       "</style>\n",
       "<table border=\"1\" class=\"dataframe\">\n",
       "  <thead>\n",
       "    <tr style=\"text-align: right;\">\n",
       "      <th></th>\n",
       "      <th>product</th>\n",
       "      <th>weight</th>\n",
       "      <th>brands</th>\n",
       "      <th>nova_4</th>\n",
       "      <th>nutri-score</th>\n",
       "      <th>additives</th>\n",
       "      <th>eco-score</th>\n",
       "      <th>energy</th>\n",
       "      <th>saturated_fats</th>\n",
       "      <th>sugars</th>\n",
       "      <th>eco-score_num</th>\n",
       "      <th>nutri-score_num</th>\n",
       "      <th>nova_4_num</th>\n",
       "    </tr>\n",
       "  </thead>\n",
       "  <tbody>\n",
       "    <tr>\n",
       "      <th>0</th>\n",
       "      <td>Nutella - Ferrero</td>\n",
       "      <td>400 g</td>\n",
       "      <td>Ferrero</td>\n",
       "      <td>Alimentos ultraprocesados</td>\n",
       "      <td>E</td>\n",
       "      <td>[E322, E322i]</td>\n",
       "      <td>D</td>\n",
       "      <td>539.0</td>\n",
       "      <td>10.6</td>\n",
       "      <td>56.3</td>\n",
       "      <td>4.0</td>\n",
       "      <td>5.0</td>\n",
       "      <td>4.0</td>\n",
       "    </tr>\n",
       "    <tr>\n",
       "      <th>1</th>\n",
       "      <td>Prince chocolate - Lu</td>\n",
       "      <td>300 g</td>\n",
       "      <td>Lu, Mondelez</td>\n",
       "      <td>Alimentos ultraprocesados</td>\n",
       "      <td>D</td>\n",
       "      <td>[E322, E322i, E500, E500ii, E503, E503i]</td>\n",
       "      <td>C</td>\n",
       "      <td>467.0</td>\n",
       "      <td>5.6</td>\n",
       "      <td>32.0</td>\n",
       "      <td>3.0</td>\n",
       "      <td>4.0</td>\n",
       "      <td>4.0</td>\n",
       "    </tr>\n",
       "    <tr>\n",
       "      <th>2</th>\n",
       "      <td>Coca-Cola</td>\n",
       "      <td>330 mL</td>\n",
       "      <td>Coca cola</td>\n",
       "      <td>Alimentos ultraprocesados</td>\n",
       "      <td>E</td>\n",
       "      <td>[E150d, E338]</td>\n",
       "      <td>NaN</td>\n",
       "      <td>42.0</td>\n",
       "      <td>0.0</td>\n",
       "      <td>10.6</td>\n",
       "      <td>NaN</td>\n",
       "      <td>5.0</td>\n",
       "      <td>4.0</td>\n",
       "    </tr>\n",
       "    <tr>\n",
       "      <th>4</th>\n",
       "      <td>Coca-Cola zero</td>\n",
       "      <td>330 ml</td>\n",
       "      <td>Coca-Cola</td>\n",
       "      <td>Alimentos ultraprocesados</td>\n",
       "      <td>B</td>\n",
       "      <td>[E150d, E331, E338, E950, E951]</td>\n",
       "      <td>NaN</td>\n",
       "      <td>0.0</td>\n",
       "      <td>0.0</td>\n",
       "      <td>0.0</td>\n",
       "      <td>NaN</td>\n",
       "      <td>2.0</td>\n",
       "      <td>4.0</td>\n",
       "    </tr>\n",
       "    <tr>\n",
       "      <th>5</th>\n",
       "      <td>Ferrero- Nutella Biscuits Resealable Bag, 304g...</td>\n",
       "      <td>304 g</td>\n",
       "      <td>Nutella, Ferrero</td>\n",
       "      <td>NaN</td>\n",
       "      <td>E</td>\n",
       "      <td>[]</td>\n",
       "      <td>C</td>\n",
       "      <td>515.0</td>\n",
       "      <td>11.5</td>\n",
       "      <td>35.8</td>\n",
       "      <td>3.0</td>\n",
       "      <td>5.0</td>\n",
       "      <td>NaN</td>\n",
       "    </tr>\n",
       "  </tbody>\n",
       "</table>\n",
       "</div>"
      ],
      "text/plain": [
       "                                             product  weight  \\\n",
       "0                                  Nutella - Ferrero   400 g   \n",
       "1                              Prince chocolate - Lu   300 g   \n",
       "2                                          Coca-Cola  330 mL   \n",
       "4                                     Coca-Cola zero  330 ml   \n",
       "5  Ferrero- Nutella Biscuits Resealable Bag, 304g...   304 g   \n",
       "\n",
       "             brands                     nova_4 nutri-score  \\\n",
       "0           Ferrero  Alimentos ultraprocesados           E   \n",
       "1      Lu, Mondelez  Alimentos ultraprocesados           D   \n",
       "2         Coca cola  Alimentos ultraprocesados           E   \n",
       "4         Coca-Cola  Alimentos ultraprocesados           B   \n",
       "5  Nutella, Ferrero                        NaN           E   \n",
       "\n",
       "                                  additives eco-score  energy  saturated_fats  \\\n",
       "0                             [E322, E322i]         D   539.0            10.6   \n",
       "1  [E322, E322i, E500, E500ii, E503, E503i]         C   467.0             5.6   \n",
       "2                             [E150d, E338]       NaN    42.0             0.0   \n",
       "4           [E150d, E331, E338, E950, E951]       NaN     0.0             0.0   \n",
       "5                                        []         C   515.0            11.5   \n",
       "\n",
       "   sugars  eco-score_num  nutri-score_num  nova_4_num  \n",
       "0    56.3            4.0              5.0         4.0  \n",
       "1    32.0            3.0              4.0         4.0  \n",
       "2    10.6            NaN              5.0         4.0  \n",
       "4     0.0            NaN              2.0         4.0  \n",
       "5    35.8            3.0              5.0         NaN  "
      ]
     },
     "execution_count": 58,
     "metadata": {},
     "output_type": "execute_result"
    }
   ],
   "source": [
    "food['additives'] = food['additives'].str.findall(r'(E\\d+[a-zA-Z]*)')\n",
    "food.head()"
   ]
  },
  {
   "cell_type": "code",
   "execution_count": null,
   "id": "30378eae",
   "metadata": {},
   "outputs": [],
   "source": []
  },
  {
   "cell_type": "code",
   "execution_count": 59,
   "id": "ea87a486",
   "metadata": {},
   "outputs": [
    {
     "data": {
      "text/plain": [
       "list"
      ]
     },
     "execution_count": 59,
     "metadata": {},
     "output_type": "execute_result"
    }
   ],
   "source": [
    "type(food[\"additives\"][0])"
   ]
  },
  {
   "cell_type": "code",
   "execution_count": null,
   "id": "68a178e6",
   "metadata": {},
   "outputs": [],
   "source": []
  }
 ],
 "metadata": {
  "kernelspec": {
   "display_name": "Python 3 (ipykernel)",
   "language": "python",
   "name": "python3"
  },
  "language_info": {
   "codemirror_mode": {
    "name": "ipython",
    "version": 3
   },
   "file_extension": ".py",
   "mimetype": "text/x-python",
   "name": "python",
   "nbconvert_exporter": "python",
   "pygments_lexer": "ipython3",
   "version": "3.10.9"
  }
 },
 "nbformat": 4,
 "nbformat_minor": 5
}
