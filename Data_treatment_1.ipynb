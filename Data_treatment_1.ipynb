{
 "cells": [
  {
   "cell_type": "code",
   "execution_count": 1,
   "id": "7969b354",
   "metadata": {},
   "outputs": [],
   "source": [
    "import pandas as pd\n",
    "\n",
    "import numpy as np\n",
    "\n",
    "import statsmodels.api as sm\n",
    "\n",
    "from statsmodels.formula.api import ols"
   ]
  },
  {
   "cell_type": "code",
   "execution_count": 2,
   "id": "d5d4bd72",
   "metadata": {},
   "outputs": [],
   "source": [
    "pd.set_option('display.max_rows', None)"
   ]
  },
  {
   "cell_type": "code",
   "execution_count": 3,
   "id": "41d13e61",
   "metadata": {},
   "outputs": [],
   "source": [
    "food = pd.read_csv(\"/Users/david/Desktop/IronHack/Projects/food_advisor/raw/1_150.csv\")"
   ]
  },
  {
   "cell_type": "code",
   "execution_count": 4,
   "id": "c5dcc10e",
   "metadata": {},
   "outputs": [
    {
     "data": {
      "text/html": [
       "<div>\n",
       "<style scoped>\n",
       "    .dataframe tbody tr th:only-of-type {\n",
       "        vertical-align: middle;\n",
       "    }\n",
       "\n",
       "    .dataframe tbody tr th {\n",
       "        vertical-align: top;\n",
       "    }\n",
       "\n",
       "    .dataframe thead th {\n",
       "        text-align: right;\n",
       "    }\n",
       "</style>\n",
       "<table border=\"1\" class=\"dataframe\">\n",
       "  <thead>\n",
       "    <tr style=\"text-align: right;\">\n",
       "      <th></th>\n",
       "      <th>Unnamed: 0</th>\n",
       "      <th>Product Name</th>\n",
       "      <th>Brands</th>\n",
       "      <th>NOVA 4</th>\n",
       "      <th>Nutri-Score</th>\n",
       "      <th>Countries</th>\n",
       "      <th>Additives</th>\n",
       "      <th>Eco-Score</th>\n",
       "      <th>Energía</th>\n",
       "      <th>Grasas saturadas</th>\n",
       "      <th>Azúcares</th>\n",
       "    </tr>\n",
       "  </thead>\n",
       "  <tbody>\n",
       "    <tr>\n",
       "      <th>0</th>\n",
       "      <td>0</td>\n",
       "      <td>Nutella - Ferrero - 400 g</td>\n",
       "      <td>Ferrero</td>\n",
       "      <td>Alimentos ultraprocesados</td>\n",
       "      <td>E</td>\n",
       "      <td>Bélgica, Francia, Alemania, Italia, Luxemburgo...</td>\n",
       "      <td>E322 - Lecitinas, E322i - Lecitina</td>\n",
       "      <td>Eco-Score D</td>\n",
       "      <td>2252 kj(539 kcal)</td>\n",
       "      <td>10,6 g</td>\n",
       "      <td>56,3 g</td>\n",
       "    </tr>\n",
       "    <tr>\n",
       "      <th>1</th>\n",
       "      <td>1</td>\n",
       "      <td>Prince chocolate - Lu - 300 g</td>\n",
       "      <td>Lu, Mondelez</td>\n",
       "      <td>Alimentos ultraprocesados</td>\n",
       "      <td>D</td>\n",
       "      <td>Argelia, Bélgica, Francia, Polinesia Francesa,...</td>\n",
       "      <td>E322 - Lecitinas, E322i - Lecitina, E500 - Car...</td>\n",
       "      <td>Eco-Score C</td>\n",
       "      <td>1962 kj(467 kcal)</td>\n",
       "      <td>5,6 g</td>\n",
       "      <td>32 g</td>\n",
       "    </tr>\n",
       "    <tr>\n",
       "      <th>2</th>\n",
       "      <td>2</td>\n",
       "      <td>Coca-Cola - 330 mL</td>\n",
       "      <td>Coca cola</td>\n",
       "      <td>Alimentos ultraprocesados</td>\n",
       "      <td>E</td>\n",
       "      <td>Bélgica, Francia, Alemania, Hungría, Italia, S...</td>\n",
       "      <td>E150d - Caramelo de sulfito amónico, E338 - Ác...</td>\n",
       "      <td>Eco-Score aún no aplicable</td>\n",
       "      <td>180 kj(42 kcal)</td>\n",
       "      <td>0 g</td>\n",
       "      <td>10,6 g</td>\n",
       "    </tr>\n",
       "    <tr>\n",
       "      <th>3</th>\n",
       "      <td>3</td>\n",
       "      <td>Nutella - Ferrero - 1 kg</td>\n",
       "      <td>Ferrero</td>\n",
       "      <td>Alimentos ultraprocesados</td>\n",
       "      <td>E</td>\n",
       "      <td>Argelia, Bélgica, Francia, Alemania, Guadalupe...</td>\n",
       "      <td>E322 - Lecitinas, E322i - Lecitina</td>\n",
       "      <td>Eco-Score D</td>\n",
       "      <td>2252 kj(539 kcal)</td>\n",
       "      <td>10,6 g</td>\n",
       "      <td>56,3 g</td>\n",
       "    </tr>\n",
       "    <tr>\n",
       "      <th>4</th>\n",
       "      <td>4</td>\n",
       "      <td>Coca-Cola zero - 330 ml</td>\n",
       "      <td>Coca-Cola</td>\n",
       "      <td>Alimentos ultraprocesados</td>\n",
       "      <td>B</td>\n",
       "      <td>Bélgica, Francia, Alemania, Hungría, Italia, E...</td>\n",
       "      <td>E150d - Caramelo de sulfito amónico, E331 - Ci...</td>\n",
       "      <td>Eco-Score aún no aplicable</td>\n",
       "      <td>1 kj(0 kcal)</td>\n",
       "      <td>0 g</td>\n",
       "      <td>0 g</td>\n",
       "    </tr>\n",
       "  </tbody>\n",
       "</table>\n",
       "</div>"
      ],
      "text/plain": [
       "   Unnamed: 0                   Product Name        Brands  \\\n",
       "0           0      Nutella - Ferrero - 400 g       Ferrero   \n",
       "1           1  Prince chocolate - Lu - 300 g  Lu, Mondelez   \n",
       "2           2             Coca-Cola - 330 mL     Coca cola   \n",
       "3           3       Nutella - Ferrero - 1 kg       Ferrero   \n",
       "4           4        Coca-Cola zero - 330 ml     Coca-Cola   \n",
       "\n",
       "                      NOVA 4 Nutri-Score  \\\n",
       "0  Alimentos ultraprocesados           E   \n",
       "1  Alimentos ultraprocesados           D   \n",
       "2  Alimentos ultraprocesados           E   \n",
       "3  Alimentos ultraprocesados           E   \n",
       "4  Alimentos ultraprocesados           B   \n",
       "\n",
       "                                           Countries  \\\n",
       "0  Bélgica, Francia, Alemania, Italia, Luxemburgo...   \n",
       "1  Argelia, Bélgica, Francia, Polinesia Francesa,...   \n",
       "2  Bélgica, Francia, Alemania, Hungría, Italia, S...   \n",
       "3  Argelia, Bélgica, Francia, Alemania, Guadalupe...   \n",
       "4  Bélgica, Francia, Alemania, Hungría, Italia, E...   \n",
       "\n",
       "                                           Additives  \\\n",
       "0                 E322 - Lecitinas, E322i - Lecitina   \n",
       "1  E322 - Lecitinas, E322i - Lecitina, E500 - Car...   \n",
       "2  E150d - Caramelo de sulfito amónico, E338 - Ác...   \n",
       "3                 E322 - Lecitinas, E322i - Lecitina   \n",
       "4  E150d - Caramelo de sulfito amónico, E331 - Ci...   \n",
       "\n",
       "                    Eco-Score            Energía Grasas saturadas Azúcares  \n",
       "0                 Eco-Score D  2252 kj(539 kcal)           10,6 g   56,3 g  \n",
       "1                 Eco-Score C  1962 kj(467 kcal)            5,6 g     32 g  \n",
       "2  Eco-Score aún no aplicable    180 kj(42 kcal)              0 g   10,6 g  \n",
       "3                 Eco-Score D  2252 kj(539 kcal)           10,6 g   56,3 g  \n",
       "4  Eco-Score aún no aplicable       1 kj(0 kcal)              0 g      0 g  "
      ]
     },
     "execution_count": 4,
     "metadata": {},
     "output_type": "execute_result"
    }
   ],
   "source": [
    "food.head()"
   ]
  },
  {
   "cell_type": "code",
   "execution_count": 5,
   "id": "308d9825",
   "metadata": {},
   "outputs": [
    {
     "data": {
      "text/plain": [
       "(14800, 11)"
      ]
     },
     "execution_count": 5,
     "metadata": {},
     "output_type": "execute_result"
    }
   ],
   "source": [
    "food.shape"
   ]
  },
  {
   "cell_type": "code",
   "execution_count": 6,
   "id": "392aa6f8",
   "metadata": {
    "scrolled": true
   },
   "outputs": [
    {
     "name": "stdout",
     "output_type": "stream",
     "text": [
      "<class 'pandas.core.frame.DataFrame'>\n",
      "RangeIndex: 14800 entries, 0 to 14799\n",
      "Data columns (total 11 columns):\n",
      " #   Column            Non-Null Count  Dtype \n",
      "---  ------            --------------  ----- \n",
      " 0   Unnamed: 0        14800 non-null  int64 \n",
      " 1   Product Name      14800 non-null  object\n",
      " 2   Brands            14800 non-null  object\n",
      " 3   NOVA 4            14800 non-null  object\n",
      " 4   Nutri-Score       14800 non-null  object\n",
      " 5   Countries         14800 non-null  object\n",
      " 6   Additives         14800 non-null  object\n",
      " 7   Eco-Score         14800 non-null  object\n",
      " 8   Energía           14009 non-null  object\n",
      " 9   Grasas saturadas  14006 non-null  object\n",
      " 10  Azúcares          14006 non-null  object\n",
      "dtypes: int64(1), object(10)\n",
      "memory usage: 1.2+ MB\n"
     ]
    }
   ],
   "source": [
    "food.info()"
   ]
  },
  {
   "cell_type": "code",
   "execution_count": 7,
   "id": "3b94b44b",
   "metadata": {},
   "outputs": [],
   "source": [
    "# delete the column \"Unnamed: 0\"\n",
    "food.drop(\"Unnamed: 0\", axis=1, inplace=True)"
   ]
  },
  {
   "cell_type": "code",
   "execution_count": 8,
   "id": "e30eab7e",
   "metadata": {},
   "outputs": [
    {
     "data": {
      "text/plain": [
       "(24, 10)"
      ]
     },
     "execution_count": 8,
     "metadata": {},
     "output_type": "execute_result"
    }
   ],
   "source": [
    "# check duplicated rows\n",
    "\n",
    "food[food.duplicated()].shape"
   ]
  },
  {
   "cell_type": "code",
   "execution_count": 9,
   "id": "4b40c958",
   "metadata": {},
   "outputs": [],
   "source": [
    "# delete duplicated rows\n",
    "\n",
    "food.drop_duplicates(inplace=True)\n"
   ]
  },
  {
   "cell_type": "code",
   "execution_count": 10,
   "id": "7b4444e6",
   "metadata": {},
   "outputs": [
    {
     "data": {
      "text/plain": [
       "(0, 10)"
      ]
     },
     "execution_count": 10,
     "metadata": {},
     "output_type": "execute_result"
    }
   ],
   "source": [
    "# check duplicated rows again\n",
    "\n",
    "food[food.duplicated()].shape"
   ]
  },
  {
   "cell_type": "code",
   "execution_count": 11,
   "id": "5d4169fa",
   "metadata": {},
   "outputs": [
    {
     "data": {
      "text/plain": [
       "(14776, 10)"
      ]
     },
     "execution_count": 11,
     "metadata": {},
     "output_type": "execute_result"
    }
   ],
   "source": [
    "food.shape"
   ]
  },
  {
   "cell_type": "code",
   "execution_count": 12,
   "id": "5c0b8e66",
   "metadata": {},
   "outputs": [
    {
     "data": {
      "text/html": [
       "<div>\n",
       "<style scoped>\n",
       "    .dataframe tbody tr th:only-of-type {\n",
       "        vertical-align: middle;\n",
       "    }\n",
       "\n",
       "    .dataframe tbody tr th {\n",
       "        vertical-align: top;\n",
       "    }\n",
       "\n",
       "    .dataframe thead th {\n",
       "        text-align: right;\n",
       "    }\n",
       "</style>\n",
       "<table border=\"1\" class=\"dataframe\">\n",
       "  <thead>\n",
       "    <tr style=\"text-align: right;\">\n",
       "      <th></th>\n",
       "      <th>Product Name</th>\n",
       "      <th>Brands</th>\n",
       "      <th>NOVA 4</th>\n",
       "      <th>Nutri-Score</th>\n",
       "      <th>Countries</th>\n",
       "      <th>Additives</th>\n",
       "      <th>Eco-Score</th>\n",
       "      <th>Energía</th>\n",
       "      <th>Grasas saturadas</th>\n",
       "      <th>Azúcares</th>\n",
       "    </tr>\n",
       "  </thead>\n",
       "  <tbody>\n",
       "    <tr>\n",
       "      <th>0</th>\n",
       "      <td>Nutella - Ferrero - 400 g</td>\n",
       "      <td>Ferrero</td>\n",
       "      <td>Alimentos ultraprocesados</td>\n",
       "      <td>E</td>\n",
       "      <td>Bélgica, Francia, Alemania, Italia, Luxemburgo...</td>\n",
       "      <td>E322 - Lecitinas, E322i - Lecitina</td>\n",
       "      <td>Eco-Score D</td>\n",
       "      <td>2252 kj(539 kcal)</td>\n",
       "      <td>10,6 g</td>\n",
       "      <td>56,3 g</td>\n",
       "    </tr>\n",
       "    <tr>\n",
       "      <th>1</th>\n",
       "      <td>Prince chocolate - Lu - 300 g</td>\n",
       "      <td>Lu, Mondelez</td>\n",
       "      <td>Alimentos ultraprocesados</td>\n",
       "      <td>D</td>\n",
       "      <td>Argelia, Bélgica, Francia, Polinesia Francesa,...</td>\n",
       "      <td>E322 - Lecitinas, E322i - Lecitina, E500 - Car...</td>\n",
       "      <td>Eco-Score C</td>\n",
       "      <td>1962 kj(467 kcal)</td>\n",
       "      <td>5,6 g</td>\n",
       "      <td>32 g</td>\n",
       "    </tr>\n",
       "    <tr>\n",
       "      <th>2</th>\n",
       "      <td>Coca-Cola - 330 mL</td>\n",
       "      <td>Coca cola</td>\n",
       "      <td>Alimentos ultraprocesados</td>\n",
       "      <td>E</td>\n",
       "      <td>Bélgica, Francia, Alemania, Hungría, Italia, S...</td>\n",
       "      <td>E150d - Caramelo de sulfito amónico, E338 - Ác...</td>\n",
       "      <td>Eco-Score aún no aplicable</td>\n",
       "      <td>180 kj(42 kcal)</td>\n",
       "      <td>0 g</td>\n",
       "      <td>10,6 g</td>\n",
       "    </tr>\n",
       "    <tr>\n",
       "      <th>3</th>\n",
       "      <td>Nutella - Ferrero - 1 kg</td>\n",
       "      <td>Ferrero</td>\n",
       "      <td>Alimentos ultraprocesados</td>\n",
       "      <td>E</td>\n",
       "      <td>Argelia, Bélgica, Francia, Alemania, Guadalupe...</td>\n",
       "      <td>E322 - Lecitinas, E322i - Lecitina</td>\n",
       "      <td>Eco-Score D</td>\n",
       "      <td>2252 kj(539 kcal)</td>\n",
       "      <td>10,6 g</td>\n",
       "      <td>56,3 g</td>\n",
       "    </tr>\n",
       "    <tr>\n",
       "      <th>4</th>\n",
       "      <td>Coca-Cola zero - 330 ml</td>\n",
       "      <td>Coca-Cola</td>\n",
       "      <td>Alimentos ultraprocesados</td>\n",
       "      <td>B</td>\n",
       "      <td>Bélgica, Francia, Alemania, Hungría, Italia, E...</td>\n",
       "      <td>E150d - Caramelo de sulfito amónico, E331 - Ci...</td>\n",
       "      <td>Eco-Score aún no aplicable</td>\n",
       "      <td>1 kj(0 kcal)</td>\n",
       "      <td>0 g</td>\n",
       "      <td>0 g</td>\n",
       "    </tr>\n",
       "  </tbody>\n",
       "</table>\n",
       "</div>"
      ],
      "text/plain": [
       "                    Product Name        Brands                     NOVA 4  \\\n",
       "0      Nutella - Ferrero - 400 g       Ferrero  Alimentos ultraprocesados   \n",
       "1  Prince chocolate - Lu - 300 g  Lu, Mondelez  Alimentos ultraprocesados   \n",
       "2             Coca-Cola - 330 mL     Coca cola  Alimentos ultraprocesados   \n",
       "3       Nutella - Ferrero - 1 kg       Ferrero  Alimentos ultraprocesados   \n",
       "4        Coca-Cola zero - 330 ml     Coca-Cola  Alimentos ultraprocesados   \n",
       "\n",
       "  Nutri-Score                                          Countries  \\\n",
       "0           E  Bélgica, Francia, Alemania, Italia, Luxemburgo...   \n",
       "1           D  Argelia, Bélgica, Francia, Polinesia Francesa,...   \n",
       "2           E  Bélgica, Francia, Alemania, Hungría, Italia, S...   \n",
       "3           E  Argelia, Bélgica, Francia, Alemania, Guadalupe...   \n",
       "4           B  Bélgica, Francia, Alemania, Hungría, Italia, E...   \n",
       "\n",
       "                                           Additives  \\\n",
       "0                 E322 - Lecitinas, E322i - Lecitina   \n",
       "1  E322 - Lecitinas, E322i - Lecitina, E500 - Car...   \n",
       "2  E150d - Caramelo de sulfito amónico, E338 - Ác...   \n",
       "3                 E322 - Lecitinas, E322i - Lecitina   \n",
       "4  E150d - Caramelo de sulfito amónico, E331 - Ci...   \n",
       "\n",
       "                    Eco-Score            Energía Grasas saturadas Azúcares  \n",
       "0                 Eco-Score D  2252 kj(539 kcal)           10,6 g   56,3 g  \n",
       "1                 Eco-Score C  1962 kj(467 kcal)            5,6 g     32 g  \n",
       "2  Eco-Score aún no aplicable    180 kj(42 kcal)              0 g   10,6 g  \n",
       "3                 Eco-Score D  2252 kj(539 kcal)           10,6 g   56,3 g  \n",
       "4  Eco-Score aún no aplicable       1 kj(0 kcal)              0 g      0 g  "
      ]
     },
     "execution_count": 12,
     "metadata": {},
     "output_type": "execute_result"
    }
   ],
   "source": [
    "food.head()"
   ]
  },
  {
   "cell_type": "code",
   "execution_count": 13,
   "id": "60640b3d",
   "metadata": {},
   "outputs": [],
   "source": [
    "# make the name of the columns snake-case and lowercase\n",
    "\n",
    "food.rename(columns=lambda x: x.lower().replace(\" \", \"_\"), inplace=True)"
   ]
  },
  {
   "cell_type": "code",
   "execution_count": 14,
   "id": "abbcb623",
   "metadata": {},
   "outputs": [
    {
     "data": {
      "text/html": [
       "<div>\n",
       "<style scoped>\n",
       "    .dataframe tbody tr th:only-of-type {\n",
       "        vertical-align: middle;\n",
       "    }\n",
       "\n",
       "    .dataframe tbody tr th {\n",
       "        vertical-align: top;\n",
       "    }\n",
       "\n",
       "    .dataframe thead th {\n",
       "        text-align: right;\n",
       "    }\n",
       "</style>\n",
       "<table border=\"1\" class=\"dataframe\">\n",
       "  <thead>\n",
       "    <tr style=\"text-align: right;\">\n",
       "      <th></th>\n",
       "      <th>product_name</th>\n",
       "      <th>brands</th>\n",
       "      <th>nova_4</th>\n",
       "      <th>nutri-score</th>\n",
       "      <th>countries</th>\n",
       "      <th>additives</th>\n",
       "      <th>eco-score</th>\n",
       "      <th>energía</th>\n",
       "      <th>grasas_saturadas</th>\n",
       "      <th>azúcares</th>\n",
       "    </tr>\n",
       "  </thead>\n",
       "  <tbody>\n",
       "    <tr>\n",
       "      <th>0</th>\n",
       "      <td>Nutella - Ferrero - 400 g</td>\n",
       "      <td>Ferrero</td>\n",
       "      <td>Alimentos ultraprocesados</td>\n",
       "      <td>E</td>\n",
       "      <td>Bélgica, Francia, Alemania, Italia, Luxemburgo...</td>\n",
       "      <td>E322 - Lecitinas, E322i - Lecitina</td>\n",
       "      <td>Eco-Score D</td>\n",
       "      <td>2252 kj(539 kcal)</td>\n",
       "      <td>10,6 g</td>\n",
       "      <td>56,3 g</td>\n",
       "    </tr>\n",
       "    <tr>\n",
       "      <th>1</th>\n",
       "      <td>Prince chocolate - Lu - 300 g</td>\n",
       "      <td>Lu, Mondelez</td>\n",
       "      <td>Alimentos ultraprocesados</td>\n",
       "      <td>D</td>\n",
       "      <td>Argelia, Bélgica, Francia, Polinesia Francesa,...</td>\n",
       "      <td>E322 - Lecitinas, E322i - Lecitina, E500 - Car...</td>\n",
       "      <td>Eco-Score C</td>\n",
       "      <td>1962 kj(467 kcal)</td>\n",
       "      <td>5,6 g</td>\n",
       "      <td>32 g</td>\n",
       "    </tr>\n",
       "    <tr>\n",
       "      <th>2</th>\n",
       "      <td>Coca-Cola - 330 mL</td>\n",
       "      <td>Coca cola</td>\n",
       "      <td>Alimentos ultraprocesados</td>\n",
       "      <td>E</td>\n",
       "      <td>Bélgica, Francia, Alemania, Hungría, Italia, S...</td>\n",
       "      <td>E150d - Caramelo de sulfito amónico, E338 - Ác...</td>\n",
       "      <td>Eco-Score aún no aplicable</td>\n",
       "      <td>180 kj(42 kcal)</td>\n",
       "      <td>0 g</td>\n",
       "      <td>10,6 g</td>\n",
       "    </tr>\n",
       "    <tr>\n",
       "      <th>3</th>\n",
       "      <td>Nutella - Ferrero - 1 kg</td>\n",
       "      <td>Ferrero</td>\n",
       "      <td>Alimentos ultraprocesados</td>\n",
       "      <td>E</td>\n",
       "      <td>Argelia, Bélgica, Francia, Alemania, Guadalupe...</td>\n",
       "      <td>E322 - Lecitinas, E322i - Lecitina</td>\n",
       "      <td>Eco-Score D</td>\n",
       "      <td>2252 kj(539 kcal)</td>\n",
       "      <td>10,6 g</td>\n",
       "      <td>56,3 g</td>\n",
       "    </tr>\n",
       "    <tr>\n",
       "      <th>4</th>\n",
       "      <td>Coca-Cola zero - 330 ml</td>\n",
       "      <td>Coca-Cola</td>\n",
       "      <td>Alimentos ultraprocesados</td>\n",
       "      <td>B</td>\n",
       "      <td>Bélgica, Francia, Alemania, Hungría, Italia, E...</td>\n",
       "      <td>E150d - Caramelo de sulfito amónico, E331 - Ci...</td>\n",
       "      <td>Eco-Score aún no aplicable</td>\n",
       "      <td>1 kj(0 kcal)</td>\n",
       "      <td>0 g</td>\n",
       "      <td>0 g</td>\n",
       "    </tr>\n",
       "  </tbody>\n",
       "</table>\n",
       "</div>"
      ],
      "text/plain": [
       "                    product_name        brands                     nova_4  \\\n",
       "0      Nutella - Ferrero - 400 g       Ferrero  Alimentos ultraprocesados   \n",
       "1  Prince chocolate - Lu - 300 g  Lu, Mondelez  Alimentos ultraprocesados   \n",
       "2             Coca-Cola - 330 mL     Coca cola  Alimentos ultraprocesados   \n",
       "3       Nutella - Ferrero - 1 kg       Ferrero  Alimentos ultraprocesados   \n",
       "4        Coca-Cola zero - 330 ml     Coca-Cola  Alimentos ultraprocesados   \n",
       "\n",
       "  nutri-score                                          countries  \\\n",
       "0           E  Bélgica, Francia, Alemania, Italia, Luxemburgo...   \n",
       "1           D  Argelia, Bélgica, Francia, Polinesia Francesa,...   \n",
       "2           E  Bélgica, Francia, Alemania, Hungría, Italia, S...   \n",
       "3           E  Argelia, Bélgica, Francia, Alemania, Guadalupe...   \n",
       "4           B  Bélgica, Francia, Alemania, Hungría, Italia, E...   \n",
       "\n",
       "                                           additives  \\\n",
       "0                 E322 - Lecitinas, E322i - Lecitina   \n",
       "1  E322 - Lecitinas, E322i - Lecitina, E500 - Car...   \n",
       "2  E150d - Caramelo de sulfito amónico, E338 - Ác...   \n",
       "3                 E322 - Lecitinas, E322i - Lecitina   \n",
       "4  E150d - Caramelo de sulfito amónico, E331 - Ci...   \n",
       "\n",
       "                    eco-score            energía grasas_saturadas azúcares  \n",
       "0                 Eco-Score D  2252 kj(539 kcal)           10,6 g   56,3 g  \n",
       "1                 Eco-Score C  1962 kj(467 kcal)            5,6 g     32 g  \n",
       "2  Eco-Score aún no aplicable    180 kj(42 kcal)              0 g   10,6 g  \n",
       "3                 Eco-Score D  2252 kj(539 kcal)           10,6 g   56,3 g  \n",
       "4  Eco-Score aún no aplicable       1 kj(0 kcal)              0 g      0 g  "
      ]
     },
     "execution_count": 14,
     "metadata": {},
     "output_type": "execute_result"
    }
   ],
   "source": [
    "food.head()"
   ]
  },
  {
   "cell_type": "code",
   "execution_count": 15,
   "id": "62cb686d",
   "metadata": {},
   "outputs": [],
   "source": [
    "# change the name of the columns\n",
    "\n",
    "food.rename(columns={\n",
    "    \"grasas_saturadas\": \"saturated_fats\",\n",
    "    \"azúcares\": \"sugars\",\n",
    "    \"energía\": \"energy\"\n",
    "}, inplace=True)"
   ]
  },
  {
   "cell_type": "code",
   "execution_count": 16,
   "id": "bcdc0482",
   "metadata": {},
   "outputs": [
    {
     "data": {
      "text/html": [
       "<div>\n",
       "<style scoped>\n",
       "    .dataframe tbody tr th:only-of-type {\n",
       "        vertical-align: middle;\n",
       "    }\n",
       "\n",
       "    .dataframe tbody tr th {\n",
       "        vertical-align: top;\n",
       "    }\n",
       "\n",
       "    .dataframe thead th {\n",
       "        text-align: right;\n",
       "    }\n",
       "</style>\n",
       "<table border=\"1\" class=\"dataframe\">\n",
       "  <thead>\n",
       "    <tr style=\"text-align: right;\">\n",
       "      <th></th>\n",
       "      <th>product_name</th>\n",
       "      <th>brands</th>\n",
       "      <th>nova_4</th>\n",
       "      <th>nutri-score</th>\n",
       "      <th>countries</th>\n",
       "      <th>additives</th>\n",
       "      <th>eco-score</th>\n",
       "      <th>energy</th>\n",
       "      <th>saturated_fats</th>\n",
       "      <th>sugars</th>\n",
       "    </tr>\n",
       "  </thead>\n",
       "  <tbody>\n",
       "    <tr>\n",
       "      <th>0</th>\n",
       "      <td>Nutella - Ferrero - 400 g</td>\n",
       "      <td>Ferrero</td>\n",
       "      <td>Alimentos ultraprocesados</td>\n",
       "      <td>E</td>\n",
       "      <td>Bélgica, Francia, Alemania, Italia, Luxemburgo...</td>\n",
       "      <td>E322 - Lecitinas, E322i - Lecitina</td>\n",
       "      <td>Eco-Score D</td>\n",
       "      <td>2252 kj(539 kcal)</td>\n",
       "      <td>10,6 g</td>\n",
       "      <td>56,3 g</td>\n",
       "    </tr>\n",
       "    <tr>\n",
       "      <th>1</th>\n",
       "      <td>Prince chocolate - Lu - 300 g</td>\n",
       "      <td>Lu, Mondelez</td>\n",
       "      <td>Alimentos ultraprocesados</td>\n",
       "      <td>D</td>\n",
       "      <td>Argelia, Bélgica, Francia, Polinesia Francesa,...</td>\n",
       "      <td>E322 - Lecitinas, E322i - Lecitina, E500 - Car...</td>\n",
       "      <td>Eco-Score C</td>\n",
       "      <td>1962 kj(467 kcal)</td>\n",
       "      <td>5,6 g</td>\n",
       "      <td>32 g</td>\n",
       "    </tr>\n",
       "    <tr>\n",
       "      <th>2</th>\n",
       "      <td>Coca-Cola - 330 mL</td>\n",
       "      <td>Coca cola</td>\n",
       "      <td>Alimentos ultraprocesados</td>\n",
       "      <td>E</td>\n",
       "      <td>Bélgica, Francia, Alemania, Hungría, Italia, S...</td>\n",
       "      <td>E150d - Caramelo de sulfito amónico, E338 - Ác...</td>\n",
       "      <td>Eco-Score aún no aplicable</td>\n",
       "      <td>180 kj(42 kcal)</td>\n",
       "      <td>0 g</td>\n",
       "      <td>10,6 g</td>\n",
       "    </tr>\n",
       "    <tr>\n",
       "      <th>3</th>\n",
       "      <td>Nutella - Ferrero - 1 kg</td>\n",
       "      <td>Ferrero</td>\n",
       "      <td>Alimentos ultraprocesados</td>\n",
       "      <td>E</td>\n",
       "      <td>Argelia, Bélgica, Francia, Alemania, Guadalupe...</td>\n",
       "      <td>E322 - Lecitinas, E322i - Lecitina</td>\n",
       "      <td>Eco-Score D</td>\n",
       "      <td>2252 kj(539 kcal)</td>\n",
       "      <td>10,6 g</td>\n",
       "      <td>56,3 g</td>\n",
       "    </tr>\n",
       "    <tr>\n",
       "      <th>4</th>\n",
       "      <td>Coca-Cola zero - 330 ml</td>\n",
       "      <td>Coca-Cola</td>\n",
       "      <td>Alimentos ultraprocesados</td>\n",
       "      <td>B</td>\n",
       "      <td>Bélgica, Francia, Alemania, Hungría, Italia, E...</td>\n",
       "      <td>E150d - Caramelo de sulfito amónico, E331 - Ci...</td>\n",
       "      <td>Eco-Score aún no aplicable</td>\n",
       "      <td>1 kj(0 kcal)</td>\n",
       "      <td>0 g</td>\n",
       "      <td>0 g</td>\n",
       "    </tr>\n",
       "  </tbody>\n",
       "</table>\n",
       "</div>"
      ],
      "text/plain": [
       "                    product_name        brands                     nova_4  \\\n",
       "0      Nutella - Ferrero - 400 g       Ferrero  Alimentos ultraprocesados   \n",
       "1  Prince chocolate - Lu - 300 g  Lu, Mondelez  Alimentos ultraprocesados   \n",
       "2             Coca-Cola - 330 mL     Coca cola  Alimentos ultraprocesados   \n",
       "3       Nutella - Ferrero - 1 kg       Ferrero  Alimentos ultraprocesados   \n",
       "4        Coca-Cola zero - 330 ml     Coca-Cola  Alimentos ultraprocesados   \n",
       "\n",
       "  nutri-score                                          countries  \\\n",
       "0           E  Bélgica, Francia, Alemania, Italia, Luxemburgo...   \n",
       "1           D  Argelia, Bélgica, Francia, Polinesia Francesa,...   \n",
       "2           E  Bélgica, Francia, Alemania, Hungría, Italia, S...   \n",
       "3           E  Argelia, Bélgica, Francia, Alemania, Guadalupe...   \n",
       "4           B  Bélgica, Francia, Alemania, Hungría, Italia, E...   \n",
       "\n",
       "                                           additives  \\\n",
       "0                 E322 - Lecitinas, E322i - Lecitina   \n",
       "1  E322 - Lecitinas, E322i - Lecitina, E500 - Car...   \n",
       "2  E150d - Caramelo de sulfito amónico, E338 - Ác...   \n",
       "3                 E322 - Lecitinas, E322i - Lecitina   \n",
       "4  E150d - Caramelo de sulfito amónico, E331 - Ci...   \n",
       "\n",
       "                    eco-score             energy saturated_fats  sugars  \n",
       "0                 Eco-Score D  2252 kj(539 kcal)         10,6 g  56,3 g  \n",
       "1                 Eco-Score C  1962 kj(467 kcal)          5,6 g    32 g  \n",
       "2  Eco-Score aún no aplicable    180 kj(42 kcal)            0 g  10,6 g  \n",
       "3                 Eco-Score D  2252 kj(539 kcal)         10,6 g  56,3 g  \n",
       "4  Eco-Score aún no aplicable       1 kj(0 kcal)            0 g     0 g  "
      ]
     },
     "execution_count": 16,
     "metadata": {},
     "output_type": "execute_result"
    }
   ],
   "source": [
    "food.head()"
   ]
  },
  {
   "cell_type": "code",
   "execution_count": 17,
   "id": "46f8a3d2",
   "metadata": {},
   "outputs": [
    {
     "data": {
      "text/plain": [
       "(215, 10)"
      ]
     },
     "execution_count": 17,
     "metadata": {},
     "output_type": "execute_result"
    }
   ],
   "source": [
    "# check duplicated rows regarding \"product name\"\n",
    "\n",
    "food[food.duplicated(subset=['product_name'])].shape"
   ]
  },
  {
   "cell_type": "code",
   "execution_count": 18,
   "id": "d78eee3e",
   "metadata": {},
   "outputs": [
    {
     "data": {
      "text/plain": [
       "(14561, 10)"
      ]
     },
     "execution_count": 18,
     "metadata": {},
     "output_type": "execute_result"
    }
   ],
   "source": [
    "# delete duplicated rows regarding \"product name\"\n",
    "\n",
    "food.drop_duplicates(subset=['product_name'], keep='first', inplace=True)\n",
    "\n",
    "food.shape"
   ]
  },
  {
   "cell_type": "code",
   "execution_count": 19,
   "id": "d3996f9a",
   "metadata": {},
   "outputs": [
    {
     "data": {
      "text/html": [
       "<div>\n",
       "<style scoped>\n",
       "    .dataframe tbody tr th:only-of-type {\n",
       "        vertical-align: middle;\n",
       "    }\n",
       "\n",
       "    .dataframe tbody tr th {\n",
       "        vertical-align: top;\n",
       "    }\n",
       "\n",
       "    .dataframe thead th {\n",
       "        text-align: right;\n",
       "    }\n",
       "</style>\n",
       "<table border=\"1\" class=\"dataframe\">\n",
       "  <thead>\n",
       "    <tr style=\"text-align: right;\">\n",
       "      <th></th>\n",
       "      <th>product_name</th>\n",
       "      <th>brands</th>\n",
       "      <th>nova_4</th>\n",
       "      <th>nutri-score</th>\n",
       "      <th>countries</th>\n",
       "      <th>additives</th>\n",
       "      <th>eco-score</th>\n",
       "      <th>energy</th>\n",
       "      <th>saturated_fats</th>\n",
       "      <th>sugars</th>\n",
       "      <th>product</th>\n",
       "      <th>weight</th>\n",
       "    </tr>\n",
       "  </thead>\n",
       "  <tbody>\n",
       "    <tr>\n",
       "      <th>0</th>\n",
       "      <td>Nutella - Ferrero - 400 g</td>\n",
       "      <td>Ferrero</td>\n",
       "      <td>Alimentos ultraprocesados</td>\n",
       "      <td>E</td>\n",
       "      <td>Bélgica, Francia, Alemania, Italia, Luxemburgo...</td>\n",
       "      <td>E322 - Lecitinas, E322i - Lecitina</td>\n",
       "      <td>Eco-Score D</td>\n",
       "      <td>2252 kj(539 kcal)</td>\n",
       "      <td>10,6 g</td>\n",
       "      <td>56,3 g</td>\n",
       "      <td>Nutella - Ferrero</td>\n",
       "      <td>400 g</td>\n",
       "    </tr>\n",
       "    <tr>\n",
       "      <th>1</th>\n",
       "      <td>Prince chocolate - Lu - 300 g</td>\n",
       "      <td>Lu, Mondelez</td>\n",
       "      <td>Alimentos ultraprocesados</td>\n",
       "      <td>D</td>\n",
       "      <td>Argelia, Bélgica, Francia, Polinesia Francesa,...</td>\n",
       "      <td>E322 - Lecitinas, E322i - Lecitina, E500 - Car...</td>\n",
       "      <td>Eco-Score C</td>\n",
       "      <td>1962 kj(467 kcal)</td>\n",
       "      <td>5,6 g</td>\n",
       "      <td>32 g</td>\n",
       "      <td>Prince chocolate - Lu</td>\n",
       "      <td>300 g</td>\n",
       "    </tr>\n",
       "    <tr>\n",
       "      <th>2</th>\n",
       "      <td>Coca-Cola - 330 mL</td>\n",
       "      <td>Coca cola</td>\n",
       "      <td>Alimentos ultraprocesados</td>\n",
       "      <td>E</td>\n",
       "      <td>Bélgica, Francia, Alemania, Hungría, Italia, S...</td>\n",
       "      <td>E150d - Caramelo de sulfito amónico, E338 - Ác...</td>\n",
       "      <td>Eco-Score aún no aplicable</td>\n",
       "      <td>180 kj(42 kcal)</td>\n",
       "      <td>0 g</td>\n",
       "      <td>10,6 g</td>\n",
       "      <td>Coca-Cola</td>\n",
       "      <td>330 mL</td>\n",
       "    </tr>\n",
       "    <tr>\n",
       "      <th>3</th>\n",
       "      <td>Nutella - Ferrero - 1 kg</td>\n",
       "      <td>Ferrero</td>\n",
       "      <td>Alimentos ultraprocesados</td>\n",
       "      <td>E</td>\n",
       "      <td>Argelia, Bélgica, Francia, Alemania, Guadalupe...</td>\n",
       "      <td>E322 - Lecitinas, E322i - Lecitina</td>\n",
       "      <td>Eco-Score D</td>\n",
       "      <td>2252 kj(539 kcal)</td>\n",
       "      <td>10,6 g</td>\n",
       "      <td>56,3 g</td>\n",
       "      <td>Nutella - Ferrero</td>\n",
       "      <td>1 kg</td>\n",
       "    </tr>\n",
       "    <tr>\n",
       "      <th>4</th>\n",
       "      <td>Coca-Cola zero - 330 ml</td>\n",
       "      <td>Coca-Cola</td>\n",
       "      <td>Alimentos ultraprocesados</td>\n",
       "      <td>B</td>\n",
       "      <td>Bélgica, Francia, Alemania, Hungría, Italia, E...</td>\n",
       "      <td>E150d - Caramelo de sulfito amónico, E331 - Ci...</td>\n",
       "      <td>Eco-Score aún no aplicable</td>\n",
       "      <td>1 kj(0 kcal)</td>\n",
       "      <td>0 g</td>\n",
       "      <td>0 g</td>\n",
       "      <td>Coca-Cola zero</td>\n",
       "      <td>330 ml</td>\n",
       "    </tr>\n",
       "  </tbody>\n",
       "</table>\n",
       "</div>"
      ],
      "text/plain": [
       "                    product_name        brands                     nova_4  \\\n",
       "0      Nutella - Ferrero - 400 g       Ferrero  Alimentos ultraprocesados   \n",
       "1  Prince chocolate - Lu - 300 g  Lu, Mondelez  Alimentos ultraprocesados   \n",
       "2             Coca-Cola - 330 mL     Coca cola  Alimentos ultraprocesados   \n",
       "3       Nutella - Ferrero - 1 kg       Ferrero  Alimentos ultraprocesados   \n",
       "4        Coca-Cola zero - 330 ml     Coca-Cola  Alimentos ultraprocesados   \n",
       "\n",
       "  nutri-score                                          countries  \\\n",
       "0           E  Bélgica, Francia, Alemania, Italia, Luxemburgo...   \n",
       "1           D  Argelia, Bélgica, Francia, Polinesia Francesa,...   \n",
       "2           E  Bélgica, Francia, Alemania, Hungría, Italia, S...   \n",
       "3           E  Argelia, Bélgica, Francia, Alemania, Guadalupe...   \n",
       "4           B  Bélgica, Francia, Alemania, Hungría, Italia, E...   \n",
       "\n",
       "                                           additives  \\\n",
       "0                 E322 - Lecitinas, E322i - Lecitina   \n",
       "1  E322 - Lecitinas, E322i - Lecitina, E500 - Car...   \n",
       "2  E150d - Caramelo de sulfito amónico, E338 - Ác...   \n",
       "3                 E322 - Lecitinas, E322i - Lecitina   \n",
       "4  E150d - Caramelo de sulfito amónico, E331 - Ci...   \n",
       "\n",
       "                    eco-score             energy saturated_fats  sugars  \\\n",
       "0                 Eco-Score D  2252 kj(539 kcal)         10,6 g  56,3 g   \n",
       "1                 Eco-Score C  1962 kj(467 kcal)          5,6 g    32 g   \n",
       "2  Eco-Score aún no aplicable    180 kj(42 kcal)            0 g  10,6 g   \n",
       "3                 Eco-Score D  2252 kj(539 kcal)         10,6 g  56,3 g   \n",
       "4  Eco-Score aún no aplicable       1 kj(0 kcal)            0 g     0 g   \n",
       "\n",
       "                 product  weight  \n",
       "0      Nutella - Ferrero   400 g  \n",
       "1  Prince chocolate - Lu   300 g  \n",
       "2              Coca-Cola  330 mL  \n",
       "3      Nutella - Ferrero    1 kg  \n",
       "4         Coca-Cola zero  330 ml  "
      ]
     },
     "execution_count": 19,
     "metadata": {},
     "output_type": "execute_result"
    }
   ],
   "source": [
    "# separate the product_name column into \"product\" and \"weight\"\n",
    "\n",
    "food[['product', 'weight']] = food['product_name'].str.rsplit(' - ', n=1, expand=True)\n",
    "\n",
    "food.head()"
   ]
  },
  {
   "cell_type": "code",
   "execution_count": 20,
   "id": "45caa965",
   "metadata": {},
   "outputs": [
    {
     "data": {
      "text/plain": [
       "(787, 12)"
      ]
     },
     "execution_count": 20,
     "metadata": {},
     "output_type": "execute_result"
    }
   ],
   "source": [
    "# check duplicated rows regarding \"product\"\n",
    "\n",
    "food[food.duplicated(subset=['product'])].shape\n"
   ]
  },
  {
   "cell_type": "code",
   "execution_count": 21,
   "id": "82763f14",
   "metadata": {},
   "outputs": [],
   "source": [
    "# delete duplicated rows regarding \"product\"\n",
    "\n",
    "food.drop_duplicates(subset=['product'], keep='first', inplace=True)"
   ]
  },
  {
   "cell_type": "code",
   "execution_count": 22,
   "id": "d5a567a7",
   "metadata": {},
   "outputs": [
    {
     "data": {
      "text/plain": [
       "(13774, 12)"
      ]
     },
     "execution_count": 22,
     "metadata": {},
     "output_type": "execute_result"
    }
   ],
   "source": [
    "food.shape"
   ]
  },
  {
   "cell_type": "code",
   "execution_count": 23,
   "id": "20f3787c",
   "metadata": {},
   "outputs": [
    {
     "data": {
      "text/html": [
       "<div>\n",
       "<style scoped>\n",
       "    .dataframe tbody tr th:only-of-type {\n",
       "        vertical-align: middle;\n",
       "    }\n",
       "\n",
       "    .dataframe tbody tr th {\n",
       "        vertical-align: top;\n",
       "    }\n",
       "\n",
       "    .dataframe thead th {\n",
       "        text-align: right;\n",
       "    }\n",
       "</style>\n",
       "<table border=\"1\" class=\"dataframe\">\n",
       "  <thead>\n",
       "    <tr style=\"text-align: right;\">\n",
       "      <th></th>\n",
       "      <th>brands</th>\n",
       "      <th>nova_4</th>\n",
       "      <th>nutri-score</th>\n",
       "      <th>additives</th>\n",
       "      <th>eco-score</th>\n",
       "      <th>energy</th>\n",
       "      <th>saturated_fats</th>\n",
       "      <th>sugars</th>\n",
       "      <th>product</th>\n",
       "      <th>weight</th>\n",
       "    </tr>\n",
       "  </thead>\n",
       "  <tbody>\n",
       "    <tr>\n",
       "      <th>0</th>\n",
       "      <td>Ferrero</td>\n",
       "      <td>Alimentos ultraprocesados</td>\n",
       "      <td>E</td>\n",
       "      <td>E322 - Lecitinas, E322i - Lecitina</td>\n",
       "      <td>Eco-Score D</td>\n",
       "      <td>2252 kj(539 kcal)</td>\n",
       "      <td>10,6 g</td>\n",
       "      <td>56,3 g</td>\n",
       "      <td>Nutella - Ferrero</td>\n",
       "      <td>400 g</td>\n",
       "    </tr>\n",
       "    <tr>\n",
       "      <th>1</th>\n",
       "      <td>Lu, Mondelez</td>\n",
       "      <td>Alimentos ultraprocesados</td>\n",
       "      <td>D</td>\n",
       "      <td>E322 - Lecitinas, E322i - Lecitina, E500 - Car...</td>\n",
       "      <td>Eco-Score C</td>\n",
       "      <td>1962 kj(467 kcal)</td>\n",
       "      <td>5,6 g</td>\n",
       "      <td>32 g</td>\n",
       "      <td>Prince chocolate - Lu</td>\n",
       "      <td>300 g</td>\n",
       "    </tr>\n",
       "    <tr>\n",
       "      <th>2</th>\n",
       "      <td>Coca cola</td>\n",
       "      <td>Alimentos ultraprocesados</td>\n",
       "      <td>E</td>\n",
       "      <td>E150d - Caramelo de sulfito amónico, E338 - Ác...</td>\n",
       "      <td>Eco-Score aún no aplicable</td>\n",
       "      <td>180 kj(42 kcal)</td>\n",
       "      <td>0 g</td>\n",
       "      <td>10,6 g</td>\n",
       "      <td>Coca-Cola</td>\n",
       "      <td>330 mL</td>\n",
       "    </tr>\n",
       "    <tr>\n",
       "      <th>4</th>\n",
       "      <td>Coca-Cola</td>\n",
       "      <td>Alimentos ultraprocesados</td>\n",
       "      <td>B</td>\n",
       "      <td>E150d - Caramelo de sulfito amónico, E331 - Ci...</td>\n",
       "      <td>Eco-Score aún no aplicable</td>\n",
       "      <td>1 kj(0 kcal)</td>\n",
       "      <td>0 g</td>\n",
       "      <td>0 g</td>\n",
       "      <td>Coca-Cola zero</td>\n",
       "      <td>330 ml</td>\n",
       "    </tr>\n",
       "    <tr>\n",
       "      <th>5</th>\n",
       "      <td>Nutella, Ferrero</td>\n",
       "      <td>Nivel de procesamiento de alimentos desconocido</td>\n",
       "      <td>E</td>\n",
       "      <td>u, n, k, n, o, w, n</td>\n",
       "      <td>Eco-Score C</td>\n",
       "      <td>2158 kj(515 kcal)</td>\n",
       "      <td>11,5 g</td>\n",
       "      <td>35,8 g</td>\n",
       "      <td>Ferrero- Nutella Biscuits Resealable Bag, 304g...</td>\n",
       "      <td>304 g</td>\n",
       "    </tr>\n",
       "  </tbody>\n",
       "</table>\n",
       "</div>"
      ],
      "text/plain": [
       "             brands                                           nova_4  \\\n",
       "0           Ferrero                        Alimentos ultraprocesados   \n",
       "1      Lu, Mondelez                        Alimentos ultraprocesados   \n",
       "2         Coca cola                        Alimentos ultraprocesados   \n",
       "4         Coca-Cola                        Alimentos ultraprocesados   \n",
       "5  Nutella, Ferrero  Nivel de procesamiento de alimentos desconocido   \n",
       "\n",
       "  nutri-score                                          additives  \\\n",
       "0           E                 E322 - Lecitinas, E322i - Lecitina   \n",
       "1           D  E322 - Lecitinas, E322i - Lecitina, E500 - Car...   \n",
       "2           E  E150d - Caramelo de sulfito amónico, E338 - Ác...   \n",
       "4           B  E150d - Caramelo de sulfito amónico, E331 - Ci...   \n",
       "5           E                                u, n, k, n, o, w, n   \n",
       "\n",
       "                    eco-score             energy saturated_fats  sugars  \\\n",
       "0                 Eco-Score D  2252 kj(539 kcal)         10,6 g  56,3 g   \n",
       "1                 Eco-Score C  1962 kj(467 kcal)          5,6 g    32 g   \n",
       "2  Eco-Score aún no aplicable    180 kj(42 kcal)            0 g  10,6 g   \n",
       "4  Eco-Score aún no aplicable       1 kj(0 kcal)            0 g     0 g   \n",
       "5                 Eco-Score C  2158 kj(515 kcal)         11,5 g  35,8 g   \n",
       "\n",
       "                                             product  weight  \n",
       "0                                  Nutella - Ferrero   400 g  \n",
       "1                              Prince chocolate - Lu   300 g  \n",
       "2                                          Coca-Cola  330 mL  \n",
       "4                                     Coca-Cola zero  330 ml  \n",
       "5  Ferrero- Nutella Biscuits Resealable Bag, 304g...   304 g  "
      ]
     },
     "execution_count": 23,
     "metadata": {},
     "output_type": "execute_result"
    }
   ],
   "source": [
    "# delete the column \"product_name\" and \"countries\"\n",
    "\n",
    "food.drop(\"product_name\", axis=1, inplace=True)\n",
    "\n",
    "food.drop(\"countries\", axis=1, inplace=True)\n",
    "\n",
    "\n",
    "food.head()"
   ]
  },
  {
   "cell_type": "code",
   "execution_count": 24,
   "id": "13abe7af",
   "metadata": {},
   "outputs": [
    {
     "data": {
      "text/html": [
       "<div>\n",
       "<style scoped>\n",
       "    .dataframe tbody tr th:only-of-type {\n",
       "        vertical-align: middle;\n",
       "    }\n",
       "\n",
       "    .dataframe tbody tr th {\n",
       "        vertical-align: top;\n",
       "    }\n",
       "\n",
       "    .dataframe thead th {\n",
       "        text-align: right;\n",
       "    }\n",
       "</style>\n",
       "<table border=\"1\" class=\"dataframe\">\n",
       "  <thead>\n",
       "    <tr style=\"text-align: right;\">\n",
       "      <th></th>\n",
       "      <th>product</th>\n",
       "      <th>weight</th>\n",
       "      <th>brands</th>\n",
       "      <th>nova_4</th>\n",
       "      <th>nutri-score</th>\n",
       "      <th>additives</th>\n",
       "      <th>eco-score</th>\n",
       "      <th>energy</th>\n",
       "      <th>saturated_fats</th>\n",
       "      <th>sugars</th>\n",
       "    </tr>\n",
       "  </thead>\n",
       "  <tbody>\n",
       "    <tr>\n",
       "      <th>0</th>\n",
       "      <td>Nutella - Ferrero</td>\n",
       "      <td>400 g</td>\n",
       "      <td>Ferrero</td>\n",
       "      <td>Alimentos ultraprocesados</td>\n",
       "      <td>E</td>\n",
       "      <td>E322 - Lecitinas, E322i - Lecitina</td>\n",
       "      <td>Eco-Score D</td>\n",
       "      <td>2252 kj(539 kcal)</td>\n",
       "      <td>10,6 g</td>\n",
       "      <td>56,3 g</td>\n",
       "    </tr>\n",
       "    <tr>\n",
       "      <th>1</th>\n",
       "      <td>Prince chocolate - Lu</td>\n",
       "      <td>300 g</td>\n",
       "      <td>Lu, Mondelez</td>\n",
       "      <td>Alimentos ultraprocesados</td>\n",
       "      <td>D</td>\n",
       "      <td>E322 - Lecitinas, E322i - Lecitina, E500 - Car...</td>\n",
       "      <td>Eco-Score C</td>\n",
       "      <td>1962 kj(467 kcal)</td>\n",
       "      <td>5,6 g</td>\n",
       "      <td>32 g</td>\n",
       "    </tr>\n",
       "    <tr>\n",
       "      <th>2</th>\n",
       "      <td>Coca-Cola</td>\n",
       "      <td>330 mL</td>\n",
       "      <td>Coca cola</td>\n",
       "      <td>Alimentos ultraprocesados</td>\n",
       "      <td>E</td>\n",
       "      <td>E150d - Caramelo de sulfito amónico, E338 - Ác...</td>\n",
       "      <td>Eco-Score aún no aplicable</td>\n",
       "      <td>180 kj(42 kcal)</td>\n",
       "      <td>0 g</td>\n",
       "      <td>10,6 g</td>\n",
       "    </tr>\n",
       "    <tr>\n",
       "      <th>4</th>\n",
       "      <td>Coca-Cola zero</td>\n",
       "      <td>330 ml</td>\n",
       "      <td>Coca-Cola</td>\n",
       "      <td>Alimentos ultraprocesados</td>\n",
       "      <td>B</td>\n",
       "      <td>E150d - Caramelo de sulfito amónico, E331 - Ci...</td>\n",
       "      <td>Eco-Score aún no aplicable</td>\n",
       "      <td>1 kj(0 kcal)</td>\n",
       "      <td>0 g</td>\n",
       "      <td>0 g</td>\n",
       "    </tr>\n",
       "    <tr>\n",
       "      <th>5</th>\n",
       "      <td>Ferrero- Nutella Biscuits Resealable Bag, 304g...</td>\n",
       "      <td>304 g</td>\n",
       "      <td>Nutella, Ferrero</td>\n",
       "      <td>Nivel de procesamiento de alimentos desconocido</td>\n",
       "      <td>E</td>\n",
       "      <td>u, n, k, n, o, w, n</td>\n",
       "      <td>Eco-Score C</td>\n",
       "      <td>2158 kj(515 kcal)</td>\n",
       "      <td>11,5 g</td>\n",
       "      <td>35,8 g</td>\n",
       "    </tr>\n",
       "  </tbody>\n",
       "</table>\n",
       "</div>"
      ],
      "text/plain": [
       "                                             product  weight  \\\n",
       "0                                  Nutella - Ferrero   400 g   \n",
       "1                              Prince chocolate - Lu   300 g   \n",
       "2                                          Coca-Cola  330 mL   \n",
       "4                                     Coca-Cola zero  330 ml   \n",
       "5  Ferrero- Nutella Biscuits Resealable Bag, 304g...   304 g   \n",
       "\n",
       "             brands                                           nova_4  \\\n",
       "0           Ferrero                        Alimentos ultraprocesados   \n",
       "1      Lu, Mondelez                        Alimentos ultraprocesados   \n",
       "2         Coca cola                        Alimentos ultraprocesados   \n",
       "4         Coca-Cola                        Alimentos ultraprocesados   \n",
       "5  Nutella, Ferrero  Nivel de procesamiento de alimentos desconocido   \n",
       "\n",
       "  nutri-score                                          additives  \\\n",
       "0           E                 E322 - Lecitinas, E322i - Lecitina   \n",
       "1           D  E322 - Lecitinas, E322i - Lecitina, E500 - Car...   \n",
       "2           E  E150d - Caramelo de sulfito amónico, E338 - Ác...   \n",
       "4           B  E150d - Caramelo de sulfito amónico, E331 - Ci...   \n",
       "5           E                                u, n, k, n, o, w, n   \n",
       "\n",
       "                    eco-score             energy saturated_fats  sugars  \n",
       "0                 Eco-Score D  2252 kj(539 kcal)         10,6 g  56,3 g  \n",
       "1                 Eco-Score C  1962 kj(467 kcal)          5,6 g    32 g  \n",
       "2  Eco-Score aún no aplicable    180 kj(42 kcal)            0 g  10,6 g  \n",
       "4  Eco-Score aún no aplicable       1 kj(0 kcal)            0 g     0 g  \n",
       "5                 Eco-Score C  2158 kj(515 kcal)         11,5 g  35,8 g  "
      ]
     },
     "execution_count": 24,
     "metadata": {},
     "output_type": "execute_result"
    }
   ],
   "source": [
    "# Relocate the columns \"product\" and \"weight\"\n",
    "\n",
    "food = food[['product', 'weight'] + [col for col in food.columns if col not in ['product', 'weight']]]\n",
    "\n",
    "food.head()"
   ]
  },
  {
   "cell_type": "markdown",
   "id": "e0253641",
   "metadata": {},
   "source": [
    "## Work with \"saturated fats\" and \"sugars\" columns"
   ]
  },
  {
   "cell_type": "code",
   "execution_count": 25,
   "id": "1215e9f9",
   "metadata": {},
   "outputs": [],
   "source": [
    "# Tranform \"saturated fats\" and \"sugars\" columns by deleting non numeric characters\n",
    "\n",
    "food['saturated_fats'] = food['saturated_fats'].str.replace('<', '').str.replace('g', '')\n",
    "food['sugars'] = food['sugars'].str.replace('<', '').str.replace('g', '')"
   ]
  },
  {
   "cell_type": "code",
   "execution_count": 26,
   "id": "a7159a97",
   "metadata": {},
   "outputs": [],
   "source": [
    "# Tranform \"saturated fats\" and \"sugars\" columns by deleting empty spaces\n",
    "\n",
    "food['saturated_fats'] = food['saturated_fats'].str.replace(',', '.').str.replace(' ', '')\n",
    "food['sugars'] = food['sugars'].str.replace(',', '.').str.replace(' ', '')"
   ]
  },
  {
   "cell_type": "code",
   "execution_count": 27,
   "id": "e95b9949",
   "metadata": {},
   "outputs": [],
   "source": [
    "# Tranform \"saturated fats\" and \"sugars\" columns by transforming values into numeric data type and producing nulls when not possible \n",
    "\n",
    "food['saturated_fats'] = pd.to_numeric(food['saturated_fats'], errors='coerce')\n",
    "food['sugars'] = pd.to_numeric(food['sugars'], errors='coerce')"
   ]
  },
  {
   "cell_type": "code",
   "execution_count": 28,
   "id": "106157cd",
   "metadata": {},
   "outputs": [],
   "source": [
    "#food['saturated_fats'].replace('', np.nan, inplace=True)"
   ]
  },
  {
   "cell_type": "code",
   "execution_count": 29,
   "id": "c4ae09c1",
   "metadata": {},
   "outputs": [],
   "source": [
    "# Transform Tranform \"saturated fats\" and \"sugars\" columns into float type.\n",
    "\n",
    "food['saturated_fats'] = food['saturated_fats'].astype(float)\n",
    "food['sugars'] = food['sugars'].astype(float)"
   ]
  },
  {
   "cell_type": "code",
   "execution_count": 30,
   "id": "3b5085c5",
   "metadata": {},
   "outputs": [
    {
     "name": "stdout",
     "output_type": "stream",
     "text": [
      "<class 'pandas.core.frame.DataFrame'>\n",
      "Int64Index: 13774 entries, 0 to 14799\n",
      "Data columns (total 10 columns):\n",
      " #   Column          Non-Null Count  Dtype  \n",
      "---  ------          --------------  -----  \n",
      " 0   product         13774 non-null  object \n",
      " 1   weight          12972 non-null  object \n",
      " 2   brands          13774 non-null  object \n",
      " 3   nova_4          13774 non-null  object \n",
      " 4   nutri-score     13774 non-null  object \n",
      " 5   additives       13774 non-null  object \n",
      " 6   eco-score       13774 non-null  object \n",
      " 7   energy          13054 non-null  object \n",
      " 8   saturated_fats  12865 non-null  float64\n",
      " 9   sugars          12849 non-null  float64\n",
      "dtypes: float64(2), object(8)\n",
      "memory usage: 1.2+ MB\n"
     ]
    }
   ],
   "source": [
    "food.info()"
   ]
  },
  {
   "cell_type": "code",
   "execution_count": 31,
   "id": "93e18110",
   "metadata": {
    "scrolled": true
   },
   "outputs": [
    {
     "data": {
      "text/html": [
       "<div>\n",
       "<style scoped>\n",
       "    .dataframe tbody tr th:only-of-type {\n",
       "        vertical-align: middle;\n",
       "    }\n",
       "\n",
       "    .dataframe tbody tr th {\n",
       "        vertical-align: top;\n",
       "    }\n",
       "\n",
       "    .dataframe thead th {\n",
       "        text-align: right;\n",
       "    }\n",
       "</style>\n",
       "<table border=\"1\" class=\"dataframe\">\n",
       "  <thead>\n",
       "    <tr style=\"text-align: right;\">\n",
       "      <th></th>\n",
       "      <th>product</th>\n",
       "      <th>weight</th>\n",
       "      <th>brands</th>\n",
       "      <th>nova_4</th>\n",
       "      <th>nutri-score</th>\n",
       "      <th>additives</th>\n",
       "      <th>eco-score</th>\n",
       "      <th>energy</th>\n",
       "      <th>saturated_fats</th>\n",
       "      <th>sugars</th>\n",
       "    </tr>\n",
       "  </thead>\n",
       "  <tbody>\n",
       "    <tr>\n",
       "      <th>0</th>\n",
       "      <td>Nutella - Ferrero</td>\n",
       "      <td>400 g</td>\n",
       "      <td>Ferrero</td>\n",
       "      <td>Alimentos ultraprocesados</td>\n",
       "      <td>E</td>\n",
       "      <td>E322 - Lecitinas, E322i - Lecitina</td>\n",
       "      <td>Eco-Score D</td>\n",
       "      <td>2252 kj(539 kcal)</td>\n",
       "      <td>10.6</td>\n",
       "      <td>56.3</td>\n",
       "    </tr>\n",
       "    <tr>\n",
       "      <th>1</th>\n",
       "      <td>Prince chocolate - Lu</td>\n",
       "      <td>300 g</td>\n",
       "      <td>Lu, Mondelez</td>\n",
       "      <td>Alimentos ultraprocesados</td>\n",
       "      <td>D</td>\n",
       "      <td>E322 - Lecitinas, E322i - Lecitina, E500 - Car...</td>\n",
       "      <td>Eco-Score C</td>\n",
       "      <td>1962 kj(467 kcal)</td>\n",
       "      <td>5.6</td>\n",
       "      <td>32.0</td>\n",
       "    </tr>\n",
       "    <tr>\n",
       "      <th>2</th>\n",
       "      <td>Coca-Cola</td>\n",
       "      <td>330 mL</td>\n",
       "      <td>Coca cola</td>\n",
       "      <td>Alimentos ultraprocesados</td>\n",
       "      <td>E</td>\n",
       "      <td>E150d - Caramelo de sulfito amónico, E338 - Ác...</td>\n",
       "      <td>Eco-Score aún no aplicable</td>\n",
       "      <td>180 kj(42 kcal)</td>\n",
       "      <td>0.0</td>\n",
       "      <td>10.6</td>\n",
       "    </tr>\n",
       "    <tr>\n",
       "      <th>4</th>\n",
       "      <td>Coca-Cola zero</td>\n",
       "      <td>330 ml</td>\n",
       "      <td>Coca-Cola</td>\n",
       "      <td>Alimentos ultraprocesados</td>\n",
       "      <td>B</td>\n",
       "      <td>E150d - Caramelo de sulfito amónico, E331 - Ci...</td>\n",
       "      <td>Eco-Score aún no aplicable</td>\n",
       "      <td>1 kj(0 kcal)</td>\n",
       "      <td>0.0</td>\n",
       "      <td>0.0</td>\n",
       "    </tr>\n",
       "    <tr>\n",
       "      <th>5</th>\n",
       "      <td>Ferrero- Nutella Biscuits Resealable Bag, 304g...</td>\n",
       "      <td>304 g</td>\n",
       "      <td>Nutella, Ferrero</td>\n",
       "      <td>Nivel de procesamiento de alimentos desconocido</td>\n",
       "      <td>E</td>\n",
       "      <td>u, n, k, n, o, w, n</td>\n",
       "      <td>Eco-Score C</td>\n",
       "      <td>2158 kj(515 kcal)</td>\n",
       "      <td>11.5</td>\n",
       "      <td>35.8</td>\n",
       "    </tr>\n",
       "  </tbody>\n",
       "</table>\n",
       "</div>"
      ],
      "text/plain": [
       "                                             product  weight  \\\n",
       "0                                  Nutella - Ferrero   400 g   \n",
       "1                              Prince chocolate - Lu   300 g   \n",
       "2                                          Coca-Cola  330 mL   \n",
       "4                                     Coca-Cola zero  330 ml   \n",
       "5  Ferrero- Nutella Biscuits Resealable Bag, 304g...   304 g   \n",
       "\n",
       "             brands                                           nova_4  \\\n",
       "0           Ferrero                        Alimentos ultraprocesados   \n",
       "1      Lu, Mondelez                        Alimentos ultraprocesados   \n",
       "2         Coca cola                        Alimentos ultraprocesados   \n",
       "4         Coca-Cola                        Alimentos ultraprocesados   \n",
       "5  Nutella, Ferrero  Nivel de procesamiento de alimentos desconocido   \n",
       "\n",
       "  nutri-score                                          additives  \\\n",
       "0           E                 E322 - Lecitinas, E322i - Lecitina   \n",
       "1           D  E322 - Lecitinas, E322i - Lecitina, E500 - Car...   \n",
       "2           E  E150d - Caramelo de sulfito amónico, E338 - Ác...   \n",
       "4           B  E150d - Caramelo de sulfito amónico, E331 - Ci...   \n",
       "5           E                                u, n, k, n, o, w, n   \n",
       "\n",
       "                    eco-score             energy  saturated_fats  sugars  \n",
       "0                 Eco-Score D  2252 kj(539 kcal)            10.6    56.3  \n",
       "1                 Eco-Score C  1962 kj(467 kcal)             5.6    32.0  \n",
       "2  Eco-Score aún no aplicable    180 kj(42 kcal)             0.0    10.6  \n",
       "4  Eco-Score aún no aplicable       1 kj(0 kcal)             0.0     0.0  \n",
       "5                 Eco-Score C  2158 kj(515 kcal)            11.5    35.8  "
      ]
     },
     "execution_count": 31,
     "metadata": {},
     "output_type": "execute_result"
    }
   ],
   "source": [
    "food.head()"
   ]
  },
  {
   "cell_type": "markdown",
   "id": "08759954",
   "metadata": {},
   "source": [
    "## Work wit \"energy\" column"
   ]
  },
  {
   "cell_type": "code",
   "execution_count": 32,
   "id": "49cf2edb",
   "metadata": {},
   "outputs": [
    {
     "data": {
      "text/html": [
       "<div>\n",
       "<style scoped>\n",
       "    .dataframe tbody tr th:only-of-type {\n",
       "        vertical-align: middle;\n",
       "    }\n",
       "\n",
       "    .dataframe tbody tr th {\n",
       "        vertical-align: top;\n",
       "    }\n",
       "\n",
       "    .dataframe thead th {\n",
       "        text-align: right;\n",
       "    }\n",
       "</style>\n",
       "<table border=\"1\" class=\"dataframe\">\n",
       "  <thead>\n",
       "    <tr style=\"text-align: right;\">\n",
       "      <th></th>\n",
       "      <th>product</th>\n",
       "      <th>weight</th>\n",
       "      <th>brands</th>\n",
       "      <th>nova_4</th>\n",
       "      <th>nutri-score</th>\n",
       "      <th>additives</th>\n",
       "      <th>eco-score</th>\n",
       "      <th>energy</th>\n",
       "      <th>saturated_fats</th>\n",
       "      <th>sugars</th>\n",
       "    </tr>\n",
       "  </thead>\n",
       "  <tbody>\n",
       "    <tr>\n",
       "      <th>0</th>\n",
       "      <td>Nutella - Ferrero</td>\n",
       "      <td>400 g</td>\n",
       "      <td>Ferrero</td>\n",
       "      <td>Alimentos ultraprocesados</td>\n",
       "      <td>E</td>\n",
       "      <td>E322 - Lecitinas, E322i - Lecitina</td>\n",
       "      <td>Eco-Score D</td>\n",
       "      <td>539</td>\n",
       "      <td>10.6</td>\n",
       "      <td>56.3</td>\n",
       "    </tr>\n",
       "    <tr>\n",
       "      <th>1</th>\n",
       "      <td>Prince chocolate - Lu</td>\n",
       "      <td>300 g</td>\n",
       "      <td>Lu, Mondelez</td>\n",
       "      <td>Alimentos ultraprocesados</td>\n",
       "      <td>D</td>\n",
       "      <td>E322 - Lecitinas, E322i - Lecitina, E500 - Car...</td>\n",
       "      <td>Eco-Score C</td>\n",
       "      <td>467</td>\n",
       "      <td>5.6</td>\n",
       "      <td>32.0</td>\n",
       "    </tr>\n",
       "    <tr>\n",
       "      <th>2</th>\n",
       "      <td>Coca-Cola</td>\n",
       "      <td>330 mL</td>\n",
       "      <td>Coca cola</td>\n",
       "      <td>Alimentos ultraprocesados</td>\n",
       "      <td>E</td>\n",
       "      <td>E150d - Caramelo de sulfito amónico, E338 - Ác...</td>\n",
       "      <td>Eco-Score aún no aplicable</td>\n",
       "      <td>42</td>\n",
       "      <td>0.0</td>\n",
       "      <td>10.6</td>\n",
       "    </tr>\n",
       "    <tr>\n",
       "      <th>4</th>\n",
       "      <td>Coca-Cola zero</td>\n",
       "      <td>330 ml</td>\n",
       "      <td>Coca-Cola</td>\n",
       "      <td>Alimentos ultraprocesados</td>\n",
       "      <td>B</td>\n",
       "      <td>E150d - Caramelo de sulfito amónico, E331 - Ci...</td>\n",
       "      <td>Eco-Score aún no aplicable</td>\n",
       "      <td>0</td>\n",
       "      <td>0.0</td>\n",
       "      <td>0.0</td>\n",
       "    </tr>\n",
       "    <tr>\n",
       "      <th>5</th>\n",
       "      <td>Ferrero- Nutella Biscuits Resealable Bag, 304g...</td>\n",
       "      <td>304 g</td>\n",
       "      <td>Nutella, Ferrero</td>\n",
       "      <td>Nivel de procesamiento de alimentos desconocido</td>\n",
       "      <td>E</td>\n",
       "      <td>u, n, k, n, o, w, n</td>\n",
       "      <td>Eco-Score C</td>\n",
       "      <td>515</td>\n",
       "      <td>11.5</td>\n",
       "      <td>35.8</td>\n",
       "    </tr>\n",
       "  </tbody>\n",
       "</table>\n",
       "</div>"
      ],
      "text/plain": [
       "                                             product  weight  \\\n",
       "0                                  Nutella - Ferrero   400 g   \n",
       "1                              Prince chocolate - Lu   300 g   \n",
       "2                                          Coca-Cola  330 mL   \n",
       "4                                     Coca-Cola zero  330 ml   \n",
       "5  Ferrero- Nutella Biscuits Resealable Bag, 304g...   304 g   \n",
       "\n",
       "             brands                                           nova_4  \\\n",
       "0           Ferrero                        Alimentos ultraprocesados   \n",
       "1      Lu, Mondelez                        Alimentos ultraprocesados   \n",
       "2         Coca cola                        Alimentos ultraprocesados   \n",
       "4         Coca-Cola                        Alimentos ultraprocesados   \n",
       "5  Nutella, Ferrero  Nivel de procesamiento de alimentos desconocido   \n",
       "\n",
       "  nutri-score                                          additives  \\\n",
       "0           E                 E322 - Lecitinas, E322i - Lecitina   \n",
       "1           D  E322 - Lecitinas, E322i - Lecitina, E500 - Car...   \n",
       "2           E  E150d - Caramelo de sulfito amónico, E338 - Ác...   \n",
       "4           B  E150d - Caramelo de sulfito amónico, E331 - Ci...   \n",
       "5           E                                u, n, k, n, o, w, n   \n",
       "\n",
       "                    eco-score energy  saturated_fats  sugars  \n",
       "0                 Eco-Score D    539            10.6    56.3  \n",
       "1                 Eco-Score C    467             5.6    32.0  \n",
       "2  Eco-Score aún no aplicable     42             0.0    10.6  \n",
       "4  Eco-Score aún no aplicable      0             0.0     0.0  \n",
       "5                 Eco-Score C    515            11.5    35.8  "
      ]
     },
     "execution_count": 32,
     "metadata": {},
     "output_type": "execute_result"
    }
   ],
   "source": [
    "# Transform \"energy\" column to have only the energy in Kcal  \n",
    "\n",
    "food['energy'] = food['energy'].str.extract(r'\\((\\d+) kcal\\)', expand=False)\n",
    "\n",
    "food.head()"
   ]
  },
  {
   "cell_type": "code",
   "execution_count": 33,
   "id": "6477a265",
   "metadata": {},
   "outputs": [],
   "source": [
    "# Transform \"energy\" column into float data type  \n",
    "\n",
    "food['energy'] = food['energy'].astype(float)"
   ]
  },
  {
   "cell_type": "code",
   "execution_count": 34,
   "id": "90ffbf77",
   "metadata": {},
   "outputs": [
    {
     "name": "stdout",
     "output_type": "stream",
     "text": [
      "<class 'pandas.core.frame.DataFrame'>\n",
      "Int64Index: 13774 entries, 0 to 14799\n",
      "Data columns (total 10 columns):\n",
      " #   Column          Non-Null Count  Dtype  \n",
      "---  ------          --------------  -----  \n",
      " 0   product         13774 non-null  object \n",
      " 1   weight          12972 non-null  object \n",
      " 2   brands          13774 non-null  object \n",
      " 3   nova_4          13774 non-null  object \n",
      " 4   nutri-score     13774 non-null  object \n",
      " 5   additives       13774 non-null  object \n",
      " 6   eco-score       13774 non-null  object \n",
      " 7   energy          12970 non-null  float64\n",
      " 8   saturated_fats  12865 non-null  float64\n",
      " 9   sugars          12849 non-null  float64\n",
      "dtypes: float64(3), object(7)\n",
      "memory usage: 1.2+ MB\n"
     ]
    }
   ],
   "source": [
    "food.info()"
   ]
  },
  {
   "cell_type": "code",
   "execution_count": 35,
   "id": "9600cf0f",
   "metadata": {
    "scrolled": true
   },
   "outputs": [
    {
     "name": "stderr",
     "output_type": "stream",
     "text": [
      "/var/folders/x2/68m0f_l16x5bzxl95_y3qn3m0000gp/T/ipykernel_97196/1888934596.py:1: FutureWarning: The default value of numeric_only in DataFrame.corr is deprecated. In a future version, it will default to False. Select only valid columns or specify the value of numeric_only to silence this warning.\n",
      "  food.corr()\n"
     ]
    },
    {
     "data": {
      "text/html": [
       "<div>\n",
       "<style scoped>\n",
       "    .dataframe tbody tr th:only-of-type {\n",
       "        vertical-align: middle;\n",
       "    }\n",
       "\n",
       "    .dataframe tbody tr th {\n",
       "        vertical-align: top;\n",
       "    }\n",
       "\n",
       "    .dataframe thead th {\n",
       "        text-align: right;\n",
       "    }\n",
       "</style>\n",
       "<table border=\"1\" class=\"dataframe\">\n",
       "  <thead>\n",
       "    <tr style=\"text-align: right;\">\n",
       "      <th></th>\n",
       "      <th>energy</th>\n",
       "      <th>saturated_fats</th>\n",
       "      <th>sugars</th>\n",
       "    </tr>\n",
       "  </thead>\n",
       "  <tbody>\n",
       "    <tr>\n",
       "      <th>energy</th>\n",
       "      <td>1.000000</td>\n",
       "      <td>0.552363</td>\n",
       "      <td>0.31481</td>\n",
       "    </tr>\n",
       "    <tr>\n",
       "      <th>saturated_fats</th>\n",
       "      <td>0.552363</td>\n",
       "      <td>1.000000</td>\n",
       "      <td>0.13642</td>\n",
       "    </tr>\n",
       "    <tr>\n",
       "      <th>sugars</th>\n",
       "      <td>0.314810</td>\n",
       "      <td>0.136420</td>\n",
       "      <td>1.00000</td>\n",
       "    </tr>\n",
       "  </tbody>\n",
       "</table>\n",
       "</div>"
      ],
      "text/plain": [
       "                  energy  saturated_fats   sugars\n",
       "energy          1.000000        0.552363  0.31481\n",
       "saturated_fats  0.552363        1.000000  0.13642\n",
       "sugars          0.314810        0.136420  1.00000"
      ]
     },
     "execution_count": 35,
     "metadata": {},
     "output_type": "execute_result"
    }
   ],
   "source": [
    "food.corr()"
   ]
  },
  {
   "cell_type": "markdown",
   "id": "3618ff54",
   "metadata": {},
   "source": [
    "## Work with \"eco-score\" column"
   ]
  },
  {
   "cell_type": "code",
   "execution_count": 36,
   "id": "27cb97de",
   "metadata": {},
   "outputs": [
    {
     "data": {
      "text/plain": [
       "array(['Eco-Score D', 'Eco-Score C', 'Eco-Score aún no aplicable',\n",
       "       'Eco-Score B', 'Eco-Score A', 'El Eco-Score no pudo ser calculado',\n",
       "       'Eco-Score E'], dtype=object)"
      ]
     },
     "execution_count": 36,
     "metadata": {},
     "output_type": "execute_result"
    }
   ],
   "source": [
    "food[\"eco-score\"].unique()"
   ]
  },
  {
   "cell_type": "code",
   "execution_count": 37,
   "id": "12ec3bb9",
   "metadata": {},
   "outputs": [],
   "source": [
    "# transform unknown category values into nulls\n",
    "\n",
    "food[\"eco-score\"] = food[\"eco-score\"].replace(\"Eco-Score aún no aplicable\", np.nan)\n",
    "food[\"eco-score\"] = food[\"eco-score\"].replace(\"El Eco-Score no pudo ser calculado\", np.nan)"
   ]
  },
  {
   "cell_type": "code",
   "execution_count": 38,
   "id": "02edf35f",
   "metadata": {},
   "outputs": [],
   "source": [
    "# reduce text in \"eco-score\" column\n",
    "\n",
    "food[\"eco-score\"] = food[\"eco-score\"].str.replace(\"Eco-Score A\", \"A\")\n",
    "food[\"eco-score\"] = food[\"eco-score\"].str.replace(\"Eco-Score B\", \"B\")\n",
    "food[\"eco-score\"] = food[\"eco-score\"].str.replace(\"Eco-Score C\", \"C\")\n",
    "food[\"eco-score\"] = food[\"eco-score\"].str.replace(\"Eco-Score D\", \"D\")\n",
    "food[\"eco-score\"] = food[\"eco-score\"].str.replace(\"Eco-Score E\", \"E\")\n"
   ]
  },
  {
   "cell_type": "code",
   "execution_count": 39,
   "id": "c561bc47",
   "metadata": {},
   "outputs": [],
   "source": [
    "# create a new column \"nutri-score_num\"\n",
    "\n",
    "food[\"eco-score_num\"] = food[\"eco-score\"].copy()"
   ]
  },
  {
   "cell_type": "code",
   "execution_count": 40,
   "id": "b69bc015",
   "metadata": {},
   "outputs": [],
   "source": [
    "# asign numeric values to \"nutri-score\"\n",
    "\n",
    "food[\"eco-score_num\"] = food[\"eco-score_num\"].str.replace(\"A\", \"1\")\n",
    "food[\"eco-score_num\"] = food[\"eco-score_num\"].str.replace(\"B\", \"2\")\n",
    "food[\"eco-score_num\"] = food[\"eco-score_num\"].str.replace(\"C\", \"3\")\n",
    "food[\"eco-score_num\"] = food[\"eco-score_num\"].str.replace(\"D\", \"4\")\n",
    "food[\"eco-score_num\"] = food[\"eco-score_num\"].str.replace(\"E\", \"5\")"
   ]
  },
  {
   "cell_type": "code",
   "execution_count": 41,
   "id": "b9f5b35d",
   "metadata": {},
   "outputs": [],
   "source": [
    "# transform \"nutri-score\" values into float data type.\n",
    "\n",
    "food['eco-score_num'] = food['eco-score_num'].astype(float)"
   ]
  },
  {
   "cell_type": "code",
   "execution_count": 42,
   "id": "5fd6967e",
   "metadata": {
    "scrolled": true
   },
   "outputs": [
    {
     "name": "stdout",
     "output_type": "stream",
     "text": [
      "[ 4.  3. nan  2.  1.  5.]\n",
      "4978\n"
     ]
    }
   ],
   "source": [
    "print(food[\"eco-score_num\"].unique())\n",
    "print(sum(food[\"eco-score_num\"].isnull()))"
   ]
  },
  {
   "cell_type": "markdown",
   "id": "72dc6701",
   "metadata": {},
   "source": [
    "## Work with \"nutri-score\" column"
   ]
  },
  {
   "cell_type": "code",
   "execution_count": 43,
   "id": "c73baedd",
   "metadata": {},
   "outputs": [
    {
     "data": {
      "text/plain": [
       "array(['E', 'D', 'B', 'A', 'C', 'UNKNOWN', 'NOT-APPLICABLE'], dtype=object)"
      ]
     },
     "execution_count": 43,
     "metadata": {},
     "output_type": "execute_result"
    }
   ],
   "source": [
    "food[\"nutri-score\"].unique()"
   ]
  },
  {
   "cell_type": "code",
   "execution_count": 44,
   "id": "7f8f3d5f",
   "metadata": {},
   "outputs": [],
   "source": [
    "# transform \"unknown\" category values into nulls\n",
    "\n",
    "food[\"nutri-score\"] = food[\"nutri-score\"].replace(\"UNKNOWN\", np.nan)\n",
    "food[\"nutri-score\"] = food[\"nutri-score\"].replace(\"NOT-APPLICABLE\", np.nan)\n",
    "food[\"nutri-score\"] = food[\"nutri-score\"].replace(\"unknown\", np.nan)\n"
   ]
  },
  {
   "cell_type": "code",
   "execution_count": 45,
   "id": "aa26a235",
   "metadata": {},
   "outputs": [],
   "source": [
    "# create a new column \"nutri-score_num\"\n",
    "\n",
    "food[\"nutri-score_num\"] = food[\"nutri-score\"].copy()\n"
   ]
  },
  {
   "cell_type": "code",
   "execution_count": 46,
   "id": "1496ab65",
   "metadata": {},
   "outputs": [],
   "source": [
    "# asign numeric values to \"nutri-score\"\n",
    "\n",
    "food[\"nutri-score_num\"] = food[\"nutri-score_num\"].str.replace(\"A\", \"1\")\n",
    "food[\"nutri-score_num\"] = food[\"nutri-score_num\"].str.replace(\"B\", \"2\")\n",
    "food[\"nutri-score_num\"] = food[\"nutri-score_num\"].str.replace(\"C\", \"3\")\n",
    "food[\"nutri-score_num\"] = food[\"nutri-score_num\"].str.replace(\"D\", \"4\")\n",
    "food[\"nutri-score_num\"] = food[\"nutri-score_num\"].str.replace(\"E\", \"5\")"
   ]
  },
  {
   "cell_type": "code",
   "execution_count": 47,
   "id": "d0b4ccc5",
   "metadata": {},
   "outputs": [],
   "source": [
    "# transform \"nutri-score\" values into float data type.\n",
    "\n",
    "food['nutri-score_num'] = food['nutri-score_num'].astype(float)"
   ]
  },
  {
   "cell_type": "code",
   "execution_count": 48,
   "id": "729eccaa",
   "metadata": {},
   "outputs": [
    {
     "name": "stdout",
     "output_type": "stream",
     "text": [
      "[ 5.  4.  2.  1.  3. nan]\n",
      "2111\n"
     ]
    }
   ],
   "source": [
    "print(food[\"nutri-score_num\"].unique())\n",
    "print(sum(food[\"nutri-score_num\"].isnull()))"
   ]
  },
  {
   "cell_type": "markdown",
   "id": "aa8ce626",
   "metadata": {},
   "source": [
    "## Work with \"nova_4\" column"
   ]
  },
  {
   "cell_type": "code",
   "execution_count": 49,
   "id": "b9dc444c",
   "metadata": {},
   "outputs": [
    {
     "data": {
      "text/plain": [
       "array(['Alimentos ultraprocesados',\n",
       "       'Nivel de procesamiento de alimentos desconocido',\n",
       "       'Alimentos no procesados o mínimamente procesados',\n",
       "       'Alimentos procesados', 'Ingredientes culinarios procesados',\n",
       "       'unknown'], dtype=object)"
      ]
     },
     "execution_count": 49,
     "metadata": {},
     "output_type": "execute_result"
    }
   ],
   "source": [
    "food[\"nova_4\"].unique()"
   ]
  },
  {
   "cell_type": "code",
   "execution_count": 50,
   "id": "9095e0bc",
   "metadata": {},
   "outputs": [],
   "source": [
    "# transform unknown category values into nulls\n",
    "\n",
    "food[\"nova_4\"] = food[\"nova_4\"].replace(\"Nivel de procesamiento de alimentos desconocido\", np.nan)\n",
    "food[\"nova_4\"] = food[\"nova_4\"].replace(\"unknown\", np.nan)"
   ]
  },
  {
   "cell_type": "code",
   "execution_count": 51,
   "id": "e4d4e7e1",
   "metadata": {},
   "outputs": [],
   "source": [
    "# create a new column \"nova_4_num\"\n",
    "\n",
    "food[\"nova_4_num\"] = food[\"nova_4\"].copy()\n"
   ]
  },
  {
   "cell_type": "code",
   "execution_count": 52,
   "id": "f30c0326",
   "metadata": {},
   "outputs": [],
   "source": [
    "# asign numeric values to \"nova_4_num\"\n",
    "\n",
    "food[\"nova_4_num\"] = food[\"nova_4_num\"].str.replace(\"Alimentos ultraprocesados\", \"4\")\n",
    "food[\"nova_4_num\"] = food[\"nova_4_num\"].str.replace(\"Alimentos procesados\", \"3\")\n",
    "food[\"nova_4_num\"] = food[\"nova_4_num\"].str.replace(\"Ingredientes culinarios procesados\", \"2\")\n",
    "food[\"nova_4_num\"] = food[\"nova_4_num\"].str.replace(\"Alimentos no procesados o mínimamente procesados\", \"1\")\n"
   ]
  },
  {
   "cell_type": "code",
   "execution_count": 53,
   "id": "90709d11",
   "metadata": {},
   "outputs": [],
   "source": [
    "# transform \"nova_4_num\" values into float data type.\n",
    "\n",
    "food['nova_4_num'] = food['nova_4_num'].astype(float)"
   ]
  },
  {
   "cell_type": "code",
   "execution_count": 54,
   "id": "74b74421",
   "metadata": {},
   "outputs": [
    {
     "name": "stdout",
     "output_type": "stream",
     "text": [
      "['Alimentos ultraprocesados' nan\n",
      " 'Alimentos no procesados o mínimamente procesados' 'Alimentos procesados'\n",
      " 'Ingredientes culinarios procesados']\n",
      "4683\n"
     ]
    }
   ],
   "source": [
    "print(food[\"nova_4\"].unique())\n",
    "print(sum(food[\"nova_4\"].isnull()))"
   ]
  },
  {
   "cell_type": "code",
   "execution_count": 55,
   "id": "a50668d8",
   "metadata": {},
   "outputs": [
    {
     "name": "stdout",
     "output_type": "stream",
     "text": [
      "[ 4. nan  1.  3.  2.]\n",
      "4683\n"
     ]
    }
   ],
   "source": [
    "print(food[\"nova_4_num\"].unique())\n",
    "print(sum(food[\"nova_4_num\"].isnull()))"
   ]
  },
  {
   "cell_type": "markdown",
   "id": "4e679519",
   "metadata": {},
   "source": [
    "## Work with \"additives\" column"
   ]
  },
  {
   "cell_type": "code",
   "execution_count": 56,
   "id": "3617d360",
   "metadata": {
    "scrolled": false
   },
   "outputs": [
    {
     "data": {
      "text/html": [
       "<div>\n",
       "<style scoped>\n",
       "    .dataframe tbody tr th:only-of-type {\n",
       "        vertical-align: middle;\n",
       "    }\n",
       "\n",
       "    .dataframe tbody tr th {\n",
       "        vertical-align: top;\n",
       "    }\n",
       "\n",
       "    .dataframe thead th {\n",
       "        text-align: right;\n",
       "    }\n",
       "</style>\n",
       "<table border=\"1\" class=\"dataframe\">\n",
       "  <thead>\n",
       "    <tr style=\"text-align: right;\">\n",
       "      <th></th>\n",
       "      <th>product</th>\n",
       "      <th>weight</th>\n",
       "      <th>brands</th>\n",
       "      <th>nova_4</th>\n",
       "      <th>nutri-score</th>\n",
       "      <th>additives</th>\n",
       "      <th>eco-score</th>\n",
       "      <th>energy</th>\n",
       "      <th>saturated_fats</th>\n",
       "      <th>sugars</th>\n",
       "      <th>eco-score_num</th>\n",
       "      <th>nutri-score_num</th>\n",
       "      <th>nova_4_num</th>\n",
       "    </tr>\n",
       "  </thead>\n",
       "  <tbody>\n",
       "    <tr>\n",
       "      <th>0</th>\n",
       "      <td>Nutella - Ferrero</td>\n",
       "      <td>400 g</td>\n",
       "      <td>Ferrero</td>\n",
       "      <td>Alimentos ultraprocesados</td>\n",
       "      <td>E</td>\n",
       "      <td>E322-Lecitinas,E322i-Lecitina</td>\n",
       "      <td>D</td>\n",
       "      <td>539.0</td>\n",
       "      <td>10.6</td>\n",
       "      <td>56.3</td>\n",
       "      <td>4.0</td>\n",
       "      <td>5.0</td>\n",
       "      <td>4.0</td>\n",
       "    </tr>\n",
       "    <tr>\n",
       "      <th>1</th>\n",
       "      <td>Prince chocolate - Lu</td>\n",
       "      <td>300 g</td>\n",
       "      <td>Lu, Mondelez</td>\n",
       "      <td>Alimentos ultraprocesados</td>\n",
       "      <td>D</td>\n",
       "      <td>E322-Lecitinas,E322i-Lecitina,E500-Carbonatosd...</td>\n",
       "      <td>C</td>\n",
       "      <td>467.0</td>\n",
       "      <td>5.6</td>\n",
       "      <td>32.0</td>\n",
       "      <td>3.0</td>\n",
       "      <td>4.0</td>\n",
       "      <td>4.0</td>\n",
       "    </tr>\n",
       "    <tr>\n",
       "      <th>2</th>\n",
       "      <td>Coca-Cola</td>\n",
       "      <td>330 mL</td>\n",
       "      <td>Coca cola</td>\n",
       "      <td>Alimentos ultraprocesados</td>\n",
       "      <td>E</td>\n",
       "      <td>E150d-Caramelodesulfitoamónico,E338-Ácidofosfó...</td>\n",
       "      <td>NaN</td>\n",
       "      <td>42.0</td>\n",
       "      <td>0.0</td>\n",
       "      <td>10.6</td>\n",
       "      <td>NaN</td>\n",
       "      <td>5.0</td>\n",
       "      <td>4.0</td>\n",
       "    </tr>\n",
       "    <tr>\n",
       "      <th>4</th>\n",
       "      <td>Coca-Cola zero</td>\n",
       "      <td>330 ml</td>\n",
       "      <td>Coca-Cola</td>\n",
       "      <td>Alimentos ultraprocesados</td>\n",
       "      <td>B</td>\n",
       "      <td>E150d-Caramelodesulfitoamónico,E331-Citratosde...</td>\n",
       "      <td>NaN</td>\n",
       "      <td>0.0</td>\n",
       "      <td>0.0</td>\n",
       "      <td>0.0</td>\n",
       "      <td>NaN</td>\n",
       "      <td>2.0</td>\n",
       "      <td>4.0</td>\n",
       "    </tr>\n",
       "    <tr>\n",
       "      <th>5</th>\n",
       "      <td>Ferrero- Nutella Biscuits Resealable Bag, 304g...</td>\n",
       "      <td>304 g</td>\n",
       "      <td>Nutella, Ferrero</td>\n",
       "      <td>NaN</td>\n",
       "      <td>E</td>\n",
       "      <td>u,n,k,n,o,w,n</td>\n",
       "      <td>C</td>\n",
       "      <td>515.0</td>\n",
       "      <td>11.5</td>\n",
       "      <td>35.8</td>\n",
       "      <td>3.0</td>\n",
       "      <td>5.0</td>\n",
       "      <td>NaN</td>\n",
       "    </tr>\n",
       "  </tbody>\n",
       "</table>\n",
       "</div>"
      ],
      "text/plain": [
       "                                             product  weight  \\\n",
       "0                                  Nutella - Ferrero   400 g   \n",
       "1                              Prince chocolate - Lu   300 g   \n",
       "2                                          Coca-Cola  330 mL   \n",
       "4                                     Coca-Cola zero  330 ml   \n",
       "5  Ferrero- Nutella Biscuits Resealable Bag, 304g...   304 g   \n",
       "\n",
       "             brands                     nova_4 nutri-score  \\\n",
       "0           Ferrero  Alimentos ultraprocesados           E   \n",
       "1      Lu, Mondelez  Alimentos ultraprocesados           D   \n",
       "2         Coca cola  Alimentos ultraprocesados           E   \n",
       "4         Coca-Cola  Alimentos ultraprocesados           B   \n",
       "5  Nutella, Ferrero                        NaN           E   \n",
       "\n",
       "                                           additives eco-score  energy  \\\n",
       "0                      E322-Lecitinas,E322i-Lecitina         D   539.0   \n",
       "1  E322-Lecitinas,E322i-Lecitina,E500-Carbonatosd...         C   467.0   \n",
       "2  E150d-Caramelodesulfitoamónico,E338-Ácidofosfó...       NaN    42.0   \n",
       "4  E150d-Caramelodesulfitoamónico,E331-Citratosde...       NaN     0.0   \n",
       "5                                      u,n,k,n,o,w,n         C   515.0   \n",
       "\n",
       "   saturated_fats  sugars  eco-score_num  nutri-score_num  nova_4_num  \n",
       "0            10.6    56.3            4.0              5.0         4.0  \n",
       "1             5.6    32.0            3.0              4.0         4.0  \n",
       "2             0.0    10.6            NaN              5.0         4.0  \n",
       "4             0.0     0.0            NaN              2.0         4.0  \n",
       "5            11.5    35.8            3.0              5.0         NaN  "
      ]
     },
     "execution_count": 56,
     "metadata": {},
     "output_type": "execute_result"
    }
   ],
   "source": [
    "# Delete empty spaces between the string values\n",
    "\n",
    "food['additives'] = food['additives'].str.replace(' ', '')\n",
    "food.head()"
   ]
  },
  {
   "cell_type": "code",
   "execution_count": 57,
   "id": "408ab3ec",
   "metadata": {},
   "outputs": [
    {
     "data": {
      "text/plain": [
       "'E322-Lecitinas,E322i-Lecitina,E500-Carbonatosdesodio,E500ii-Bicarbonatodesodio,E503-Carbonatosdeamonio,E503i-Carbonatodeamonio'"
      ]
     },
     "execution_count": 57,
     "metadata": {},
     "output_type": "execute_result"
    }
   ],
   "source": [
    "food.iloc[1]['additives']"
   ]
  },
  {
   "cell_type": "code",
   "execution_count": 58,
   "id": "d22fe89a",
   "metadata": {},
   "outputs": [
    {
     "data": {
      "text/html": [
       "<div>\n",
       "<style scoped>\n",
       "    .dataframe tbody tr th:only-of-type {\n",
       "        vertical-align: middle;\n",
       "    }\n",
       "\n",
       "    .dataframe tbody tr th {\n",
       "        vertical-align: top;\n",
       "    }\n",
       "\n",
       "    .dataframe thead th {\n",
       "        text-align: right;\n",
       "    }\n",
       "</style>\n",
       "<table border=\"1\" class=\"dataframe\">\n",
       "  <thead>\n",
       "    <tr style=\"text-align: right;\">\n",
       "      <th></th>\n",
       "      <th>product</th>\n",
       "      <th>weight</th>\n",
       "      <th>brands</th>\n",
       "      <th>nova_4</th>\n",
       "      <th>nutri-score</th>\n",
       "      <th>additives</th>\n",
       "      <th>eco-score</th>\n",
       "      <th>energy</th>\n",
       "      <th>saturated_fats</th>\n",
       "      <th>sugars</th>\n",
       "      <th>eco-score_num</th>\n",
       "      <th>nutri-score_num</th>\n",
       "      <th>nova_4_num</th>\n",
       "    </tr>\n",
       "  </thead>\n",
       "  <tbody>\n",
       "    <tr>\n",
       "      <th>0</th>\n",
       "      <td>Nutella - Ferrero</td>\n",
       "      <td>400 g</td>\n",
       "      <td>Ferrero</td>\n",
       "      <td>Alimentos ultraprocesados</td>\n",
       "      <td>E</td>\n",
       "      <td>[E322, E322i]</td>\n",
       "      <td>D</td>\n",
       "      <td>539.0</td>\n",
       "      <td>10.6</td>\n",
       "      <td>56.3</td>\n",
       "      <td>4.0</td>\n",
       "      <td>5.0</td>\n",
       "      <td>4.0</td>\n",
       "    </tr>\n",
       "    <tr>\n",
       "      <th>1</th>\n",
       "      <td>Prince chocolate - Lu</td>\n",
       "      <td>300 g</td>\n",
       "      <td>Lu, Mondelez</td>\n",
       "      <td>Alimentos ultraprocesados</td>\n",
       "      <td>D</td>\n",
       "      <td>[E322, E322i, E500, E500ii, E503, E503i]</td>\n",
       "      <td>C</td>\n",
       "      <td>467.0</td>\n",
       "      <td>5.6</td>\n",
       "      <td>32.0</td>\n",
       "      <td>3.0</td>\n",
       "      <td>4.0</td>\n",
       "      <td>4.0</td>\n",
       "    </tr>\n",
       "    <tr>\n",
       "      <th>2</th>\n",
       "      <td>Coca-Cola</td>\n",
       "      <td>330 mL</td>\n",
       "      <td>Coca cola</td>\n",
       "      <td>Alimentos ultraprocesados</td>\n",
       "      <td>E</td>\n",
       "      <td>[E150d, E338]</td>\n",
       "      <td>NaN</td>\n",
       "      <td>42.0</td>\n",
       "      <td>0.0</td>\n",
       "      <td>10.6</td>\n",
       "      <td>NaN</td>\n",
       "      <td>5.0</td>\n",
       "      <td>4.0</td>\n",
       "    </tr>\n",
       "    <tr>\n",
       "      <th>4</th>\n",
       "      <td>Coca-Cola zero</td>\n",
       "      <td>330 ml</td>\n",
       "      <td>Coca-Cola</td>\n",
       "      <td>Alimentos ultraprocesados</td>\n",
       "      <td>B</td>\n",
       "      <td>[E150d, E331, E338, E950, E951]</td>\n",
       "      <td>NaN</td>\n",
       "      <td>0.0</td>\n",
       "      <td>0.0</td>\n",
       "      <td>0.0</td>\n",
       "      <td>NaN</td>\n",
       "      <td>2.0</td>\n",
       "      <td>4.0</td>\n",
       "    </tr>\n",
       "    <tr>\n",
       "      <th>5</th>\n",
       "      <td>Ferrero- Nutella Biscuits Resealable Bag, 304g...</td>\n",
       "      <td>304 g</td>\n",
       "      <td>Nutella, Ferrero</td>\n",
       "      <td>NaN</td>\n",
       "      <td>E</td>\n",
       "      <td>[]</td>\n",
       "      <td>C</td>\n",
       "      <td>515.0</td>\n",
       "      <td>11.5</td>\n",
       "      <td>35.8</td>\n",
       "      <td>3.0</td>\n",
       "      <td>5.0</td>\n",
       "      <td>NaN</td>\n",
       "    </tr>\n",
       "  </tbody>\n",
       "</table>\n",
       "</div>"
      ],
      "text/plain": [
       "                                             product  weight  \\\n",
       "0                                  Nutella - Ferrero   400 g   \n",
       "1                              Prince chocolate - Lu   300 g   \n",
       "2                                          Coca-Cola  330 mL   \n",
       "4                                     Coca-Cola zero  330 ml   \n",
       "5  Ferrero- Nutella Biscuits Resealable Bag, 304g...   304 g   \n",
       "\n",
       "             brands                     nova_4 nutri-score  \\\n",
       "0           Ferrero  Alimentos ultraprocesados           E   \n",
       "1      Lu, Mondelez  Alimentos ultraprocesados           D   \n",
       "2         Coca cola  Alimentos ultraprocesados           E   \n",
       "4         Coca-Cola  Alimentos ultraprocesados           B   \n",
       "5  Nutella, Ferrero                        NaN           E   \n",
       "\n",
       "                                  additives eco-score  energy  saturated_fats  \\\n",
       "0                             [E322, E322i]         D   539.0            10.6   \n",
       "1  [E322, E322i, E500, E500ii, E503, E503i]         C   467.0             5.6   \n",
       "2                             [E150d, E338]       NaN    42.0             0.0   \n",
       "4           [E150d, E331, E338, E950, E951]       NaN     0.0             0.0   \n",
       "5                                        []         C   515.0            11.5   \n",
       "\n",
       "   sugars  eco-score_num  nutri-score_num  nova_4_num  \n",
       "0    56.3            4.0              5.0         4.0  \n",
       "1    32.0            3.0              4.0         4.0  \n",
       "2    10.6            NaN              5.0         4.0  \n",
       "4     0.0            NaN              2.0         4.0  \n",
       "5    35.8            3.0              5.0         NaN  "
      ]
     },
     "execution_count": 58,
     "metadata": {},
     "output_type": "execute_result"
    }
   ],
   "source": [
    "# Leave only the additives codes\n",
    "\n",
    "food['additives'] = food['additives'].str.findall(r'(E\\d+[a-zA-Z]*)')\n",
    "food.head()"
   ]
  },
  {
   "cell_type": "code",
   "execution_count": 59,
   "id": "58dd6b25",
   "metadata": {},
   "outputs": [
    {
     "data": {
      "text/html": [
       "<div>\n",
       "<style scoped>\n",
       "    .dataframe tbody tr th:only-of-type {\n",
       "        vertical-align: middle;\n",
       "    }\n",
       "\n",
       "    .dataframe tbody tr th {\n",
       "        vertical-align: top;\n",
       "    }\n",
       "\n",
       "    .dataframe thead th {\n",
       "        text-align: right;\n",
       "    }\n",
       "</style>\n",
       "<table border=\"1\" class=\"dataframe\">\n",
       "  <thead>\n",
       "    <tr style=\"text-align: right;\">\n",
       "      <th></th>\n",
       "      <th>product</th>\n",
       "      <th>weight</th>\n",
       "      <th>brands</th>\n",
       "      <th>nova_4</th>\n",
       "      <th>nutri-score</th>\n",
       "      <th>additives</th>\n",
       "      <th>eco-score</th>\n",
       "      <th>energy</th>\n",
       "      <th>saturated_fats</th>\n",
       "      <th>sugars</th>\n",
       "      <th>eco-score_num</th>\n",
       "      <th>nutri-score_num</th>\n",
       "      <th>nova_4_num</th>\n",
       "    </tr>\n",
       "  </thead>\n",
       "  <tbody>\n",
       "    <tr>\n",
       "      <th>14795</th>\n",
       "      <td>Macarrones integrales ecológicos - Consum</td>\n",
       "      <td>500 g</td>\n",
       "      <td>Consum</td>\n",
       "      <td>NaN</td>\n",
       "      <td>A</td>\n",
       "      <td>NaN</td>\n",
       "      <td>B</td>\n",
       "      <td>336.0</td>\n",
       "      <td>0.5</td>\n",
       "      <td>4.0</td>\n",
       "      <td>2.0</td>\n",
       "      <td>1.0</td>\n",
       "      <td>NaN</td>\n",
       "    </tr>\n",
       "    <tr>\n",
       "      <th>14796</th>\n",
       "      <td>Yogur con zumo natural de melocotón - Danone</td>\n",
       "      <td>240</td>\n",
       "      <td>Danone</td>\n",
       "      <td>Alimentos ultraprocesados</td>\n",
       "      <td>B</td>\n",
       "      <td>NaN</td>\n",
       "      <td>NaN</td>\n",
       "      <td>77.0</td>\n",
       "      <td>2.0</td>\n",
       "      <td>7.8</td>\n",
       "      <td>NaN</td>\n",
       "      <td>2.0</td>\n",
       "      <td>4.0</td>\n",
       "    </tr>\n",
       "    <tr>\n",
       "      <th>14797</th>\n",
       "      <td>Mascarpone - Lovilio</td>\n",
       "      <td>250 g</td>\n",
       "      <td>Lovilio</td>\n",
       "      <td>Alimentos procesados</td>\n",
       "      <td>D</td>\n",
       "      <td>E330</td>\n",
       "      <td>C</td>\n",
       "      <td>355.0</td>\n",
       "      <td>24.9</td>\n",
       "      <td>3.0</td>\n",
       "      <td>3.0</td>\n",
       "      <td>4.0</td>\n",
       "      <td>3.0</td>\n",
       "    </tr>\n",
       "    <tr>\n",
       "      <th>14798</th>\n",
       "      <td>Bio Avena - Milbona</td>\n",
       "      <td>250g (2 x 125 g)</td>\n",
       "      <td>Milbona</td>\n",
       "      <td>Alimentos ultraprocesados</td>\n",
       "      <td>C</td>\n",
       "      <td>E415</td>\n",
       "      <td>NaN</td>\n",
       "      <td>83.0</td>\n",
       "      <td>0.3</td>\n",
       "      <td>9.7</td>\n",
       "      <td>NaN</td>\n",
       "      <td>3.0</td>\n",
       "      <td>4.0</td>\n",
       "    </tr>\n",
       "    <tr>\n",
       "      <th>14799</th>\n",
       "      <td>Sabor manzana grosella negra frambuesa - Carre...</td>\n",
       "      <td>2 l</td>\n",
       "      <td>Carrefour</td>\n",
       "      <td>Alimentos ultraprocesados</td>\n",
       "      <td>D</td>\n",
       "      <td>E330</td>\n",
       "      <td>C</td>\n",
       "      <td>28.0</td>\n",
       "      <td>0.0</td>\n",
       "      <td>6.4</td>\n",
       "      <td>3.0</td>\n",
       "      <td>4.0</td>\n",
       "      <td>4.0</td>\n",
       "    </tr>\n",
       "  </tbody>\n",
       "</table>\n",
       "</div>"
      ],
      "text/plain": [
       "                                                 product            weight  \\\n",
       "14795          Macarrones integrales ecológicos - Consum             500 g   \n",
       "14796       Yogur con zumo natural de melocotón - Danone               240   \n",
       "14797                               Mascarpone - Lovilio             250 g   \n",
       "14798                                Bio Avena - Milbona  250g (2 x 125 g)   \n",
       "14799  Sabor manzana grosella negra frambuesa - Carre...               2 l   \n",
       "\n",
       "          brands                     nova_4 nutri-score additives eco-score  \\\n",
       "14795     Consum                        NaN           A       NaN         B   \n",
       "14796     Danone  Alimentos ultraprocesados           B       NaN       NaN   \n",
       "14797    Lovilio       Alimentos procesados           D      E330         C   \n",
       "14798    Milbona  Alimentos ultraprocesados           C      E415       NaN   \n",
       "14799  Carrefour  Alimentos ultraprocesados           D      E330         C   \n",
       "\n",
       "       energy  saturated_fats  sugars  eco-score_num  nutri-score_num  \\\n",
       "14795   336.0             0.5     4.0            2.0              1.0   \n",
       "14796    77.0             2.0     7.8            NaN              2.0   \n",
       "14797   355.0            24.9     3.0            3.0              4.0   \n",
       "14798    83.0             0.3     9.7            NaN              3.0   \n",
       "14799    28.0             0.0     6.4            3.0              4.0   \n",
       "\n",
       "       nova_4_num  \n",
       "14795         NaN  \n",
       "14796         4.0  \n",
       "14797         3.0  \n",
       "14798         4.0  \n",
       "14799         4.0  "
      ]
     },
     "execution_count": 59,
     "metadata": {},
     "output_type": "execute_result"
    }
   ],
   "source": [
    "# Delete lists from \"additives\" column values and leave only the additives, or null values if the list is empty.\n",
    "\n",
    "food['additives'] = food['additives'].apply(lambda x: ','.join(x) if isinstance(x, list) and x else np.nan if x == [] else x)\n",
    "\n",
    "food.tail()"
   ]
  },
  {
   "cell_type": "code",
   "execution_count": 60,
   "id": "c82cd5cb",
   "metadata": {},
   "outputs": [
    {
     "data": {
      "text/plain": [
       "8083"
      ]
     },
     "execution_count": 60,
     "metadata": {},
     "output_type": "execute_result"
    }
   ],
   "source": [
    "food[\"additives\"].isnull().sum()"
   ]
  },
  {
   "cell_type": "code",
   "execution_count": 61,
   "id": "a8d8209b",
   "metadata": {},
   "outputs": [
    {
     "data": {
      "text/plain": [
       "2111"
      ]
     },
     "execution_count": 61,
     "metadata": {},
     "output_type": "execute_result"
    }
   ],
   "source": [
    "food[\"nutri-score\"].isnull().sum()"
   ]
  },
  {
   "cell_type": "code",
   "execution_count": 62,
   "id": "b08b95bf",
   "metadata": {},
   "outputs": [
    {
     "data": {
      "text/plain": [
       "2111"
      ]
     },
     "execution_count": 62,
     "metadata": {},
     "output_type": "execute_result"
    }
   ],
   "source": [
    "food[\"nutri-score\"].isnull().sum()"
   ]
  },
  {
   "cell_type": "code",
   "execution_count": 63,
   "id": "918f694a",
   "metadata": {},
   "outputs": [
    {
     "data": {
      "text/plain": [
       "4683"
      ]
     },
     "execution_count": 63,
     "metadata": {},
     "output_type": "execute_result"
    }
   ],
   "source": [
    "food[\"nova_4\"].isnull().sum()"
   ]
  },
  {
   "cell_type": "code",
   "execution_count": 64,
   "id": "d34a0455",
   "metadata": {
    "scrolled": true
   },
   "outputs": [
    {
     "name": "stdout",
     "output_type": "stream",
     "text": [
      "<class 'pandas.core.frame.DataFrame'>\n",
      "Int64Index: 13774 entries, 0 to 14799\n",
      "Data columns (total 13 columns):\n",
      " #   Column           Non-Null Count  Dtype  \n",
      "---  ------           --------------  -----  \n",
      " 0   product          13774 non-null  object \n",
      " 1   weight           12972 non-null  object \n",
      " 2   brands           13774 non-null  object \n",
      " 3   nova_4           9091 non-null   object \n",
      " 4   nutri-score      11663 non-null  object \n",
      " 5   additives        5691 non-null   object \n",
      " 6   eco-score        8796 non-null   object \n",
      " 7   energy           12970 non-null  float64\n",
      " 8   saturated_fats   12865 non-null  float64\n",
      " 9   sugars           12849 non-null  float64\n",
      " 10  eco-score_num    8796 non-null   float64\n",
      " 11  nutri-score_num  11663 non-null  float64\n",
      " 12  nova_4_num       9091 non-null   float64\n",
      "dtypes: float64(6), object(7)\n",
      "memory usage: 1.5+ MB\n"
     ]
    }
   ],
   "source": [
    "food.info()"
   ]
  },
  {
   "cell_type": "code",
   "execution_count": 65,
   "id": "c3851e23",
   "metadata": {},
   "outputs": [
    {
     "data": {
      "text/html": [
       "<div>\n",
       "<style scoped>\n",
       "    .dataframe tbody tr th:only-of-type {\n",
       "        vertical-align: middle;\n",
       "    }\n",
       "\n",
       "    .dataframe tbody tr th {\n",
       "        vertical-align: top;\n",
       "    }\n",
       "\n",
       "    .dataframe thead th {\n",
       "        text-align: right;\n",
       "    }\n",
       "</style>\n",
       "<table border=\"1\" class=\"dataframe\">\n",
       "  <thead>\n",
       "    <tr style=\"text-align: right;\">\n",
       "      <th></th>\n",
       "      <th>count</th>\n",
       "      <th>mean</th>\n",
       "      <th>std</th>\n",
       "      <th>min</th>\n",
       "      <th>25%</th>\n",
       "      <th>50%</th>\n",
       "      <th>75%</th>\n",
       "      <th>max</th>\n",
       "    </tr>\n",
       "  </thead>\n",
       "  <tbody>\n",
       "    <tr>\n",
       "      <th>energy</th>\n",
       "      <td>12970.0</td>\n",
       "      <td>267.259445</td>\n",
       "      <td>196.945570</td>\n",
       "      <td>0.0</td>\n",
       "      <td>76.25</td>\n",
       "      <td>257.0</td>\n",
       "      <td>420.0</td>\n",
       "      <td>3440.0</td>\n",
       "    </tr>\n",
       "    <tr>\n",
       "      <th>saturated_fats</th>\n",
       "      <td>12865.0</td>\n",
       "      <td>4.481348</td>\n",
       "      <td>7.394765</td>\n",
       "      <td>0.0</td>\n",
       "      <td>0.30</td>\n",
       "      <td>1.5</td>\n",
       "      <td>5.5</td>\n",
       "      <td>95.0</td>\n",
       "    </tr>\n",
       "    <tr>\n",
       "      <th>sugars</th>\n",
       "      <td>12849.0</td>\n",
       "      <td>11.098541</td>\n",
       "      <td>16.222904</td>\n",
       "      <td>0.0</td>\n",
       "      <td>1.00</td>\n",
       "      <td>4.0</td>\n",
       "      <td>14.0</td>\n",
       "      <td>105.0</td>\n",
       "    </tr>\n",
       "    <tr>\n",
       "      <th>eco-score_num</th>\n",
       "      <td>8796.0</td>\n",
       "      <td>2.981469</td>\n",
       "      <td>1.145174</td>\n",
       "      <td>1.0</td>\n",
       "      <td>2.00</td>\n",
       "      <td>3.0</td>\n",
       "      <td>4.0</td>\n",
       "      <td>5.0</td>\n",
       "    </tr>\n",
       "    <tr>\n",
       "      <th>nutri-score_num</th>\n",
       "      <td>11663.0</td>\n",
       "      <td>3.008231</td>\n",
       "      <td>1.337019</td>\n",
       "      <td>1.0</td>\n",
       "      <td>2.00</td>\n",
       "      <td>3.0</td>\n",
       "      <td>4.0</td>\n",
       "      <td>5.0</td>\n",
       "    </tr>\n",
       "    <tr>\n",
       "      <th>nova_4_num</th>\n",
       "      <td>9091.0</td>\n",
       "      <td>3.374436</td>\n",
       "      <td>1.003153</td>\n",
       "      <td>1.0</td>\n",
       "      <td>3.00</td>\n",
       "      <td>4.0</td>\n",
       "      <td>4.0</td>\n",
       "      <td>4.0</td>\n",
       "    </tr>\n",
       "  </tbody>\n",
       "</table>\n",
       "</div>"
      ],
      "text/plain": [
       "                   count        mean         std  min    25%    50%    75%  \\\n",
       "energy           12970.0  267.259445  196.945570  0.0  76.25  257.0  420.0   \n",
       "saturated_fats   12865.0    4.481348    7.394765  0.0   0.30    1.5    5.5   \n",
       "sugars           12849.0   11.098541   16.222904  0.0   1.00    4.0   14.0   \n",
       "eco-score_num     8796.0    2.981469    1.145174  1.0   2.00    3.0    4.0   \n",
       "nutri-score_num  11663.0    3.008231    1.337019  1.0   2.00    3.0    4.0   \n",
       "nova_4_num        9091.0    3.374436    1.003153  1.0   3.00    4.0    4.0   \n",
       "\n",
       "                    max  \n",
       "energy           3440.0  \n",
       "saturated_fats     95.0  \n",
       "sugars            105.0  \n",
       "eco-score_num       5.0  \n",
       "nutri-score_num     5.0  \n",
       "nova_4_num          4.0  "
      ]
     },
     "execution_count": 65,
     "metadata": {},
     "output_type": "execute_result"
    }
   ],
   "source": [
    "food.describe().T"
   ]
  },
  {
   "cell_type": "code",
   "execution_count": 66,
   "id": "cdb11ebd",
   "metadata": {},
   "outputs": [
    {
     "data": {
      "image/png": "[encoded data removed]",
      "text/plain": [
       "<Figure size 500x200 with 1 Axes>"
      ]
     },
     "metadata": {},
     "output_type": "display_data"
    },
    {
     "data": {
      "image/png": "[encoded data removed]",
      "text/plain": [
       "<Figure size 500x200 with 1 Axes>"
      ]
     },
     "metadata": {},
     "output_type": "display_data"
    },
    {
     "data": {
      "image/png": "[encoded data removed]",
      "text/plain": [
       "<Figure size 500x200 with 1 Axes>"
      ]
     },
     "metadata": {},
     "output_type": "display_data"
    }
   ],
   "source": [
    "import pandas as pd\n",
    "import matplotlib.pyplot as plt\n",
    "\n",
    "columns = [\"energy\", \"saturated_fats\",\"sugars\"]\n",
    "k = 1.5\n",
    "\n",
    "for e in columns:\n",
    "    # Calculate the quartiles and IQR\n",
    "    Q1 = food[e].quantile(0.10)\n",
    "    Q3 = food[e].quantile(0.90)\n",
    "    IQR = Q3 - Q1\n",
    "\n",
    "    # Calculate the lower and upper fences\n",
    "    lower_fence = Q1 - k * IQR\n",
    "    upper_fence = Q3 + k * IQR\n",
    "\n",
    "    # Set up the boxplot\n",
    "    plt.figure(figsize=(5, 2))\n",
    "    plt.title(\"Boxplot with Outliers\")\n",
    "    plt.boxplot(food[e], vert=False, showfliers=False)  # Exclude default outliers\n",
    "\n",
    "    # Include the outliers in the boxplot\n",
    "    outliers = food[(food[e] < lower_fence) | (food[e] > upper_fence)]\n",
    "    plt.scatter(outliers[e], [1] * len(outliers), color='red', label='Outliers')\n",
    "    plt.title(e)\n",
    "    # Show the plot\n",
    "    plt.legend()\n",
    "    plt.show()"
   ]
  },
  {
   "cell_type": "code",
   "execution_count": 67,
   "id": "39ee0a5f",
   "metadata": {},
   "outputs": [
    {
     "data": {
      "text/html": [
       "<div>\n",
       "<style scoped>\n",
       "    .dataframe tbody tr th:only-of-type {\n",
       "        vertical-align: middle;\n",
       "    }\n",
       "\n",
       "    .dataframe tbody tr th {\n",
       "        vertical-align: top;\n",
       "    }\n",
       "\n",
       "    .dataframe thead th {\n",
       "        text-align: right;\n",
       "    }\n",
       "</style>\n",
       "<table border=\"1\" class=\"dataframe\">\n",
       "  <thead>\n",
       "    <tr style=\"text-align: right;\">\n",
       "      <th></th>\n",
       "      <th>product</th>\n",
       "      <th>weight</th>\n",
       "      <th>brands</th>\n",
       "      <th>nova_4</th>\n",
       "      <th>nutri-score</th>\n",
       "      <th>additives</th>\n",
       "      <th>eco-score</th>\n",
       "      <th>energy</th>\n",
       "      <th>saturated_fats</th>\n",
       "      <th>sugars</th>\n",
       "      <th>eco-score_num</th>\n",
       "      <th>nutri-score_num</th>\n",
       "      <th>nova_4_num</th>\n",
       "    </tr>\n",
       "  </thead>\n",
       "  <tbody>\n",
       "    <tr>\n",
       "      <th>1454</th>\n",
       "      <td>Helices con tomate y espinacas - Gallo</td>\n",
       "      <td>450g</td>\n",
       "      <td>Gallo</td>\n",
       "      <td>Alimentos no procesados o mínimamente procesados</td>\n",
       "      <td>A</td>\n",
       "      <td>NaN</td>\n",
       "      <td>NaN</td>\n",
       "      <td>3440.0</td>\n",
       "      <td>0.500</td>\n",
       "      <td>4.000</td>\n",
       "      <td>NaN</td>\n",
       "      <td>1.0</td>\n",
       "      <td>1.0</td>\n",
       "    </tr>\n",
       "    <tr>\n",
       "      <th>5319</th>\n",
       "      <td>María - Gullón</td>\n",
       "      <td>4 x 200 g</td>\n",
       "      <td>Gullón</td>\n",
       "      <td>Alimentos ultraprocesados</td>\n",
       "      <td>D</td>\n",
       "      <td>E223,E322,E322i,E502</td>\n",
       "      <td>C</td>\n",
       "      <td>1837.0</td>\n",
       "      <td>1.000</td>\n",
       "      <td>19.000</td>\n",
       "      <td>3.0</td>\n",
       "      <td>4.0</td>\n",
       "      <td>4.0</td>\n",
       "    </tr>\n",
       "    <tr>\n",
       "      <th>9819</th>\n",
       "      <td>RITZ - Nabisco</td>\n",
       "      <td>89 g</td>\n",
       "      <td>Nabisco</td>\n",
       "      <td>Alimentos ultraprocesados</td>\n",
       "      <td>E</td>\n",
       "      <td>E322,E322i,E341,E341i,E500,E500ii,E503,E503ii</td>\n",
       "      <td>C</td>\n",
       "      <td>1500.0</td>\n",
       "      <td>6.667</td>\n",
       "      <td>28.667</td>\n",
       "      <td>3.0</td>\n",
       "      <td>5.0</td>\n",
       "      <td>4.0</td>\n",
       "    </tr>\n",
       "    <tr>\n",
       "      <th>12262</th>\n",
       "      <td>Hojuela de avena de grano entero - Quaker</td>\n",
       "      <td>1.19kg</td>\n",
       "      <td>Quaker</td>\n",
       "      <td>NaN</td>\n",
       "      <td>A</td>\n",
       "      <td>NaN</td>\n",
       "      <td>NaN</td>\n",
       "      <td>1500.0</td>\n",
       "      <td>1.330</td>\n",
       "      <td>1.330</td>\n",
       "      <td>NaN</td>\n",
       "      <td>1.0</td>\n",
       "      <td>NaN</td>\n",
       "    </tr>\n",
       "    <tr>\n",
       "      <th>12889</th>\n",
       "      <td>5555</td>\n",
       "      <td>None</td>\n",
       "      <td>u, n, k, n, o, w, n</td>\n",
       "      <td>Alimentos ultraprocesados</td>\n",
       "      <td>NaN</td>\n",
       "      <td>E171,E905,E905c,E905ci</td>\n",
       "      <td>NaN</td>\n",
       "      <td>1297.0</td>\n",
       "      <td>19.000</td>\n",
       "      <td>16.000</td>\n",
       "      <td>NaN</td>\n",
       "      <td>NaN</td>\n",
       "      <td>4.0</td>\n",
       "    </tr>\n",
       "  </tbody>\n",
       "</table>\n",
       "</div>"
      ],
      "text/plain": [
       "                                         product     weight  \\\n",
       "1454      Helices con tomate y espinacas - Gallo       450g   \n",
       "5319                              María - Gullón  4 x 200 g   \n",
       "9819                              RITZ - Nabisco       89 g   \n",
       "12262  Hojuela de avena de grano entero - Quaker     1.19kg   \n",
       "12889                                       5555       None   \n",
       "\n",
       "                    brands                                            nova_4  \\\n",
       "1454                 Gallo  Alimentos no procesados o mínimamente procesados   \n",
       "5319                Gullón                         Alimentos ultraprocesados   \n",
       "9819               Nabisco                         Alimentos ultraprocesados   \n",
       "12262               Quaker                                               NaN   \n",
       "12889  u, n, k, n, o, w, n                         Alimentos ultraprocesados   \n",
       "\n",
       "      nutri-score                                      additives eco-score  \\\n",
       "1454            A                                            NaN       NaN   \n",
       "5319            D                           E223,E322,E322i,E502         C   \n",
       "9819            E  E322,E322i,E341,E341i,E500,E500ii,E503,E503ii         C   \n",
       "12262           A                                            NaN       NaN   \n",
       "12889         NaN                         E171,E905,E905c,E905ci       NaN   \n",
       "\n",
       "       energy  saturated_fats  sugars  eco-score_num  nutri-score_num  \\\n",
       "1454   3440.0           0.500   4.000            NaN              1.0   \n",
       "5319   1837.0           1.000  19.000            3.0              4.0   \n",
       "9819   1500.0           6.667  28.667            3.0              5.0   \n",
       "12262  1500.0           1.330   1.330            NaN              1.0   \n",
       "12889  1297.0          19.000  16.000            NaN              NaN   \n",
       "\n",
       "       nova_4_num  \n",
       "1454          1.0  \n",
       "5319          4.0  \n",
       "9819          4.0  \n",
       "12262         NaN  \n",
       "12889         4.0  "
      ]
     },
     "execution_count": 67,
     "metadata": {},
     "output_type": "execute_result"
    }
   ],
   "source": [
    "food[food['energy']>1250]"
   ]
  },
  {
   "cell_type": "code",
   "execution_count": 68,
   "id": "9f0eb0e1",
   "metadata": {
    "scrolled": true
   },
   "outputs": [
    {
     "data": {
      "text/plain": [
       "343                Mantequilla - CENTRAL LECHERA ASTURIANA\n",
       "471                                    Mantequilla sin sal\n",
       "638            Mantequilla grano de sal de mar - Président\n",
       "856                                       Butter - Milbona\n",
       "1246                                     Pilos unt sarat -\n",
       "1419                  Mantequilla con sal tarrina - Primor\n",
       "1825                  Huile de coco vierge bio - Vita d'or\n",
       "2380                                   Mantequilla con sal\n",
       "2381               Mantequilla Sin Sal Añadida - Hacendado\n",
       "2873                                Kokosnussöl - VITAD'OR\n",
       "3097                   Mantequilla sin lactosa - Hacendado\n",
       "3409                              Coco rallado - Hacendado\n",
       "3779                                    Consum Mantequilla\n",
       "3941         Mantega Cadi D. o. p Pastilla 125 GRS. C / 12\n",
       "4159                              Gold Butter - Bayernland\n",
       "4302                            Mantequilla - Casa Azzurra\n",
       "4742                                 Coco chips - Rapunzel\n",
       "4745                           Salted butter - Oldenburger\n",
       "5151                        Día Láctea Mantequilla con sal\n",
       "5162                             Aceite de Coco Virgen Eco\n",
       "5211        Mantequilla con sal fácil de untar - Président\n",
       "5322               MANTEQUILLA R / P PASTILLA - Reny Picot\n",
       "5892                           Beurre doux bio - Président\n",
       "5940        Beurrier saveur gastronomique doux - Président\n",
       "6039                   Aceite.Oleo coco virgen - Hacendado\n",
       "6253               Mantequilla sin sal añadida - Hacendado\n",
       "6310                       Mantequilla con sal - Hacendado\n",
       "6567                 Mantequilla sin sal añadida - MILBONA\n",
       "6609                Mantequilla fácil de untar - Président\n",
       "6810                               Mantequilla - Carrefour\n",
       "7745                               Mantequilla tradicional\n",
       "8360                   Oleo Extra Virgem De Coco - origens\n",
       "8417                           Mantequilla pura de Irlanda\n",
       "8728               Aceite de coco virgen extra - Nat Sanno\n",
       "9305     Mantequilla tradicional con sal tarrina - Cent...\n",
       "9369                            Aceite de coco - San Lucas\n",
       "9484                     Mantequilla sin sal - Oldenburger\n",
       "9760                                        Aceite de coco\n",
       "10238                                    Mantega - Bonpreu\n",
       "10444                                          Mantequilla\n",
       "11175                         Mantequilla original tarrina\n",
       "11259                        Pure irish butter - Kerrygold\n",
       "11269              Mantequilla tarrina sin sal - Carrefour\n",
       "11332                      Mantequilla Sin Sal - Président\n",
       "11605          Mantequilla tradicional con sal - Lorenzana\n",
       "11927                          Mantequilla con sal - Arias\n",
       "12186             Mantequilla pastilla sin sal - Carrefour\n",
       "12626                             Mantequilla de los Alpes\n",
       "12634    Mantequilla tradicional Rulo - central lechera...\n",
       "12679                  Mantequilla tradicional sin lactosa\n",
       "12759              Mantequilla pura de Irlanda - Kerrygold\n",
       "13053    Mantequilla tradicional - Central Lechera Astu...\n",
       "13095                              Mantequilla - Lorenzana\n",
       "13378            Mantequ sin sal soria - De nuestra tierra\n",
       "13602                      Aceite de coco virgen biológico\n",
       "13741             Mantequilla pastilla con sal - Carrefour\n",
       "13960                   Mantequilla Arias S / Sal Pastilla\n",
       "14189                            Óleo de coco virgen bio -\n",
       "14653                                Coco rallado - Vahiné\n",
       "14717                                 Mantequilla - Lurpak\n",
       "14722                Mantequilla de leche de cabra con sal\n",
       "Name: product, dtype: object"
      ]
     },
     "execution_count": 68,
     "metadata": {},
     "output_type": "execute_result"
    }
   ],
   "source": [
    "food[food['saturated_fats']>50]['product']"
   ]
  },
  {
   "cell_type": "markdown",
   "id": "a730abb5",
   "metadata": {},
   "source": [
    "#### Since all these products are butters, they are not outliers. We will keep them.  "
   ]
  },
  {
   "cell_type": "code",
   "execution_count": 69,
   "id": "2473afa5",
   "metadata": {},
   "outputs": [],
   "source": [
    "#food.dropna(thresh=12, inplace=True)"
   ]
  },
  {
   "cell_type": "code",
   "execution_count": 70,
   "id": "ada9f4d5",
   "metadata": {},
   "outputs": [
    {
     "name": "stderr",
     "output_type": "stream",
     "text": [
      "/var/folders/x2/68m0f_l16x5bzxl95_y3qn3m0000gp/T/ipykernel_97196/1888934596.py:1: FutureWarning: The default value of numeric_only in DataFrame.corr is deprecated. In a future version, it will default to False. Select only valid columns or specify the value of numeric_only to silence this warning.\n",
      "  food.corr()\n"
     ]
    },
    {
     "data": {
      "text/html": [
       "<div>\n",
       "<style scoped>\n",
       "    .dataframe tbody tr th:only-of-type {\n",
       "        vertical-align: middle;\n",
       "    }\n",
       "\n",
       "    .dataframe tbody tr th {\n",
       "        vertical-align: top;\n",
       "    }\n",
       "\n",
       "    .dataframe thead th {\n",
       "        text-align: right;\n",
       "    }\n",
       "</style>\n",
       "<table border=\"1\" class=\"dataframe\">\n",
       "  <thead>\n",
       "    <tr style=\"text-align: right;\">\n",
       "      <th></th>\n",
       "      <th>energy</th>\n",
       "      <th>saturated_fats</th>\n",
       "      <th>sugars</th>\n",
       "      <th>eco-score_num</th>\n",
       "      <th>nutri-score_num</th>\n",
       "      <th>nova_4_num</th>\n",
       "    </tr>\n",
       "  </thead>\n",
       "  <tbody>\n",
       "    <tr>\n",
       "      <th>energy</th>\n",
       "      <td>1.000000</td>\n",
       "      <td>0.552363</td>\n",
       "      <td>0.314810</td>\n",
       "      <td>0.196863</td>\n",
       "      <td>0.433311</td>\n",
       "      <td>0.044356</td>\n",
       "    </tr>\n",
       "    <tr>\n",
       "      <th>saturated_fats</th>\n",
       "      <td>0.552363</td>\n",
       "      <td>1.000000</td>\n",
       "      <td>0.136420</td>\n",
       "      <td>0.283849</td>\n",
       "      <td>0.498101</td>\n",
       "      <td>0.048565</td>\n",
       "    </tr>\n",
       "    <tr>\n",
       "      <th>sugars</th>\n",
       "      <td>0.314810</td>\n",
       "      <td>0.136420</td>\n",
       "      <td>1.000000</td>\n",
       "      <td>0.044583</td>\n",
       "      <td>0.418079</td>\n",
       "      <td>0.162759</td>\n",
       "    </tr>\n",
       "    <tr>\n",
       "      <th>eco-score_num</th>\n",
       "      <td>0.196863</td>\n",
       "      <td>0.283849</td>\n",
       "      <td>0.044583</td>\n",
       "      <td>1.000000</td>\n",
       "      <td>0.296939</td>\n",
       "      <td>0.009933</td>\n",
       "    </tr>\n",
       "    <tr>\n",
       "      <th>nutri-score_num</th>\n",
       "      <td>0.433311</td>\n",
       "      <td>0.498101</td>\n",
       "      <td>0.418079</td>\n",
       "      <td>0.296939</td>\n",
       "      <td>1.000000</td>\n",
       "      <td>0.327330</td>\n",
       "    </tr>\n",
       "    <tr>\n",
       "      <th>nova_4_num</th>\n",
       "      <td>0.044356</td>\n",
       "      <td>0.048565</td>\n",
       "      <td>0.162759</td>\n",
       "      <td>0.009933</td>\n",
       "      <td>0.327330</td>\n",
       "      <td>1.000000</td>\n",
       "    </tr>\n",
       "  </tbody>\n",
       "</table>\n",
       "</div>"
      ],
      "text/plain": [
       "                   energy  saturated_fats    sugars  eco-score_num  \\\n",
       "energy           1.000000        0.552363  0.314810       0.196863   \n",
       "saturated_fats   0.552363        1.000000  0.136420       0.283849   \n",
       "sugars           0.314810        0.136420  1.000000       0.044583   \n",
       "eco-score_num    0.196863        0.283849  0.044583       1.000000   \n",
       "nutri-score_num  0.433311        0.498101  0.418079       0.296939   \n",
       "nova_4_num       0.044356        0.048565  0.162759       0.009933   \n",
       "\n",
       "                 nutri-score_num  nova_4_num  \n",
       "energy                  0.433311    0.044356  \n",
       "saturated_fats          0.498101    0.048565  \n",
       "sugars                  0.418079    0.162759  \n",
       "eco-score_num           0.296939    0.009933  \n",
       "nutri-score_num         1.000000    0.327330  \n",
       "nova_4_num              0.327330    1.000000  "
      ]
     },
     "execution_count": 70,
     "metadata": {},
     "output_type": "execute_result"
    }
   ],
   "source": [
    "food.corr()"
   ]
  },
  {
   "cell_type": "code",
   "execution_count": 71,
   "id": "d6a269a2",
   "metadata": {},
   "outputs": [
    {
     "data": {
      "image/png": "[encoded data removed]",
      "text/plain": [
       "<Figure size 500x200 with 1 Axes>"
      ]
     },
     "metadata": {},
     "output_type": "display_data"
    }
   ],
   "source": [
    "plt.figure(figsize=(5, 2))\n",
    "plt.boxplot(food['energy'])\n",
    "plt.ylim(bottom=0, top=1900)  # Adjust the limits as needed\n",
    "plt.show()"
   ]
  },
  {
   "cell_type": "code",
   "execution_count": 72,
   "id": "5f97ac9d",
   "metadata": {},
   "outputs": [
    {
     "name": "stdout",
     "output_type": "stream",
     "text": [
      "<class 'pandas.core.frame.DataFrame'>\n",
      "Int64Index: 13774 entries, 0 to 14799\n",
      "Data columns (total 13 columns):\n",
      " #   Column           Non-Null Count  Dtype  \n",
      "---  ------           --------------  -----  \n",
      " 0   product          13774 non-null  object \n",
      " 1   weight           12972 non-null  object \n",
      " 2   brands           13774 non-null  object \n",
      " 3   nova_4           9091 non-null   object \n",
      " 4   nutri-score      11663 non-null  object \n",
      " 5   additives        5691 non-null   object \n",
      " 6   eco-score        8796 non-null   object \n",
      " 7   energy           12970 non-null  float64\n",
      " 8   saturated_fats   12865 non-null  float64\n",
      " 9   sugars           12849 non-null  float64\n",
      " 10  eco-score_num    8796 non-null   float64\n",
      " 11  nutri-score_num  11663 non-null  float64\n",
      " 12  nova_4_num       9091 non-null   float64\n",
      "dtypes: float64(6), object(7)\n",
      "memory usage: 1.5+ MB\n"
     ]
    }
   ],
   "source": [
    "food.info()"
   ]
  },
  {
   "cell_type": "code",
   "execution_count": null,
   "id": "8b87737d",
   "metadata": {},
   "outputs": [],
   "source": []
  }
 ],
 "metadata": {
  "kernelspec": {
   "display_name": "Python 3 (ipykernel)",
   "language": "python",
   "name": "python3"
  },
  "language_info": {
   "codemirror_mode": {
    "name": "ipython",
    "version": 3
   },
   "file_extension": ".py",
   "mimetype": "text/x-python",
   "name": "python",
   "nbconvert_exporter": "python",
   "pygments_lexer": "ipython3",
   "version": "3.10.9"
  }
 },
 "nbformat": 4,
 "nbformat_minor": 5
}
