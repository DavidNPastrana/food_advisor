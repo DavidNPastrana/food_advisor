{
 "cells": [
  {
   "cell_type": "markdown",
   "id": "f441a7fa",
   "metadata": {},
   "source": [
    "# Creating new DataFrames for the Database"
   ]
  },
  {
   "cell_type": "markdown",
   "id": "3f1131ef",
   "metadata": {},
   "source": [
    "## Import the necessary libraries"
   ]
  },
  {
   "cell_type": "code",
   "execution_count": 1,
   "id": "355eefc3",
   "metadata": {},
   "outputs": [],
   "source": [
    "import pandas as pd"
   ]
  },
  {
   "cell_type": "markdown",
   "id": "0f479546",
   "metadata": {},
   "source": [
    "## Create the new DataFrame \"nutri_core\""
   ]
  },
  {
   "cell_type": "code",
   "execution_count": 2,
   "id": "fb8f72da",
   "metadata": {},
   "outputs": [],
   "source": [
    "nutri_score = {\n",
    "    'nutri_score_id': ['A', 'B', 'C', 'D', 'E'],\n",
    "    'nutri_score_num': [1, 2, 3, 4, 5],\n",
    "    'description': ['Very Healthy', 'Healthy', 'Average', 'Unhealthy', 'Very Unhealthy']\n",
    "}\n",
    "\n",
    "nutri_score = pd.DataFrame(nutri_score)"
   ]
  },
  {
   "cell_type": "code",
   "execution_count": 3,
   "id": "5b19449c",
   "metadata": {},
   "outputs": [
    {
     "data": {
      "text/html": [
       "<div>\n",
       "<style scoped>\n",
       "    .dataframe tbody tr th:only-of-type {\n",
       "        vertical-align: middle;\n",
       "    }\n",
       "\n",
       "    .dataframe tbody tr th {\n",
       "        vertical-align: top;\n",
       "    }\n",
       "\n",
       "    .dataframe thead th {\n",
       "        text-align: right;\n",
       "    }\n",
       "</style>\n",
       "<table border=\"1\" class=\"dataframe\">\n",
       "  <thead>\n",
       "    <tr style=\"text-align: right;\">\n",
       "      <th></th>\n",
       "      <th>nutri_score_id</th>\n",
       "      <th>nutri_score_num</th>\n",
       "      <th>description</th>\n",
       "    </tr>\n",
       "  </thead>\n",
       "  <tbody>\n",
       "    <tr>\n",
       "      <th>0</th>\n",
       "      <td>A</td>\n",
       "      <td>1</td>\n",
       "      <td>Very Healthy</td>\n",
       "    </tr>\n",
       "    <tr>\n",
       "      <th>1</th>\n",
       "      <td>B</td>\n",
       "      <td>2</td>\n",
       "      <td>Healthy</td>\n",
       "    </tr>\n",
       "    <tr>\n",
       "      <th>2</th>\n",
       "      <td>C</td>\n",
       "      <td>3</td>\n",
       "      <td>Average</td>\n",
       "    </tr>\n",
       "    <tr>\n",
       "      <th>3</th>\n",
       "      <td>D</td>\n",
       "      <td>4</td>\n",
       "      <td>Unhealthy</td>\n",
       "    </tr>\n",
       "    <tr>\n",
       "      <th>4</th>\n",
       "      <td>E</td>\n",
       "      <td>5</td>\n",
       "      <td>Very Unhealthy</td>\n",
       "    </tr>\n",
       "  </tbody>\n",
       "</table>\n",
       "</div>"
      ],
      "text/plain": [
       "  nutri_score_id  nutri_score_num     description\n",
       "0              A                1    Very Healthy\n",
       "1              B                2         Healthy\n",
       "2              C                3         Average\n",
       "3              D                4       Unhealthy\n",
       "4              E                5  Very Unhealthy"
      ]
     },
     "execution_count": 3,
     "metadata": {},
     "output_type": "execute_result"
    }
   ],
   "source": [
    "nutri_score"
   ]
  },
  {
   "cell_type": "markdown",
   "id": "3d7cb2ef",
   "metadata": {},
   "source": [
    "## Create the new DataFrame \"nova_score\""
   ]
  },
  {
   "cell_type": "code",
   "execution_count": 4,
   "id": "221d2798",
   "metadata": {},
   "outputs": [
    {
     "data": {
      "text/html": [
       "<div>\n",
       "<style scoped>\n",
       "    .dataframe tbody tr th:only-of-type {\n",
       "        vertical-align: middle;\n",
       "    }\n",
       "\n",
       "    .dataframe tbody tr th {\n",
       "        vertical-align: top;\n",
       "    }\n",
       "\n",
       "    .dataframe thead th {\n",
       "        text-align: right;\n",
       "    }\n",
       "</style>\n",
       "<table border=\"1\" class=\"dataframe\">\n",
       "  <thead>\n",
       "    <tr style=\"text-align: right;\">\n",
       "      <th></th>\n",
       "      <th>nova_score_num</th>\n",
       "      <th>description</th>\n",
       "    </tr>\n",
       "  </thead>\n",
       "  <tbody>\n",
       "    <tr>\n",
       "      <th>0</th>\n",
       "      <td>4</td>\n",
       "      <td>Ultra-processed foods</td>\n",
       "    </tr>\n",
       "    <tr>\n",
       "      <th>1</th>\n",
       "      <td>3</td>\n",
       "      <td>Processed foods</td>\n",
       "    </tr>\n",
       "    <tr>\n",
       "      <th>2</th>\n",
       "      <td>2</td>\n",
       "      <td>Processed culinary ingredients</td>\n",
       "    </tr>\n",
       "    <tr>\n",
       "      <th>3</th>\n",
       "      <td>1</td>\n",
       "      <td>Unprocessed or minimally processed foods</td>\n",
       "    </tr>\n",
       "  </tbody>\n",
       "</table>\n",
       "</div>"
      ],
      "text/plain": [
       "   nova_score_num                               description\n",
       "0               4                     Ultra-processed foods\n",
       "1               3                           Processed foods\n",
       "2               2            Processed culinary ingredients\n",
       "3               1  Unprocessed or minimally processed foods"
      ]
     },
     "execution_count": 4,
     "metadata": {},
     "output_type": "execute_result"
    }
   ],
   "source": [
    "nova_score = {\n",
    "    'nova_score_num': [4, 3, 2, 1],\n",
    "    'description': ['Ultra-processed foods', 'Processed foods', 'Processed culinary ingredients', 'Unprocessed or minimally processed foods']\n",
    "}\n",
    "\n",
    "nova_score = pd.DataFrame(nova_score)\n",
    "\n",
    "nova_score\n"
   ]
  },
  {
   "cell_type": "markdown",
   "id": "a3d7be19",
   "metadata": {},
   "source": [
    "## Create the new DataFrame \"eco_score\""
   ]
  },
  {
   "cell_type": "code",
   "execution_count": 5,
   "id": "77757b67",
   "metadata": {
    "scrolled": true
   },
   "outputs": [
    {
     "data": {
      "text/html": [
       "<div>\n",
       "<style scoped>\n",
       "    .dataframe tbody tr th:only-of-type {\n",
       "        vertical-align: middle;\n",
       "    }\n",
       "\n",
       "    .dataframe tbody tr th {\n",
       "        vertical-align: top;\n",
       "    }\n",
       "\n",
       "    .dataframe thead th {\n",
       "        text-align: right;\n",
       "    }\n",
       "</style>\n",
       "<table border=\"1\" class=\"dataframe\">\n",
       "  <thead>\n",
       "    <tr style=\"text-align: right;\">\n",
       "      <th></th>\n",
       "      <th>eco_score_id</th>\n",
       "      <th>eco_score_num</th>\n",
       "      <th>description</th>\n",
       "    </tr>\n",
       "  </thead>\n",
       "  <tbody>\n",
       "    <tr>\n",
       "      <th>0</th>\n",
       "      <td>A</td>\n",
       "      <td>1</td>\n",
       "      <td>weak environmental impact</td>\n",
       "    </tr>\n",
       "    <tr>\n",
       "      <th>1</th>\n",
       "      <td>B</td>\n",
       "      <td>2</td>\n",
       "      <td>moderate environmental impact</td>\n",
       "    </tr>\n",
       "    <tr>\n",
       "      <th>2</th>\n",
       "      <td>C</td>\n",
       "      <td>3</td>\n",
       "      <td>average environmental impact</td>\n",
       "    </tr>\n",
       "    <tr>\n",
       "      <th>3</th>\n",
       "      <td>D</td>\n",
       "      <td>4</td>\n",
       "      <td>strong environmental impact</td>\n",
       "    </tr>\n",
       "    <tr>\n",
       "      <th>4</th>\n",
       "      <td>E</td>\n",
       "      <td>5</td>\n",
       "      <td>very strong environmental impact</td>\n",
       "    </tr>\n",
       "  </tbody>\n",
       "</table>\n",
       "</div>"
      ],
      "text/plain": [
       "  eco_score_id  eco_score_num                       description\n",
       "0            A              1         weak environmental impact\n",
       "1            B              2     moderate environmental impact\n",
       "2            C              3      average environmental impact\n",
       "3            D              4       strong environmental impact\n",
       "4            E              5  very strong environmental impact"
      ]
     },
     "execution_count": 5,
     "metadata": {},
     "output_type": "execute_result"
    }
   ],
   "source": [
    "eco_score = {\n",
    "    'eco_score_id': ['A', 'B', 'C', 'D',\"E\"],\n",
    "    'eco_score_num': [1, 2, 3, 4, 5],\n",
    "    'description': [\"weak environmental impact\", \"moderate environmental impact\", \"average environmental impact\", \"strong environmental impact\", \"very strong environmental impact\"]\n",
    "}\n",
    "\n",
    "eco_score = pd.DataFrame(eco_score)\n",
    "\n",
    "eco_score"
   ]
  },
  {
   "cell_type": "markdown",
   "id": "1243dfe3",
   "metadata": {},
   "source": [
    "## Export the tables as .csv"
   ]
  },
  {
   "cell_type": "code",
   "execution_count": 6,
   "id": "a8f9d8f8",
   "metadata": {},
   "outputs": [],
   "source": [
    "#nutri_score.to_csv(\"/Users/david/Desktop/IronHack/Projects/food_advisor/cleaned/nutri_score.csv\", index=False)\n",
    "#eco_score.to_csv(\"/Users/david/Desktop/IronHack/Projects/food_advisor/cleaned/eco_score.csv\", index=False)\n",
    "#nova_score.to_csv(\"/Users/david/Desktop/IronHack/Projects/food_advisor/cleaned/nova_score.csv\", index=False)"
   ]
  },
  {
   "cell_type": "code",
   "execution_count": null,
   "id": "c7e9cdda",
   "metadata": {},
   "outputs": [],
   "source": []
  }
 ],
 "metadata": {
  "kernelspec": {
   "display_name": "Python 3 (ipykernel)",
   "language": "python",
   "name": "python3"
  },
  "language_info": {
   "codemirror_mode": {
    "name": "ipython",
    "version": 3
   },
   "file_extension": ".py",
   "mimetype": "text/x-python",
   "name": "python",
   "nbconvert_exporter": "python",
   "pygments_lexer": "ipython3",
   "version": "3.10.9"
  }
 },
 "nbformat": 4,
 "nbformat_minor": 5
}
